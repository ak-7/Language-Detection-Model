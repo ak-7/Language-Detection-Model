{
 "cells": [
  {
   "cell_type": "code",
   "execution_count": 1,
   "metadata": {
    "collapsed": false,
    "deletable": true,
    "editable": true
   },
   "outputs": [
    {
     "name": "stderr",
     "output_type": "stream",
     "text": [
      "Using TensorFlow backend.\n",
      "C:\\Users\\khedi\\Anaconda3\\lib\\site-packages\\sklearn\\cross_validation.py:44: DeprecationWarning: This module was deprecated in version 0.18 in favor of the model_selection module into which all the refactored classes and functions are moved. Also note that the interface of the new CV iterators are different from that of this module. This module will be removed in 0.20.\n",
      "  \"This module will be removed in 0.20.\", DeprecationWarning)\n"
     ]
    }
   ],
   "source": [
    "from __future__ import print_function\n",
    "from keras.models import Sequential\n",
    "from keras.layers import Dense, Activation\n",
    "from keras.layers import LSTM\n",
    "from keras.optimizers import RMSprop\n",
    "from keras.optimizers import Adagrad\n",
    "from keras.utils.data_utils import get_file\n",
    "import numpy as np\n",
    "import random\n",
    "import sys\n",
    "from sklearn.cross_validation import train_test_split"
   ]
  },
  {
   "cell_type": "code",
   "execution_count": 2,
   "metadata": {
    "collapsed": false,
    "deletable": true,
    "editable": true
   },
   "outputs": [
    {
     "name": "stdout",
     "output_type": "stream",
     "text": [
      "corpus length: 10746\n",
      "corpus length: 12009\n"
     ]
    }
   ],
   "source": [
    "with open('subset1/eng.txt','rt') as f:\n",
    "    text1 = f.read().lower()\n",
    "with open('subset1/frn.txt','rt') as f:\n",
    "    text2 = f.read().lower()\n",
    "print('corpus length:', len(text1))\n",
    "print('corpus length:', len(text2))\n"
   ]
  },
  {
   "cell_type": "code",
   "execution_count": 3,
   "metadata": {
    "collapsed": false,
    "deletable": true,
    "editable": true
   },
   "outputs": [],
   "source": [
    "y1=np.tile(0,len(text1))\n",
    "y2 = np.tile(1,len(text2))\n",
    "x_train_eng, x_test_eng, y_train_eng, y_test_eng = train_test_split(text1, y1, test_size=0.2)\n",
    "x_train_frn, x_test_frn, y_train_frn, y_test_frn = train_test_split(text2, y2, test_size=0.2)"
   ]
  },
  {
   "cell_type": "code",
   "execution_count": 4,
   "metadata": {
    "collapsed": false,
    "deletable": true,
    "editable": true
   },
   "outputs": [
    {
     "name": "stdout",
     "output_type": "stream",
     "text": [
      "8596 2150\n"
     ]
    }
   ],
   "source": [
    "print(len(x_train_eng), len(x_test_eng))"
   ]
  },
  {
   "cell_type": "code",
   "execution_count": 5,
   "metadata": {
    "collapsed": false,
    "deletable": true,
    "editable": true
   },
   "outputs": [
    {
     "name": "stdout",
     "output_type": "stream",
     "text": [
      "total chars: 44\n",
      "nb sequences: 8556\n",
      "nb sequences: 107\n",
      "Vectorization...\n",
      "Build model...\n"
     ]
    }
   ],
   "source": [
    "#generating english model\n",
    "chars_eng = sorted(list(set(text1)))\n",
    "chars_fr = sorted(list(set(text2)))\n",
    "chars = sorted(list(set(chars_eng + chars_fr)))\n",
    "print('total chars:', len(chars))\n",
    "char_indices = dict((c, i) for i, c in enumerate(chars))\n",
    "indices_char = dict((i, c) for i, c in enumerate(chars))\n",
    "\n",
    "\n",
    "##training set prepare\n",
    "maxlen= 40\n",
    "step = 1\n",
    "sentences_eng_tr = []\n",
    "next_chars_eng_tr = []\n",
    "for i in range(0, int(0.8*len(text1)) - maxlen, step):\n",
    "    sentences_eng_tr.append(text1[i: i + maxlen])\n",
    "    next_chars_eng_tr.append(text1[i + maxlen])\n",
    "\n",
    "print('nb sequences:', len(sentences_eng_tr))\n",
    "##test set prepare\n",
    "sentences_eng_test = []\n",
    "string_eng_test= []\n",
    "step_test=20\n",
    "for i in range(int(0.8*len(text1)) - maxlen,len(text1) - maxlen-step_test, step_test):\n",
    "    sentences_eng_test.append(text1[i: i + maxlen])\n",
    "    string_eng_test.append(text1[i+maxlen:i+maxlen+5])\n",
    "print('nb sequences:', len(sentences_eng_test))\n",
    "\n",
    "print('Vectorization...')\n",
    "X_eng = np.zeros((len(sentences_eng_tr), maxlen, len(chars)), dtype=np.bool)\n",
    "y_eng = np.zeros((len(sentences_eng_tr), len(chars)), dtype=np.bool)\n",
    "for i, sentence in enumerate(sentences_eng_tr):\n",
    "    for t, char in enumerate(sentence):\n",
    "        X_eng[i, t, char_indices[char]] = 1\n",
    "    y_eng[i, char_indices[next_chars_eng_tr[i]]] = 1\n",
    "\n",
    "\n",
    "# build the model: a single LSTM\n",
    "print('Build model...')\n",
    "model = Sequential()\n",
    "model.add(LSTM(128, input_shape=(maxlen, len(chars))))\n",
    "model.add(Dense(len(chars)))\n",
    "model.add(Activation('softmax'))\n",
    "\n",
    "\n",
    "optimizer =Adagrad(lr=0.01, epsilon=1e-08, decay=0.0)\n",
    "model.compile(loss='categorical_crossentropy', optimizer=optimizer, metrics = ['accuracy'])"
   ]
  },
  {
   "cell_type": "code",
   "execution_count": 6,
   "metadata": {
    "collapsed": false,
    "deletable": true,
    "editable": true
   },
   "outputs": [
    {
     "name": "stdout",
     "output_type": "stream",
     "text": [
      "nb sequences: 9567\n",
      "nb sequences: 121\n",
      "Vectorization...\n",
      "Build model...\n"
     ]
    }
   ],
   "source": [
    "#generating french model\n",
    "\n",
    "\n",
    "\n",
    "##training set prepare\n",
    "maxlen= 40\n",
    "step = 1\n",
    "sentences_fr_tr = []\n",
    "next_chars_fr_tr = []\n",
    "for i in range(0, int(0.8*len(text2)) - maxlen, step):\n",
    "    sentences_fr_tr.append(text2[i: i + maxlen])\n",
    "    next_chars_fr_tr.append(text2[i + maxlen])\n",
    "\n",
    "print('nb sequences:', len(sentences_fr_tr))\n",
    "##test set prepare\n",
    "sentences_fr_test = []\n",
    "string_fr_test= []\n",
    "step_test=20\n",
    "for i in range(int(0.8*len(text2)) - maxlen,len(text2) - maxlen, step_test):\n",
    "    sentences_fr_test.append(text2[i: i + maxlen])\n",
    "    string_fr_test.append(text2[i+maxlen:i+maxlen+5])\n",
    "print('nb sequences:', len(sentences_fr_test))\n",
    "\n",
    "print('Vectorization...')\n",
    "X_fr = np.zeros((len(sentences_fr_tr), maxlen, len(chars)), dtype=np.bool)\n",
    "y_fr = np.zeros((len(sentences_fr_tr), len(chars)), dtype=np.bool)\n",
    "for i, sentence in enumerate(sentences_fr_tr):\n",
    "    for t, char in enumerate(sentence):\n",
    "        X_fr[i, t, char_indices[char]] = 1\n",
    "    y_fr[i, char_indices[next_chars_fr_tr[i]]] = 1\n",
    "\n",
    "\n",
    "# build the model: a single LSTM\n",
    "print('Build model...')\n",
    "model2 = Sequential()\n",
    "model2.add(LSTM(128, input_shape=(maxlen, len(chars))))\n",
    "model2.add(Dense(len(chars)))\n",
    "model2.add(Activation('softmax'))\n",
    "optimizer =Adagrad(lr=0.01, epsilon=1e-08, decay=0.0)\n",
    "model2.compile(loss='categorical_crossentropy', optimizer=optimizer, metrics=[\"accuracy\"])"
   ]
  },
  {
   "cell_type": "code",
   "execution_count": 7,
   "metadata": {
    "collapsed": true,
    "deletable": true,
    "editable": true
   },
   "outputs": [],
   "source": [
    "def vectorize(sentence, chars , char_indices ):\n",
    "    X = np.zeros((1, maxlen, len(chars)), dtype=np.bool)\n",
    "    for t, char in enumerate(sentence):\n",
    "        X[0, t, char_indices[char]] = 1\n",
    "    return X"
   ]
  },
  {
   "cell_type": "code",
   "execution_count": 8,
   "metadata": {
    "collapsed": true,
    "deletable": true,
    "editable": true
   },
   "outputs": [],
   "source": [
    "def get_scores_for_model(seed,next_string, model,chars,char_indices):\n",
    "    sentence =seed\n",
    "    prob_char=0.0\n",
    "    x = np.zeros((5, maxlen, len(chars)))\n",
    "\n",
    "    x[0] = vectorize(seed,chars,char_indices)\n",
    "    x[1] = vectorize(seed[1:]+next_string[:1],chars,char_indices)\n",
    "    x[2] = vectorize(seed[2:]+next_string[:2],chars,char_indices)\n",
    "    x[3] = vectorize(seed[3:]+next_string[:3],chars,char_indices)\n",
    "    x[4] = vectorize(seed[4:]+next_string[:4],chars,char_indices)\n",
    "    probs_term = []\n",
    "    for i in range(5):\n",
    "        preds = model.predict(x[i].reshape(1,maxlen,44), verbose=0)[0]\n",
    "        preds = np.log(preds)\n",
    "        probs_term.append(preds[char_indices[next_string[i]]])\n",
    "\n",
    "    return probs_term\n",
    "    '''\n",
    "    prob_list.append(term_probs)\n",
    "    \n",
    "    for i in range(5):\n",
    "        x = np.zeros((1, len(seed), len(chars)))\n",
    "        for t, char in enumerate(sentence):\n",
    "            x[0, t, char_indices[char]] = 1.\n",
    "        preds = model.predict(x, verbose=0)[0]\n",
    "        #print('Preds', preds)\n",
    "        diversity = 1.0\n",
    "        #print(seed, \"\\n\", next_string)\n",
    "        prob_char = prob_char + sample(preds, diversity,next_string[i],char_indices)\n",
    "        sentence = sentence[1:] + next_string[i]\n",
    "    '''\n",
    "    return np.exp(prob_char)\n",
    "        "
   ]
  },
  {
   "cell_type": "code",
   "execution_count": 9,
   "metadata": {
    "collapsed": false
   },
   "outputs": [
    {
     "name": "stdout",
     "output_type": "stream",
     "text": [
      "\n",
      "Iteration 1\n",
      "Epoch 1/20\n",
      "8556/8556 [==============================] - 15s - loss: 2.9451 - acc: 0.1641    \n",
      "Epoch 2/20\n",
      "8556/8556 [==============================] - 15s - loss: 2.7900 - acc: 0.1964    \n",
      "Epoch 3/20\n",
      "8556/8556 [==============================] - 15s - loss: 2.6063 - acc: 0.2715    \n",
      "Epoch 4/20\n",
      "8556/8556 [==============================] - 15s - loss: 2.4557 - acc: 0.3138    \n",
      "Epoch 5/20\n",
      "8556/8556 [==============================] - 16s - loss: 2.3596 - acc: 0.3288    \n",
      "Epoch 6/20\n",
      "8556/8556 [==============================] - 15s - loss: 2.2881 - acc: 0.3482    \n",
      "Epoch 7/20\n",
      "8556/8556 [==============================] - 16s - loss: 2.2320 - acc: 0.3594    \n",
      "Epoch 8/20\n",
      "8556/8556 [==============================] - 16s - loss: 2.1895 - acc: 0.3768    \n",
      "Epoch 9/20\n",
      "8556/8556 [==============================] - 15s - loss: 2.1502 - acc: 0.3900    \n",
      "Epoch 10/20\n",
      "8556/8556 [==============================] - 15s - loss: 2.1189 - acc: 0.3988    \n",
      "Epoch 11/20\n",
      "8556/8556 [==============================] - 15s - loss: 2.0888 - acc: 0.4116    \n",
      "Epoch 12/20\n",
      "8556/8556 [==============================] - 14s - loss: 2.0574 - acc: 0.4236    \n",
      "Epoch 13/20\n",
      "8556/8556 [==============================] - 16s - loss: 2.0339 - acc: 0.4291    \n",
      "Epoch 14/20\n",
      "8556/8556 [==============================] - 16s - loss: 2.0065 - acc: 0.4375    \n",
      "Epoch 15/20\n",
      "8556/8556 [==============================] - 16s - loss: 1.9852 - acc: 0.4423    \n",
      "Epoch 16/20\n",
      "8556/8556 [==============================] - 16s - loss: 1.9614 - acc: 0.4522    \n",
      "Epoch 17/20\n",
      "8556/8556 [==============================] - 16s - loss: 1.9458 - acc: 0.4563    \n",
      "Epoch 18/20\n",
      "8556/8556 [==============================] - 16s - loss: 1.9249 - acc: 0.4587    \n",
      "Epoch 19/20\n",
      "8556/8556 [==============================] - 16s - loss: 1.9070 - acc: 0.4653    \n",
      "Epoch 20/20\n",
      "8556/8556 [==============================] - 16s - loss: 1.8899 - acc: 0.4693    \n",
      "Saved model to disk\n"
     ]
    }
   ],
   "source": [
    "import csv\n",
    "# train the model, output generated text after each iteration\n",
    "for iteration in range(1, 2):\n",
    "    print()\n",
    "    #print('-' * 50)\n",
    "    print('Iteration', iteration)\n",
    "    a1=model.fit(X_eng, y_eng,\n",
    "              batch_size=128,\n",
    "              epochs=20)\n",
    "    model_eng_json = model.to_json()\n",
    "    with open(\"model/model_eng_\"+str(iteration)+\".json\", \"w\") as json_file:\n",
    "        json_file.write(model_eng_json)\n",
    "    # serialize weights to HDF5\n",
    "    model.save_weights(\"weights/model_eng_\"+ str(iteration) +\".h5\")\n",
    "    print(\"Saved model to disk\")"
   ]
  },
  {
   "cell_type": "code",
   "execution_count": 10,
   "metadata": {
    "collapsed": false,
    "deletable": true,
    "editable": true
   },
   "outputs": [],
   "source": [
    "    sentences_fr_test =sentences_fr_test[:100]\n",
    "    \n",
    "    string_fr_test=string_fr_test[:100]\n",
    "    sentences_eng_test =sentences_eng_test[:100]\n",
    "    \n",
    "    string_eng_test=string_eng_test[:100]\n",
    "    \n",
    "    #sentence=\n",
    "    prob_english=[]\n",
    "    for i in range(len(sentences_eng_test)):\n",
    "        prob_english.append(get_scores_for_model(sentences_eng_test[i], string_eng_test[i], model,chars, char_indices))\n",
    "    for i in range(len(sentences_fr_test)):\n",
    "        prob_english.append(get_scores_for_model(sentences_fr_test[i], string_fr_test[i], model, chars, char_indices))\n",
    "    #sentence = text1[start_index: start_index + maxlen]\n",
    "    #print (prob_english)\n",
    "    np.savetxt(\"prob_eng/output_prob_\" + str(iteration) + \".csv\", prob_english, delimiter=',')\n",
    "    #with open(\"prob_eng/output_prob_\" + str(iteration) + \".csv\", 'rt',newline='') as f:\n",
    "    #    w = csv.writer(f, delimiter=',')\n",
    "    #    for row in prob_english:\n",
    "    #        w.writerow(row)\n",
    "    with open(\"model/loss_eng\" + \".csv\", 'a') as f:\n",
    "        w = csv.writer(f, delimiter=',')\n",
    "        w.writerow(a1.history['loss'])\n",
    "       \n",
    "        #print()"
   ]
  },
  {
   "cell_type": "code",
   "execution_count": 11,
   "metadata": {
    "collapsed": false,
    "deletable": true,
    "editable": true
   },
   "outputs": [
    {
     "name": "stdout",
     "output_type": "stream",
     "text": [
      "\n",
      "Iteration 1\n",
      "Epoch 1/20\n",
      "9567/9567 [==============================] - 18s - loss: 2.8365 - acc: 0.1860    \n",
      "Epoch 2/20\n",
      "9567/9567 [==============================] - 19s - loss: 2.6241 - acc: 0.2596    \n",
      "Epoch 3/20\n",
      "9567/9567 [==============================] - 19s - loss: 2.4372 - acc: 0.3001    \n",
      "Epoch 4/20\n",
      "9567/9567 [==============================] - 19s - loss: 2.3257 - acc: 0.3219    \n",
      "Epoch 5/20\n",
      "9567/9567 [==============================] - 19s - loss: 2.2560 - acc: 0.3370    \n",
      "Epoch 6/20\n",
      "9567/9567 [==============================] - 18s - loss: 2.2054 - acc: 0.3464    \n",
      "Epoch 7/20\n",
      "9567/9567 [==============================] - 18s - loss: 2.1633 - acc: 0.3598    \n",
      "Epoch 8/20\n",
      "9567/9567 [==============================] - 18s - loss: 2.1277 - acc: 0.3706    \n",
      "Epoch 9/20\n",
      "9567/9567 [==============================] - 17s - loss: 2.0966 - acc: 0.3819    \n",
      "Epoch 10/20\n",
      "9567/9567 [==============================] - 16s - loss: 2.0695 - acc: 0.3899    \n",
      "Epoch 11/20\n",
      "9567/9567 [==============================] - 18s - loss: 2.0394 - acc: 0.3999    \n",
      "Epoch 12/20\n",
      "9567/9567 [==============================] - 18s - loss: 2.0195 - acc: 0.4087    \n",
      "Epoch 13/20\n",
      "9567/9567 [==============================] - 18s - loss: 1.9941 - acc: 0.4154    \n",
      "Epoch 14/20\n",
      "9567/9567 [==============================] - 19s - loss: 1.9755 - acc: 0.4207    \n",
      "Epoch 15/20\n",
      "9567/9567 [==============================] - 18s - loss: 1.9552 - acc: 0.4248    \n",
      "Epoch 16/20\n",
      "9567/9567 [==============================] - 19s - loss: 1.9375 - acc: 0.4297    \n",
      "Epoch 17/20\n",
      "9567/9567 [==============================] - 19s - loss: 1.9202 - acc: 0.4342    \n",
      "Epoch 18/20\n",
      "9567/9567 [==============================] - 19s - loss: 1.9024 - acc: 0.4350    \n",
      "Epoch 19/20\n",
      "9567/9567 [==============================] - 17s - loss: 1.8902 - acc: 0.4405    \n",
      "Epoch 20/20\n",
      "9567/9567 [==============================] - 16s - loss: 1.8738 - acc: 0.4447    \n",
      "Saved model to disk\n"
     ]
    }
   ],
   "source": [
    "\n",
    "import csv\n",
    "# train the model, output generated text after each iteration\n",
    "\n",
    "\n",
    "for iteration in range(1, 2):\n",
    "    print()\n",
    "    #print('-' * 50)\n",
    "    print('Iteration', iteration)\n",
    "    a2=model2.fit(X_fr, y_fr,\n",
    "              batch_size=128,\n",
    "              epochs=20)\n",
    "    model_fr_json = model2.to_json()\n",
    "    with open(\"model/model_fr_\"+str(iteration)+\".json\", \"w\") as json_file:\n",
    "        json_file.write(model_fr_json)\n",
    "    # serialize weights to HDF5\n",
    "    model2.save_weights(\"weights/model_fr_\"+ str(iteration) +\".h5\")\n",
    "    print(\"Saved model to disk\")\n",
    "    sentences_fr_test =sentences_fr_test[:100]\n",
    "   \n",
    "    string_fr_test=string_fr_test[:100]\n",
    "    sentences_eng_test =sentences_eng_test[:100]\n",
    "    \n",
    "    string_eng_test=string_eng_test[:100]\n",
    "\n",
    "        \n",
    "    \n",
    "    #sentence=\n",
    "    prob_fr=[]\n",
    "    for i in range(len(sentences_eng_test)):\n",
    "        prob_fr.append(get_scores_for_model(sentences_eng_test[i], string_eng_test[i], model2,chars, char_indices))\n",
    "    for i in range(len(sentences_fr_test)):\n",
    "        prob_fr.append(get_scores_for_model(sentences_fr_test[i], string_fr_test[i], model2, chars, char_indices))\n",
    "    #sentence = text1[start_index: start_index + maxlen]\n",
    "    #print (prob_english)\n",
    "    np.savetxt(\"prob_fr/output_prob_\" + str(iteration) + \".csv\", prob_fr, delimiter=',')\n",
    "    #with open(\"prob_fr/output_prob_\" + str(iteration) + \".csv\", 'wt') as f:\n",
    "    #    w = csv.writer(f, delimiter=',')\n",
    "    #    for row in prob_fr:\n",
    "    #        w.writerow(row)\n",
    "    with open(\"model/loss_fr\" + \".csv\", 'a') as f:\n",
    "        w = csv.writer(f, delimiter=',')\n",
    "        w.writerow(a2.history['loss'])\n",
    "\n",
    "    #print()"
   ]
  },
  {
   "cell_type": "code",
   "execution_count": 12,
   "metadata": {
    "collapsed": false,
    "deletable": true,
    "editable": true
   },
   "outputs": [],
   "source": [
    "def predict_language(prob_english, prob_fr):\n",
    "    #print(len(prob_english))\n",
    "    y = [1] * len(prob_english)\n",
    "    probs_eng = []\n",
    "    probs_frn = []\n",
    "    for i in range(len(prob_english)):\n",
    "        sum_english = 0\n",
    "        sum_fr = 0\n",
    "        #print(len(prob_english[0]))\n",
    "        for j in range(len(prob_english[0])):\n",
    "            #print(i)\n",
    "            #print(j)\n",
    "            sum_english += float(prob_english[i][j])\n",
    "            sum_fr += float(prob_fr[i][j])\n",
    "        sum_english = np.exp(sum_english)\n",
    "        sum_fr = np.exp(sum_fr)\n",
    "        if sum_english < sum_fr:\n",
    "            y[i] = 0\n",
    "        if sum_fr == 0.0:\n",
    "            sum_fr = 0.0000000000001\n",
    "            #print(str(i) + \"Zero\")\n",
    "        probs_eng.append(sum_english)\n",
    "        probs_frn.append(sum_fr)\n",
    "    return y, probs_eng, probs_frn"
   ]
  },
  {
   "cell_type": "code",
   "execution_count": 14,
   "metadata": {
    "collapsed": false,
    "deletable": true,
    "editable": true
   },
   "outputs": [
    {
     "name": "stdout",
     "output_type": "stream",
     "text": [
      "----------------- Iteration: 1 --------------------\n",
      "5.66428309797e-11 0.0335660159406\n",
      "[[84 16]\n",
      " [11 89]]\n",
      "0.865\n"
     ]
    },
    {
     "data": {
      "image/png": "[encoded data removed]",
      "text/plain": [
       "<matplotlib.figure.Figure at 0x1c4fa5b3cf8>"
      ]
     },
     "metadata": {},
     "output_type": "display_data"
    }
   ],
   "source": [
    "import csv\n",
    "for iter in range(1,2):\n",
    "    print(\"----------------- Iteration: \" + str(iter) + \" --------------------\")\n",
    "    prob_english=[]\n",
    "    with open(\"prob_eng/output_prob_\" + str(iter) + \".csv\", 'rt') as f:\n",
    "            w = csv.reader(f, delimiter=',')\n",
    "            prob_english = list(w)\n",
    "    #print(prob_english)\n",
    "\n",
    "    prob_fr=[]\n",
    "    with open(\"prob_fr/output_prob_\" + str(iter) + \".csv\", 'rt') as f:\n",
    "            w = csv.reader(f, delimiter=',')\n",
    "            prob_fr = list(w)\n",
    "    \n",
    "    #print((prob_english), len(prob_fr))\n",
    "    true_labels = ([1] * 100) + ([0] * 100)\n",
    "    #print(true_labels.shape)\n",
    "\n",
    "    from sklearn.metrics import roc_auc_score, confusion_matrix, accuracy_score, auc, roc_curve\n",
    "    #try:\n",
    "    pred_y, logprob_english, logprob_fr = predict_language(prob_english, prob_fr)\n",
    "    #except:\n",
    "    #    continue\n",
    "    #x = [e for i, e in enumerate(logprob_fr) if e == 0]\n",
    "    #print(x)\n",
    "    print(min(logprob_fr), max(logprob_fr))\n",
    "    y_hat = np.array([a/b for (a, b) in zip(logprob_english, logprob_fr)])\n",
    "    #roc_auc_score(true_labels, y_hat)\n",
    "    \n",
    "    print (confusion_matrix(true_labels, pred_y))\n",
    "    print (accuracy_score(true_labels, pred_y))\n",
    "    #print (y_hat)\n",
    "    try:\n",
    "        fpr, tpr, _ = roc_curve(true_labels, y_hat)\n",
    "    except:\n",
    "        continue\n",
    "    roc_auc = auc(fpr, tpr)\n",
    "\n",
    "    import matplotlib.pyplot as plt\n",
    "    plt.figure()\n",
    "    lw = 2\n",
    "    plt.plot(fpr, tpr, color='darkorange',\n",
    "             lw=lw, label='ROC curve (area = %0.2f)' % roc_auc)\n",
    "    plt.plot([0, 1], [0, 1], color='navy', lw=lw, linestyle='--')\n",
    "    plt.xlim([0.0, 1.0])\n",
    "    plt.ylim([0.0, 1.05])\n",
    "    plt.xlabel('False Positive Rate')\n",
    "    plt.ylabel('True Positive Rate')\n",
    "    plt.title('Receiver operating characteristic example')\n",
    "    plt.legend(loc=\"lower right\")\n",
    "    plt.show()"
   ]
  },
  {
   "cell_type": "code",
   "execution_count": null,
   "metadata": {
    "collapsed": true,
    "deletable": true,
    "editable": true
   },
   "outputs": [],
   "source": []
  },
  {
   "cell_type": "code",
   "execution_count": null,
   "metadata": {
    "collapsed": true
   },
   "outputs": [],
   "source": []
  }
 ],
 "metadata": {
  "kernelspec": {
   "display_name": "Python 3",
   "language": "python",
   "name": "python3"
  },
  "language_info": {
   "codemirror_mode": {
    "name": "ipython",
    "version": 3
   },
   "file_extension": ".py",
   "mimetype": "text/x-python",
   "name": "python",
   "nbconvert_exporter": "python",
   "pygments_lexer": "ipython3",
   "version": "3.5.2"
  }
 },
 "nbformat": 4,
 "nbformat_minor": 2
}
