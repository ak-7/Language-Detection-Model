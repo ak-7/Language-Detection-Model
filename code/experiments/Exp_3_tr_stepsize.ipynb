{
 "cells": [
  {
   "cell_type": "code",
   "execution_count": 2,
   "metadata": {
    "collapsed": false,
    "deletable": true,
    "editable": true
   },
   "outputs": [],
   "source": [
    "from __future__ import print_function\n",
    "from keras.models import Sequential\n",
    "from keras.layers import Dense, Activation\n",
    "from keras.layers import LSTM\n",
    "from keras.optimizers import RMSprop\n",
    "from keras.utils.data_utils import get_file\n",
    "import numpy as np\n",
    "import random\n",
    "import sys\n",
    "from sklearn.cross_validation import train_test_split"
   ]
  },
  {
   "cell_type": "code",
   "execution_count": 3,
   "metadata": {
    "collapsed": false,
    "deletable": true,
    "editable": true
   },
   "outputs": [
    {
     "name": "stdout",
     "output_type": "stream",
     "text": [
      "corpus length: 10746\n",
      "corpus length: 12009\n"
     ]
    }
   ],
   "source": [
    "with open('subset1/eng.txt','rt') as f:\n",
    "    text1 = f.read().lower()\n",
    "with open('subset1/frn.txt','rt') as f:\n",
    "    text2 = f.read().lower()\n",
    "print('corpus length:', len(text1))\n",
    "print('corpus length:', len(text2))\n"
   ]
  },
  {
   "cell_type": "code",
   "execution_count": 4,
   "metadata": {
    "collapsed": false,
    "deletable": true,
    "editable": true
   },
   "outputs": [],
   "source": [
    "y1=np.tile(0,len(text1))\n",
    "y2 = np.tile(1,len(text2))\n",
    "x_train_eng, x_test_eng, y_train_eng, y_test_eng = train_test_split(text1, y1, test_size=0.2)\n",
    "x_train_frn, x_test_frn, y_train_frn, y_test_frn = train_test_split(text2, y2, test_size=0.2)"
   ]
  },
  {
   "cell_type": "code",
   "execution_count": 5,
   "metadata": {
    "collapsed": false,
    "deletable": true,
    "editable": true
   },
   "outputs": [
    {
     "name": "stdout",
     "output_type": "stream",
     "text": [
      "8596 2150\n"
     ]
    }
   ],
   "source": [
    "print(len(x_train_eng), len(x_test_eng))"
   ]
  },
  {
   "cell_type": "code",
   "execution_count": 6,
   "metadata": {
    "collapsed": false,
    "deletable": true,
    "editable": true
   },
   "outputs": [
    {
     "name": "stdout",
     "output_type": "stream",
     "text": [
      "total chars: 44\n",
      "nb sequences: 1712\n",
      "nb sequences: 107\n",
      "Vectorization...\n",
      "Build model...\n"
     ]
    }
   ],
   "source": [
    "#generating english model\n",
    "chars_eng = sorted(list(set(text1)))\n",
    "chars_fr = sorted(list(set(text2)))\n",
    "chars = sorted(list(set(chars_eng + chars_fr)))\n",
    "print('total chars:', len(chars))\n",
    "char_indices = dict((c, i) for i, c in enumerate(chars))\n",
    "indices_char = dict((i, c) for i, c in enumerate(chars))\n",
    "\n",
    "\n",
    "##training set prepare\n",
    "maxlen= 40\n",
    "step = 5\n",
    "sentences_eng_tr = []\n",
    "next_chars_eng_tr = []\n",
    "for i in range(0, int(0.8*len(text1)) - maxlen, step):\n",
    "    sentences_eng_tr.append(text1[i: i + maxlen])\n",
    "    next_chars_eng_tr.append(text1[i + maxlen])\n",
    "\n",
    "print('nb sequences:', len(sentences_eng_tr))\n",
    "##test set prepare\n",
    "sentences_eng_test = []\n",
    "string_eng_test= []\n",
    "step_test=20\n",
    "for i in range(int(0.8*len(text1)) - maxlen,len(text1) - maxlen-step_test, step_test):\n",
    "    sentences_eng_test.append(text1[i: i + maxlen])\n",
    "    string_eng_test.append(text1[i+maxlen:i+maxlen+5])\n",
    "print('nb sequences:', len(sentences_eng_test))\n",
    "\n",
    "print('Vectorization...')\n",
    "X_eng = np.zeros((len(sentences_eng_tr), maxlen, len(chars)), dtype=np.bool)\n",
    "y_eng = np.zeros((len(sentences_eng_tr), len(chars)), dtype=np.bool)\n",
    "for i, sentence in enumerate(sentences_eng_tr):\n",
    "    for t, char in enumerate(sentence):\n",
    "        X_eng[i, t, char_indices[char]] = 1\n",
    "    y_eng[i, char_indices[next_chars_eng_tr[i]]] = 1\n",
    "\n",
    "\n",
    "# build the model: a single LSTM\n",
    "print('Build model...')\n",
    "model = Sequential()\n",
    "model.add(LSTM(128, input_shape=(maxlen, len(chars))))\n",
    "model.add(Dense(len(chars)))\n",
    "model.add(Activation('softmax'))\n",
    "\n",
    "optimizer = RMSprop(lr=0.01)\n",
    "model.compile(loss='categorical_crossentropy', optimizer=optimizer, metrics = ['accuracy'])"
   ]
  },
  {
   "cell_type": "code",
   "execution_count": 7,
   "metadata": {
    "collapsed": false,
    "deletable": true,
    "editable": true
   },
   "outputs": [
    {
     "name": "stdout",
     "output_type": "stream",
     "text": [
      "nb sequences: 1914\n",
      "nb sequences: 121\n",
      "Vectorization...\n",
      "Build model...\n"
     ]
    }
   ],
   "source": [
    "#generating french model\n",
    "\n",
    "\n",
    "\n",
    "##training set prepare\n",
    "maxlen= 40\n",
    "step = 5\n",
    "sentences_fr_tr = []\n",
    "next_chars_fr_tr = []\n",
    "for i in range(0, int(0.8*len(text2)) - maxlen, step):\n",
    "    sentences_fr_tr.append(text2[i: i + maxlen])\n",
    "    next_chars_fr_tr.append(text2[i + maxlen])\n",
    "\n",
    "print('nb sequences:', len(sentences_fr_tr))\n",
    "##test set prepare\n",
    "sentences_fr_test = []\n",
    "string_fr_test= []\n",
    "step_test=20\n",
    "for i in range(int(0.8*len(text2)) - maxlen,len(text2) - maxlen, step_test):\n",
    "    sentences_fr_test.append(text2[i: i + maxlen])\n",
    "    string_fr_test.append(text2[i+maxlen:i+maxlen+5])\n",
    "print('nb sequences:', len(sentences_fr_test))\n",
    "\n",
    "print('Vectorization...')\n",
    "X_fr = np.zeros((len(sentences_fr_tr), maxlen, len(chars)), dtype=np.bool)\n",
    "y_fr = np.zeros((len(sentences_fr_tr), len(chars)), dtype=np.bool)\n",
    "for i, sentence in enumerate(sentences_fr_tr):\n",
    "    for t, char in enumerate(sentence):\n",
    "        X_fr[i, t, char_indices[char]] = 1\n",
    "    y_fr[i, char_indices[next_chars_fr_tr[i]]] = 1\n",
    "\n",
    "\n",
    "# build the model: a single LSTM\n",
    "print('Build model...')\n",
    "model2 = Sequential()\n",
    "model2.add(LSTM(128, input_shape=(maxlen, len(chars))))\n",
    "model2.add(Dense(len(chars)))\n",
    "model2.add(Activation('softmax'))\n",
    "\n",
    "optimizer = RMSprop(lr=0.01)\n",
    "model2.compile(loss='categorical_crossentropy', optimizer=optimizer, metrics=[\"accuracy\"])"
   ]
  },
  {
   "cell_type": "code",
   "execution_count": 8,
   "metadata": {
    "collapsed": true,
    "deletable": true,
    "editable": true
   },
   "outputs": [],
   "source": [
    "def vectorize(sentence, chars , char_indices ):\n",
    "    X = np.zeros((1, maxlen, len(chars)), dtype=np.bool)\n",
    "    for t, char in enumerate(sentence):\n",
    "        X[0, t, char_indices[char]] = 1\n",
    "    return X"
   ]
  },
  {
   "cell_type": "code",
   "execution_count": 9,
   "metadata": {
    "collapsed": true,
    "deletable": true,
    "editable": true
   },
   "outputs": [],
   "source": [
    "def get_scores_for_model(seed,next_string, model,chars,char_indices):\n",
    "    sentence =seed\n",
    "    prob_char=0.0\n",
    "    x = np.zeros((5, maxlen, len(chars)))\n",
    "\n",
    "    x[0] = vectorize(seed,chars,char_indices)\n",
    "    x[1] = vectorize(seed[1:]+next_string[:1],chars,char_indices)\n",
    "    x[2] = vectorize(seed[2:]+next_string[:2],chars,char_indices)\n",
    "    x[3] = vectorize(seed[3:]+next_string[:3],chars,char_indices)\n",
    "    x[4] = vectorize(seed[4:]+next_string[:4],chars,char_indices)\n",
    "    probs_term = []\n",
    "    for i in range(5):\n",
    "        preds = model.predict(x[i].reshape(1,maxlen,44), verbose=0)[0]\n",
    "        preds = np.log(preds)\n",
    "        probs_term.append(preds[char_indices[next_string[i]]])\n",
    "\n",
    "    return probs_term\n",
    "    '''\n",
    "    prob_list.append(term_probs)\n",
    "    \n",
    "    for i in range(5):\n",
    "        x = np.zeros((1, len(seed), len(chars)))\n",
    "        for t, char in enumerate(sentence):\n",
    "            x[0, t, char_indices[char]] = 1.\n",
    "        preds = model.predict(x, verbose=0)[0]\n",
    "        #print('Preds', preds)\n",
    "        diversity = 1.0\n",
    "        #print(seed, \"\\n\", next_string)\n",
    "        prob_char = prob_char + sample(preds, diversity,next_string[i],char_indices)\n",
    "        sentence = sentence[1:] + next_string[i]\n",
    "    '''\n",
    "    return np.exp(prob_char)\n",
    "        "
   ]
  },
  {
   "cell_type": "code",
   "execution_count": 10,
   "metadata": {
    "collapsed": false,
    "deletable": true,
    "editable": true
   },
   "outputs": [
    {
     "name": "stdout",
     "output_type": "stream",
     "text": [
      "\n",
      "Iteration 1\n",
      "Epoch 1/20\n",
      "1712/1712 [==============================] - 4s - loss: 3.2367 - acc: 0.1273     \n",
      "Epoch 2/20\n",
      "1712/1712 [==============================] - 3s - loss: 2.9018 - acc: 0.1630     \n",
      "Epoch 3/20\n",
      "1712/1712 [==============================] - 3s - loss: 2.8185 - acc: 0.2050     \n",
      "Epoch 4/20\n",
      "1712/1712 [==============================] - 3s - loss: 2.6095 - acc: 0.2588     \n",
      "Epoch 5/20\n",
      "1712/1712 [==============================] - 2s - loss: 2.3980 - acc: 0.3061     \n",
      "Epoch 6/20\n",
      "1712/1712 [==============================] - 2s - loss: 2.2162 - acc: 0.3528     \n",
      "Epoch 7/20\n",
      "1712/1712 [==============================] - 2s - loss: 2.0802 - acc: 0.3849     \n",
      "Epoch 8/20\n",
      "1712/1712 [==============================] - 3s - loss: 1.9399 - acc: 0.4305     \n",
      "Epoch 9/20\n",
      "1712/1712 [==============================] - 3s - loss: 1.8350 - acc: 0.4562     \n",
      "Epoch 10/20\n",
      "1712/1712 [==============================] - 3s - loss: 1.7124 - acc: 0.4930     \n",
      "Epoch 11/20\n",
      "1712/1712 [==============================] - 3s - loss: 1.5867 - acc: 0.5327     \n",
      "Epoch 12/20\n",
      "1712/1712 [==============================] - 3s - loss: 1.4802 - acc: 0.5549     \n",
      "Epoch 13/20\n",
      "1712/1712 [==============================] - 3s - loss: 1.3361 - acc: 0.6034     \n",
      "Epoch 14/20\n",
      "1712/1712 [==============================] - 3s - loss: 1.2420 - acc: 0.6466     \n",
      "Epoch 15/20\n",
      "1712/1712 [==============================] - 3s - loss: 1.1265 - acc: 0.6863     \n",
      "Epoch 16/20\n",
      "1712/1712 [==============================] - 2s - loss: 1.0030 - acc: 0.7225     \n",
      "Epoch 17/20\n",
      "1712/1712 [==============================] - 3s - loss: 0.9061 - acc: 0.7442     \n",
      "Epoch 18/20\n",
      "1712/1712 [==============================] - 3s - loss: 0.8046 - acc: 0.7961     \n",
      "Epoch 19/20\n",
      "1712/1712 [==============================] - 3s - loss: 0.6629 - acc: 0.8300     \n",
      "Epoch 20/20\n",
      "1712/1712 [==============================] - 3s - loss: 0.5696 - acc: 0.8703     \n",
      "Saved model to disk\n"
     ]
    }
   ],
   "source": [
    "import csv\n",
    "# train the model, output generated text after each iteration\n",
    "for iteration in range(1, 2):\n",
    "    print()\n",
    "    #print('-' * 50)\n",
    "    print('Iteration', iteration)\n",
    "    a1=model.fit(X_eng, y_eng,\n",
    "              batch_size=128,\n",
    "              epochs=20)\n",
    "    model_eng_json = model.to_json()\n",
    "    with open(\"model/model_eng_\"+str(iteration)+\".json\", \"w\") as json_file:\n",
    "        json_file.write(model_eng_json)\n",
    "    # serialize weights to HDF5\n",
    "    model.save_weights(\"weights/model_eng_\"+ str(iteration) +\".h5\")\n",
    "    print(\"Saved model to disk\")\n",
    "\n",
    "    sentences_fr_test =sentences_fr_test[:100]\n",
    "    string_fr_test=string_fr_test[:100]\n",
    "    sentences_eng_test =sentences_eng_test[:100]\n",
    "    string_eng_test=string_eng_test[:100]\n",
    "    \n",
    "    #sentence=\n",
    "    prob_english=[]\n",
    "    for i in range(len(sentences_eng_test)):\n",
    "        prob_english.append(get_scores_for_model(sentences_eng_test[i], string_eng_test[i], model,chars, char_indices))\n",
    "    for i in range(len(sentences_fr_test)):\n",
    "        prob_english.append(get_scores_for_model(sentences_fr_test[i], string_fr_test[i], model, chars, char_indices))\n",
    "    #sentence = text1[start_index: start_index + maxlen]\n",
    "    #print (prob_english)\n",
    "    np.savetxt(\"prob_eng/output_prob_\" + str(iteration) + \".csv\", prob_english, delimiter=',')\n",
    "    #with open(\"prob_eng/output_prob_\" + str(iteration) + \".csv\", 'rt',newline='') as f:\n",
    "    #    w = csv.writer(f, delimiter=',')\n",
    "    #    for row in prob_english:\n",
    "    #        w.writerow(row)\n",
    "    with open(\"model/loss_eng\" + \".csv\", 'a') as f:\n",
    "        w = csv.writer(f, delimiter=',')\n",
    "        w.writerow(a1.history['loss'])\n",
    "       \n",
    "        #print()"
   ]
  },
  {
   "cell_type": "code",
   "execution_count": 11,
   "metadata": {
    "collapsed": false,
    "deletable": true,
    "editable": true
   },
   "outputs": [
    {
     "name": "stdout",
     "output_type": "stream",
     "text": [
      "\n",
      "Iteration 1\n",
      "Epoch 1/20\n",
      "1914/1914 [==============================] - 3s - loss: 3.1316 - acc: 0.1353     \n",
      "Epoch 2/20\n",
      "1914/1914 [==============================] - 3s - loss: 2.8307 - acc: 0.1735     \n",
      "Epoch 3/20\n",
      "1914/1914 [==============================] - 3s - loss: 2.7420 - acc: 0.1881     \n",
      "Epoch 4/20\n",
      "1914/1914 [==============================] - 3s - loss: 2.5999 - acc: 0.2456     \n",
      "Epoch 5/20\n",
      "1914/1914 [==============================] - 3s - loss: 2.4199 - acc: 0.2863     \n",
      "Epoch 6/20\n",
      "1914/1914 [==============================] - 3s - loss: 2.2823 - acc: 0.3145     \n",
      "Epoch 7/20\n",
      "1914/1914 [==============================] - 3s - loss: 2.1397 - acc: 0.3511     \n",
      "Epoch 8/20\n",
      "1914/1914 [==============================] - 3s - loss: 2.0125 - acc: 0.3913     \n",
      "Epoch 9/20\n",
      "1914/1914 [==============================] - 3s - loss: 1.8964 - acc: 0.4258     \n",
      "Epoch 10/20\n",
      "1914/1914 [==============================] - 3s - loss: 1.7781 - acc: 0.4551     \n",
      "Epoch 11/20\n",
      "1914/1914 [==============================] - 3s - loss: 1.6548 - acc: 0.4739     \n",
      "Epoch 12/20\n",
      "1914/1914 [==============================] - 3s - loss: 1.5433 - acc: 0.5152     \n",
      "Epoch 13/20\n",
      "1914/1914 [==============================] - 3s - loss: 1.4400 - acc: 0.5481     \n",
      "Epoch 14/20\n",
      "1914/1914 [==============================] - 3s - loss: 1.3180 - acc: 0.5893     \n",
      "Epoch 15/20\n",
      "1914/1914 [==============================] - 3s - loss: 1.2000 - acc: 0.6202     \n",
      "Epoch 16/20\n",
      "1914/1914 [==============================] - 3s - loss: 1.0802 - acc: 0.6567     \n",
      "Epoch 17/20\n",
      "1914/1914 [==============================] - 3s - loss: 0.9399 - acc: 0.7079     \n",
      "Epoch 18/20\n",
      "1914/1914 [==============================] - 3s - loss: 0.8199 - acc: 0.7518     \n",
      "Epoch 19/20\n",
      "1914/1914 [==============================] - 3s - loss: 0.7040 - acc: 0.7868     \n",
      "Epoch 20/20\n",
      "1914/1914 [==============================] - 3s - loss: 0.6252 - acc: 0.8156     \n",
      "Saved model to disk\n"
     ]
    }
   ],
   "source": [
    "\n",
    "import csv\n",
    "# train the model, output generated text after each iteration\n",
    "\n",
    "\n",
    "for iteration in range(1, 2):\n",
    "    print()\n",
    "    #print('-' * 50)\n",
    "    print('Iteration', iteration)\n",
    "    a2=model2.fit(X_fr, y_fr,\n",
    "              batch_size=128,\n",
    "              epochs=20)\n",
    "    model_fr_json = model2.to_json()\n",
    "    with open(\"model/model_fr_\"+str(iteration)+\".json\", \"w\") as json_file:\n",
    "        json_file.write(model_fr_json)\n",
    "    # serialize weights to HDF5\n",
    "    model2.save_weights(\"weights/model_fr_\"+ str(iteration) +\".h5\")\n",
    "    print(\"Saved model to disk\")\n",
    "\n",
    "        \n",
    "    sentences_fr_test =sentences_fr_test[:100]\n",
    "    string_fr_test=string_fr_test[:100]\n",
    "    sentences_eng_test =sentences_eng_test[:100]\n",
    "    string_eng_test=string_eng_test[:100]\n",
    "    #sentence=\n",
    "    prob_fr=[]\n",
    "    for i in range(len(sentences_eng_test)):\n",
    "        prob_fr.append(get_scores_for_model(sentences_eng_test[i], string_eng_test[i], model2,chars, char_indices))\n",
    "    for i in range(len(sentences_fr_test)):\n",
    "        prob_fr.append(get_scores_for_model(sentences_fr_test[i], string_fr_test[i], model2, chars, char_indices))\n",
    "    #sentence = text1[start_index: start_index + maxlen]\n",
    "    #print (prob_english)\n",
    "    np.savetxt(\"prob_fr/output_prob_\" + str(iteration) + \".csv\", prob_fr, delimiter=',')\n",
    "    #with open(\"prob_fr/output_prob_\" + str(iteration) + \".csv\", 'wt') as f:\n",
    "    #    w = csv.writer(f, delimiter=',')\n",
    "    #    for row in prob_fr:\n",
    "    #        w.writerow(row)\n",
    "    with open(\"model/loss_fr\" + \".csv\", 'a') as f:\n",
    "        w = csv.writer(f, delimiter=',')\n",
    "        w.writerow(a2.history['loss'])\n",
    "\n",
    "    #print()"
   ]
  },
  {
   "cell_type": "code",
   "execution_count": 11,
   "metadata": {
    "collapsed": false,
    "deletable": true,
    "editable": true
   },
   "outputs": [
    {
     "ename": "FileNotFoundError",
     "evalue": "[Errno 2] No such file or directory: 'model/model_eng_2.json'",
     "output_type": "error",
     "traceback": [
      "\u001b[0;31m---------------------------------------------------------------------------\u001b[0m",
      "\u001b[0;31mFileNotFoundError\u001b[0m                         Traceback (most recent call last)",
      "\u001b[0;32m<ipython-input-11-6a474e6ee6c1>\u001b[0m in \u001b[0;36m<module>\u001b[0;34m()\u001b[0m\n\u001b[1;32m      1\u001b[0m \u001b[1;32mfrom\u001b[0m \u001b[0mkeras\u001b[0m\u001b[1;33m.\u001b[0m\u001b[0mmodels\u001b[0m \u001b[1;32mimport\u001b[0m \u001b[0mmodel_from_json\u001b[0m\u001b[1;33m\u001b[0m\u001b[0m\n\u001b[0;32m----> 2\u001b[0;31m \u001b[0mjson_file\u001b[0m \u001b[1;33m=\u001b[0m \u001b[0mopen\u001b[0m\u001b[1;33m(\u001b[0m\u001b[1;34m'model/model_eng_2.json'\u001b[0m\u001b[1;33m,\u001b[0m \u001b[1;34m'r'\u001b[0m\u001b[1;33m)\u001b[0m\u001b[1;33m\u001b[0m\u001b[0m\n\u001b[0m\u001b[1;32m      3\u001b[0m \u001b[0mloaded_model_json\u001b[0m \u001b[1;33m=\u001b[0m \u001b[0mjson_file\u001b[0m\u001b[1;33m.\u001b[0m\u001b[0mread\u001b[0m\u001b[1;33m(\u001b[0m\u001b[1;33m)\u001b[0m\u001b[1;33m\u001b[0m\u001b[0m\n\u001b[1;32m      4\u001b[0m \u001b[0mjson_file\u001b[0m\u001b[1;33m.\u001b[0m\u001b[0mclose\u001b[0m\u001b[1;33m(\u001b[0m\u001b[1;33m)\u001b[0m\u001b[1;33m\u001b[0m\u001b[0m\n\u001b[1;32m      5\u001b[0m \u001b[0mmodel3\u001b[0m \u001b[1;33m=\u001b[0m \u001b[0mmodel_from_json\u001b[0m\u001b[1;33m(\u001b[0m\u001b[0mloaded_model_json\u001b[0m\u001b[1;33m)\u001b[0m\u001b[1;33m\u001b[0m\u001b[0m\n",
      "\u001b[0;31mFileNotFoundError\u001b[0m: [Errno 2] No such file or directory: 'model/model_eng_2.json'"
     ]
    }
   ],
   "source": [
    "from keras.models import model_from_json\n",
    "json_file = open('model/model_eng_2.json', 'r')\n",
    "loaded_model_json = json_file.read()\n",
    "json_file.close()\n",
    "model3 = model_from_json(loaded_model_json)\n",
    "# load weights into new model\n",
    "model3.load_weights(\"weights/model_eng_2.h5\")\n",
    "print(\"Loaded model from disk\")\n",
    "optimizer = RMSprop(lr=0.01)\n",
    "model3.compile(loss='categorical_crossentropy', optimizer=optimizer)\n",
    "# evaluate loaded model on test data\n",
    "#loaded_model.compile(loss='binary_crossentropy', optimizer='rmsprop', metrics=['accuracy'])"
   ]
  },
  {
   "cell_type": "code",
   "execution_count": 193,
   "metadata": {
    "collapsed": false,
    "deletable": true,
    "editable": true
   },
   "outputs": [],
   "source": [
    "from keras.models import model_from_json\n",
    "json_file = open('model/model_eng_1.json', 'r')\n",
    "loaded_model_json = json_file.read()\n",
    "json_file.close()\n",
    "model3 = model_from_json(loaded_model_json)\n",
    "model3.load_weights(\"eng.h5\")"
   ]
  },
  {
   "cell_type": "code",
   "execution_count": 12,
   "metadata": {
    "collapsed": false,
    "deletable": true,
    "editable": true
   },
   "outputs": [
    {
     "name": "stdout",
     "output_type": "stream",
     "text": [
      "\n"
     ]
    },
    {
     "ename": "NameError",
     "evalue": "name 'model3' is not defined",
     "output_type": "error",
     "traceback": [
      "\u001b[0;31m---------------------------------------------------------------------------\u001b[0m",
      "\u001b[0;31mNameError\u001b[0m                                 Traceback (most recent call last)",
      "\u001b[0;32m<ipython-input-12-f659e79d8544>\u001b[0m in \u001b[0;36m<module>\u001b[0;34m()\u001b[0m\n\u001b[1;32m     10\u001b[0m     \u001b[0mprob_fr\u001b[0m\u001b[1;33m=\u001b[0m\u001b[1;33m[\u001b[0m\u001b[1;33m]\u001b[0m\u001b[1;33m\u001b[0m\u001b[0m\n\u001b[1;32m     11\u001b[0m     \u001b[1;32mfor\u001b[0m \u001b[0mi\u001b[0m \u001b[1;32min\u001b[0m \u001b[0mrange\u001b[0m\u001b[1;33m(\u001b[0m\u001b[0mlen\u001b[0m\u001b[1;33m(\u001b[0m\u001b[0msentences_fr_test\u001b[0m\u001b[1;33m)\u001b[0m\u001b[1;33m)\u001b[0m\u001b[1;33m:\u001b[0m\u001b[1;33m\u001b[0m\u001b[0m\n\u001b[0;32m---> 12\u001b[0;31m         \u001b[0mprob_fr\u001b[0m\u001b[1;33m.\u001b[0m\u001b[0mappend\u001b[0m\u001b[1;33m(\u001b[0m\u001b[0mget_scores_for_model\u001b[0m\u001b[1;33m(\u001b[0m\u001b[0msentences_eng_test\u001b[0m\u001b[1;33m[\u001b[0m\u001b[0mi\u001b[0m\u001b[1;33m]\u001b[0m\u001b[1;33m,\u001b[0m \u001b[0mstring_eng_test\u001b[0m\u001b[1;33m[\u001b[0m\u001b[0mi\u001b[0m\u001b[1;33m]\u001b[0m\u001b[1;33m,\u001b[0m \u001b[0mmodel3\u001b[0m\u001b[1;33m,\u001b[0m\u001b[0mchars\u001b[0m\u001b[1;33m,\u001b[0m \u001b[0mchar_indices\u001b[0m\u001b[1;33m)\u001b[0m\u001b[1;33m)\u001b[0m\u001b[1;33m\u001b[0m\u001b[0m\n\u001b[0m\u001b[1;32m     13\u001b[0m     \u001b[1;32mfor\u001b[0m \u001b[0mi\u001b[0m \u001b[1;32min\u001b[0m \u001b[0mrange\u001b[0m\u001b[1;33m(\u001b[0m\u001b[0mlen\u001b[0m\u001b[1;33m(\u001b[0m\u001b[0msentences_fr_test\u001b[0m\u001b[1;33m)\u001b[0m\u001b[1;33m)\u001b[0m\u001b[1;33m:\u001b[0m\u001b[1;33m\u001b[0m\u001b[0m\n\u001b[1;32m     14\u001b[0m         \u001b[0mprob_fr\u001b[0m\u001b[1;33m.\u001b[0m\u001b[0mappend\u001b[0m\u001b[1;33m(\u001b[0m\u001b[0mget_scores_for_model\u001b[0m\u001b[1;33m(\u001b[0m\u001b[0msentences_fr_test\u001b[0m\u001b[1;33m[\u001b[0m\u001b[0mi\u001b[0m\u001b[1;33m]\u001b[0m\u001b[1;33m,\u001b[0m \u001b[0mstring_fr_test\u001b[0m\u001b[1;33m[\u001b[0m\u001b[0mi\u001b[0m\u001b[1;33m]\u001b[0m\u001b[1;33m,\u001b[0m \u001b[0mmodel3\u001b[0m\u001b[1;33m,\u001b[0m \u001b[0mchars\u001b[0m\u001b[1;33m,\u001b[0m \u001b[0mchar_indices\u001b[0m\u001b[1;33m)\u001b[0m\u001b[1;33m)\u001b[0m\u001b[1;33m\u001b[0m\u001b[0m\n",
      "\u001b[0;31mNameError\u001b[0m: name 'model3' is not defined"
     ]
    }
   ],
   "source": [
    "for diversity in [ 1.0]:\n",
    "    print()\n",
    "    #print('----- diversity:', diversity)\n",
    "\n",
    "    sentences_fr_test =sentences_fr_test[:100]\n",
    "    string_fr_test=string_fr_test[:100]\n",
    "    sentences_eng_test =sentences_eng_test[:100]\n",
    "    string_eng_test=string_eng_test[:100]\n",
    "    #sentence=\n",
    "    prob_fr=[]\n",
    "    for i in range(len(sentences_fr_test)):\n",
    "        prob_fr.append(get_scores_for_model(sentences_eng_test[i], string_eng_test[i], model3,chars, char_indices))\n",
    "    for i in range(len(sentences_fr_test)):\n",
    "        prob_fr.append(get_scores_for_model(sentences_fr_test[i], string_fr_test[i], model3, chars, char_indices))\n",
    "    #sentence = text1[start_index: start_index + maxlen]\n",
    "    #print (prob_english)\n",
    "    with open(\"prob_eng/output_prob_\" + str(1) + \".csv\", 'wt') as f:\n",
    "        w = csv.writer(f, delimiter=',')\n",
    "        w.writerow(prob_fr)\n"
   ]
  },
  {
   "cell_type": "code",
   "execution_count": 12,
   "metadata": {
    "collapsed": false,
    "deletable": true,
    "editable": true
   },
   "outputs": [],
   "source": [
    "def predict_language(prob_english, prob_fr):\n",
    "    #print(len(prob_english))\n",
    "    y = [1] * len(prob_english)\n",
    "    probs_eng = []\n",
    "    probs_frn = []\n",
    "    for i in range(len(prob_english)):\n",
    "        sum_english = 0\n",
    "        sum_fr = 0\n",
    "        #print(len(prob_english[0]))\n",
    "        for j in range(len(prob_english[0])):\n",
    "            #print(i)\n",
    "            #print(j)\n",
    "            sum_english += float(prob_english[i][j])\n",
    "            sum_fr += float(prob_fr[i][j])\n",
    "        sum_english = np.exp(sum_english)\n",
    "        sum_fr = np.exp(sum_fr)\n",
    "        if sum_english < sum_fr:\n",
    "            y[i] = 0\n",
    "        if sum_fr == 0.0:\n",
    "            sum_fr = 0.0000000000001\n",
    "            #print(str(i) + \"Zero\")\n",
    "        probs_eng.append(sum_english)\n",
    "        probs_frn.append(sum_fr)\n",
    "    return y, probs_eng, probs_frn"
   ]
  },
  {
   "cell_type": "code",
   "execution_count": 13,
   "metadata": {
    "collapsed": false,
    "deletable": true,
    "editable": true
   },
   "outputs": [
    {
     "name": "stdout",
     "output_type": "stream",
     "text": [
      "----------------- Iteration: 1 --------------------\n",
      "1.21642402292e-16 0.665023724679\n",
      "[[89 11]\n",
      " [25 75]]\n",
      "0.82\n"
     ]
    },
    {
     "data": {
      "image/png": "[encoded data removed]",
      "text/plain": [
       "<matplotlib.figure.Figure at 0x22f0e3b1748>"
      ]
     },
     "metadata": {},
     "output_type": "display_data"
    }
   ],
   "source": [
    "import csv\n",
    "for iter in range(1,2):\n",
    "    print(\"----------------- Iteration: \" + str(iter) + \" --------------------\")\n",
    "    prob_english=[]\n",
    "    with open(\"prob_eng/output_prob_\" + str(iter) + \".csv\", 'rt') as f:\n",
    "            w = csv.reader(f, delimiter=',')\n",
    "            prob_english = list(w)\n",
    "    #print(prob_english)\n",
    "\n",
    "    prob_fr=[]\n",
    "    with open(\"prob_fr/output_prob_\" + str(iter) + \".csv\", 'rt') as f:\n",
    "            w = csv.reader(f, delimiter=',')\n",
    "            prob_fr = list(w)\n",
    "    \n",
    "    #print((prob_english), len(prob_fr))\n",
    "    true_labels = ([1] * 100) + ([0] * 100)\n",
    "    #print(true_labels.shape)\n",
    "\n",
    "    from sklearn.metrics import roc_auc_score, confusion_matrix, accuracy_score, auc, roc_curve\n",
    "    #try:\n",
    "    pred_y, logprob_english, logprob_fr = predict_language(prob_english, prob_fr)\n",
    "    #except:\n",
    "    #    continue\n",
    "    #x = [e for i, e in enumerate(logprob_fr) if e == 0]\n",
    "    #print(x)\n",
    "    print(min(logprob_fr), max(logprob_fr))\n",
    "    y_hat = np.array([a/b for (a, b) in zip(logprob_english, logprob_fr)])\n",
    "    #roc_auc_score(true_labels, y_hat)\n",
    "    \n",
    "    print (confusion_matrix(true_labels, pred_y))\n",
    "    print (accuracy_score(true_labels, pred_y))\n",
    "    #print (y_hat)\n",
    "    try:\n",
    "        fpr, tpr, _ = roc_curve(true_labels, y_hat)\n",
    "    except:\n",
    "        continue\n",
    "    roc_auc = auc(fpr, tpr)\n",
    "\n",
    "    import matplotlib.pyplot as plt\n",
    "    plt.figure()\n",
    "    lw = 2\n",
    "    plt.plot(fpr, tpr, color='darkorange',\n",
    "             lw=lw, label='ROC curve (area = %0.2f)' % roc_auc)\n",
    "    plt.plot([0, 1], [0, 1], color='navy', lw=lw, linestyle='--')\n",
    "    plt.xlim([0.0, 1.0])\n",
    "    plt.ylim([0.0, 1.05])\n",
    "    plt.xlabel('False Positive Rate')\n",
    "    plt.ylabel('True Positive Rate')\n",
    "    plt.title('Receiver operating characteristic example')\n",
    "    plt.legend(loc=\"lower right\")\n",
    "    plt.show()"
   ]
  },
  {
   "cell_type": "code",
   "execution_count": null,
   "metadata": {
    "collapsed": true,
    "deletable": true,
    "editable": true
   },
   "outputs": [],
   "source": []
  },
  {
   "cell_type": "code",
   "execution_count": null,
   "metadata": {
    "collapsed": true
   },
   "outputs": [],
   "source": []
  }
 ],
 "metadata": {
  "kernelspec": {
   "display_name": "Python 3",
   "language": "python",
   "name": "python3"
  },
  "language_info": {
   "codemirror_mode": {
    "name": "ipython",
    "version": 3
   },
   "file_extension": ".py",
   "mimetype": "text/x-python",
   "name": "python",
   "nbconvert_exporter": "python",
   "pygments_lexer": "ipython3",
   "version": "3.5.2"
  }
 },
 "nbformat": 4,
 "nbformat_minor": 2
}
