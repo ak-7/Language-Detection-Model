{
 "cells": [
  {
   "cell_type": "code",
   "execution_count": 1,
   "metadata": {
    "collapsed": false,
    "deletable": true,
    "editable": true
   },
   "outputs": [
    {
     "name": "stdout",
     "output_type": "stream",
     "text": [
      "200\n",
      "['soient nes dans le mariage ou hors mariage, jouiss', 'ariage ou hors mariage, jouissent de la meme prote', 'ge, jouissent de la meme protection sociale. artic', 'meme protection sociale. article 26 1. toute perso', \"ale. article 26 1. toute personne a droit a l'educ\", \"oute personne a droit a l'education. l'education d\", \"t a l'education. l'education doit etre gratuite, a\", 'ducation doit etre gratuite, au moins en ce qui co', \"ratuite, au moins en ce qui concerne l'enseignemen\", \" ce qui concerne l'enseignement elementaire et fon\", \"nseignement elementaire et fondamental. l'enseigne\", \"ire et fondamental. l'enseignement elementaire est\", \"l'enseignement elementaire est obligatoire. l'ense\", \"ntaire est obligatoire. l'enseignement technique e\", \"re. l'enseignement technique et\\n\\n\\x0cprofessionnel do\", 'echnique et\\n\\n\\x0cprofessionnel doit etre generalise; ', \"sionnel doit etre generalise; l'acces aux etudes s\", \"neralise; l'acces aux etudes superieures doit etre\", 'x etudes superieures doit etre ouvert en pleine eg', ' doit etre ouvert en pleine egalite a tous en fonc', ' pleine egalite a tous en fonction de leur merite.', \"us en fonction de leur merite. 2. l'education doit\", \"ur merite. 2. l'education doit viser au plein epan\", 'ation doit viser au plein epanouissement de la per', 'plein epanouissement de la personnalite humaine et', ' de la personnalite humaine et au renforcement du ', 'humaine et au renforcement du respect des droits d', \"cement du respect des droits de l'homme et des lib\", \"s droits de l'homme et des libertes fondamentales.\", 'et des libertes fondamentales. elle doit favoriser', 'amentales. elle doit favoriser la comprehension, l', \" favoriser la comprehension, la tolerance et l'ami\", \"hension, la tolerance et l'amitie entre toutes les\", \"e et l'amitie entre toutes les nations et tous les\", 'toutes les nations et tous les groupes raciaux ou ', 't tous les groupes raciaux ou religieux, ainsi que', 'aciaux ou religieux, ainsi que le developpement de', ' ainsi que le developpement des activites des nati', 'ppement des activites des nations unies pour le ma', 's des nations unies pour le maintien de la paix. 3', 'pour le maintien de la paix. 3. les parents ont, p', 'la paix. 3. les parents ont, par priorite, le droi', 'nts ont, par priorite, le droit de choisir le genr', \"e, le droit de choisir le genre d'education a donn\", \"ir le genre d'education a donner a leurs enfants.\\n\", 'ion a donner a leurs enfants.\\n\\narticle 27 1. toute', ' enfants.\\n\\narticle 27 1. toute personne a le droit', '7 1. toute personne a le droit de prendre part lib', 'a le droit de prendre part librement a la vie cult', 'e part librement a la vie culturelle de la communa', 'a vie culturelle de la communaute, de jouir des ar', 'la communaute, de jouir des arts et de participer ', 'uir des arts et de participer au progres scientifi', 'articiper au progres scientifique et aux bienfaits', ' scientifique et aux bienfaits qui en resultent 2.', ' bienfaits qui en resultent 2. chacun a droit a la', 'sultent 2. chacun a droit a la protection des inte', 'droit a la protection des interets moraux et mater', 'n des interets moraux et materiels decoulant de to', 'x et materiels decoulant de toute production scien', 'lant de toute production scientifique, litteraire ', 'tion scientifique, litteraire ou artistique dont i', \"itteraire ou artistique dont il est l'auteur. arti\", \"que dont il est l'auteur. article 28 toute personn\", 'teur. article 28 toute personne a droit a ce que r', 'te personne a droit a ce que regne, sur le plan so', 'a ce que regne, sur le plan social et sur le plan ', 'le plan social et sur le plan international, un or', 'r le plan international, un ordre tel que les droi', 'nal, un ordre tel que les droits et libertes enonc', 'e les droits et libertes enonces dans la presente ', 'rtes enonces dans la presente declaration puissent', ' presente declaration puissent y trouver plein eff', \"n puissent y trouver plein effet. article 29 1. l'\", \" plein effet. article 29 1. l'individu a des devoi\", \"e 29 1. l'individu a des devoirs envers la communa\", ' des devoirs envers la communaute dans laquelle se', 'la communaute dans laquelle seul le libre et plein', 'aquelle seul le libre et plein developpement de sa', 'e et plein developpement de sa personnalite est po', \"ment de sa personnalite est possible. 2. dans l'ex\", \"ite est possible. 2. dans l'exercice de ses droits\", \" dans l'exercice de ses droits et dans la jouissan\", 'ses droits et dans la jouissance de ses libertes, ', \"a jouissance de ses libertes, chacun n'est soumis \", \"libertes, chacun n'est soumis qu'aux limitations e\", \"st soumis qu'aux limitations etablies par la loi e\", 'itations etablies par la loi exclusivement en vue\\n', \"r la loi exclusivement en vue\\n\\n\\x0cd'assurer la recon\", \"nt en vue\\n\\n\\x0cd'assurer la reconnaissance et le resp\", 'r la reconnaissance et le respect des droits et li', \"et le respect des droits et libertes d'autrui et a\", \"oits et libertes d'autrui et afin de satisfaire au\", 'utrui et afin de satisfaire aux justes exigences d', \"isfaire aux justes exigences de la morale, de l'or\", \"xigences de la morale, de l'ordre public et du bie\", \"e, de l'ordre public et du bien-etre general dans \", ' et du bien-etre general dans une societe democrat', 'eral dans une societe democratique. 3. ces droits ', 'e democratique. 3. ces droits et libertes ne pourr', 'n or out of wedlock, shall enjoy the same social p', ' shall enjoy the same social protection. article 2', 'e social protection. article 26 1. everyone has th', ' article 26 1. everyone has the right to education', 'one has the right to education. education shall be', ' education. education shall be free, at least in t', 'n shall be free, at least in the elementary and fu', 'least in the elementary and fundamental stages. el', 'ary and fundamental stages. elementary education s', 'stages. elementary education shall be compulsory. ', 'ducation shall be compulsory. technical and profes', 'mpulsory. technical and professional education sha', 'and professional education shall be made generally', 'cation shall be made generally available and highe', ' generally available and higher education shall be', ' and higher education shall be equally accessible ', 'n shall be equally accessible to all on the basis ', 'ccessible to all on the basis of merit. 2. educati', 'the basis of merit. 2. education shall be directed', '2. education shall be directed to the full develop', 'e directed to the full development of the human pe', 'll development of the human personality and to the', 'e human personality and to the strengthening of re', 'and to the strengthening of respect for human righ', 'ning of respect for human rights and fundamental f', 'human rights and fundamental freedoms. it shall pr', 'damental freedoms. it shall promote understanding,', 't shall promote understanding, tolerance and frien', 'rstanding, tolerance and friendship among all nati', ' and friendship among all nations, racial or relig', 'g all nations, racial or religious groups, and sha', 'l or religious groups, and shall further the activ', 's, and shall further the activities of the united ', ' the activities of the united nations for the main', 'he united nations for the maintenance of peace. 3.', 'r the maintenance of peace. 3. parents have a prio', ' peace. 3. parents have a prior right to choose th', 'ave a prior right to choose the kind of education ', ' choose the kind of education that shall be given ', 'education that shall be given to their children. a', ' be given to their children. article 27 1. everyon', 'hildren. article 27 1. everyone has the right free', '1. everyone has the right freely to participate in', 'right freely to participate in the cultural life o', 'icipate in the cultural life of the community, to ', 'ral life of the community, to enjoy the arts and t', 'unity, to enjoy the arts and to share in scientifi', 'arts and to share in scientific advancement and it', ' scientific advancement and its benefits.\\n\\n\\x0c2. eve', 'ent and its benefits.\\n\\n\\x0c2. everyone has the right ', '.\\n\\n\\x0c2. everyone has the right to the protection of', 'the right to the protection of the moral and mater', 'tection of the moral and material interests result', ' and material interests resulting from any scienti', 'sts resulting from any scientific, literary or art', 'ny scientific, literary or artistic production of ', 'ary or artistic production of which he is the auth', 'uction of which he is the author. article 28 every', 's the author. article 28 everyone is entitled to a', 'e 28 everyone is entitled to a social and internat', 'itled to a social and international order in which', 'd international order in which the rights and free', 'r in which the rights and freedoms set forth in th', 's and freedoms set forth in this declaration can b', 'orth in this declaration can be fully realized. ar', 'tion can be fully realized. article 29 1. everyone', 'alized. article 29 1. everyone has duties to the c', '. everyone has duties to the community in which al', 's to the community in which alone the free and ful', 'n which alone the free and full development of his', 'ee and full development of his personality is poss', 'ent of his personality is possible. 2. in the exer', 'ty is possible. 2. in the exercise of his rights a', 'n the exercise of his rights and freedoms, everyon', 's rights and freedoms, everyone shall be subject o', 's, everyone shall be subject only to such limitati', ' subject only to such limitations as are determine', 'h limitations as are determined by law solely for ', ' determined by law solely for the purpose of secur', 'olely for the purpose of securing due recognition ', 'e of securing due recognition and respect for the ', 'cognition and respect for the rights and freedoms ', 't for the rights and freedoms of others and of mee', ' freedoms of others and of meeting the just requir', 'and of meeting the just requirements of morality, ', 'ust requirements of morality, public order and the', 'morality, public order and the general welfare in ', 'er and the general welfare in a democratic society', 'elfare in a democratic society. 3. these rights an', 'ic society. 3. these rights and freedoms may in no', ' rights and freedoms may in no case be exercised c', ' may in no case be exercised contrary to the purpo', 'xercised contrary to the purposes and principles o', ' the purposes and principles of the united nations', 'inciples of the united nations. article 30 nothing', 'ed nations. article 30 nothing in this declaration', '30 nothing in this declaration may be interpreted ', 'eclaration may be interpreted as implying for any ', 'terpreted as implying for any state, group or pers', 'g for any state, group or person any right to enga']\n"
     ]
    }
   ],
   "source": [
    "import csv\n",
    "with open(\"test_50.csv\", 'rt') as f:\n",
    "    w = csv.reader(f, dialect='excel')\n",
    "    for row in w:\n",
    "        string_test = list(row)\n",
    "print(len(string_test))\n",
    "l = len(string_test)\n",
    "print(string_test)"
   ]
  },
  {
   "cell_type": "code",
   "execution_count": 45,
   "metadata": {
    "collapsed": false,
    "deletable": true,
    "editable": true
   },
   "outputs": [
    {
     "name": "stdout",
     "output_type": "stream",
     "text": [
      "(46, ' enfants', ['und'])\n",
      "(89, 'nt en vue', ['und'])\n",
      "(150, [])\n"
     ]
    }
   ],
   "source": [
    "result=[]\n",
    "#0 is english 1 is french\n",
    "true_labels =[1]*100 + [0]*100\n",
    "for i in range(200):\n",
    "    ! cd /Users/akankshabindal/Desktop/GT/WSTM/hw3/franc-master\n",
    "    #! echo $PWD\n",
    "    #print(string_test[i])\n",
    "    test1 = str(string_test[i])\n",
    "    test1 = test1.replace('.',\"\")\n",
    "    test1 = test1.replace('\\'',\"\")\n",
    "    test1 = test1.replace(';',\"\")\n",
    "    #print(test1)\n",
    "    test = !printf \"%s\" \"$test1\"\n",
    "    test=test[0]\n",
    "    #print(test)\n",
    "    #if(i==150):\n",
    "    #    test = '.\\n\\n\\x0c2'\n",
    "    #if(i==12):\n",
    "    #    result.append('fra')\n",
    "    #    continue\n",
    "    #! echo {test}\n",
    "    try:\n",
    "        a = ! franc --whitelist eng,fra \"$test\"\n",
    "        #print(a)\n",
    "        if(a[0]=='fra' or a[0]=='eng'):\n",
    "            result.append(a[0])\n",
    "        else:\n",
    "            result.append('fra')\n",
    "            print(i,test,a)\n",
    "    except:\n",
    "        result.append('fra')\n",
    "        print(i,a)\n",
    "    #print(i,{string_test[i]})\n",
    "    \n",
    "    "
   ]
  },
  {
   "cell_type": "code",
   "execution_count": 44,
   "metadata": {
    "collapsed": false,
    "deletable": true,
    "editable": true
   },
   "outputs": [
    {
     "name": "stdout",
     "output_type": "stream",
     "text": [
      "200\n",
      "['fra', 'fra', 'fra', 'fra', 'fra', 'fra', 'fra', 'fra', 'fra', 'fra', 'fra', 'fra', 'fra', 'fra', 'fra', 'fra', 'fra', 'fra', 'fra', 'fra', 'fra', 'fra', 'fra', 'fra', 'fra', 'fra', 'fra', 'fra', 'fra', 'fra', 'fra', 'fra', 'fra', 'fra', 'fra', 'fra', 'fra', 'fra', 'fra', 'fra', 'fra', 'fra', 'fra', 'fra', 'fra', 'fra', 'fra', 'fra', 'fra', 'fra', 'fra', 'fra', 'fra', 'fra', 'fra', 'fra', 'fra', 'fra', 'fra', 'fra', 'fra', 'fra', 'fra', 'fra', 'fra', 'fra', 'fra', 'fra', 'fra', 'fra', 'fra', 'fra', 'fra', 'fra', 'fra', 'fra', 'fra', 'fra', 'fra', 'fra', 'fra', 'fra', 'fra', 'fra', 'fra', 'fra', 'fra', 'fra', 'fra', 'fra', 'fra', 'fra', 'fra', 'fra', 'fra', 'fra', 'fra', 'fra', 'fra', 'fra', 'eng', 'eng', 'eng', 'eng', 'eng', 'eng', 'eng', 'eng', 'eng', 'eng', 'eng', 'eng', 'eng', 'eng', 'eng', 'eng', 'eng', 'eng', 'eng', 'eng', 'eng', 'eng', 'eng', 'eng', 'eng', 'eng', 'eng', 'eng', 'eng', 'eng', 'eng', 'eng', 'eng', 'eng', 'eng', 'eng', 'eng', 'eng', 'eng', 'eng', 'eng', 'eng', 'eng', 'eng', 'eng', 'eng', 'eng', 'eng', 'eng', 'eng', 'fra', 'eng', 'eng', 'eng', 'eng', 'eng', 'eng', 'eng', 'eng', 'eng', 'eng', 'eng', 'eng', 'eng', 'eng', 'eng', 'eng', 'eng', 'eng', 'eng', 'eng', 'eng', 'eng', 'eng', 'eng', 'eng', 'eng', 'eng', 'eng', 'eng', 'eng', 'eng', 'eng', 'eng', 'eng', 'eng', 'eng', 'eng', 'eng', 'eng', 'eng', 'eng', 'eng', 'eng', 'eng', 'eng', 'eng', 'eng', 'eng', 'eng']\n",
      "[[ 99   1]\n",
      " [  0 100]]\n",
      "0.995\n"
     ]
    }
   ],
   "source": [
    "print(len(result))\n",
    "from sklearn.metrics import roc_auc_score, confusion_matrix, accuracy_score, auc, roc_curve\n",
    "dct={'fra':1,'eng':0}\n",
    "pred_y = [dct[x] for x in result ]\n",
    "print(result)\n",
    "print (confusion_matrix(true_labels, pred_y))\n",
    "print (accuracy_score(true_labels, pred_y))"
   ]
  },
  {
   "cell_type": "markdown",
   "metadata": {
    "collapsed": true,
    "deletable": true,
    "editable": true
   },
   "source": [
    "# ALL LANGUAGES"
   ]
  },
  {
   "cell_type": "code",
   "execution_count": 3,
   "metadata": {
    "collapsed": false
   },
   "outputs": [
    {
     "name": "stdout",
     "output_type": "stream",
     "text": [
      "230\n",
      "['ent n\\xcc\\xa9s dans le mariage ou hors mariage, jouissen', 'iage ou hors mariage, jouissent de la m\\xcc\\xbbme protec', ', jouissent de la m\\xcc\\xbbme protection sociale. articl', '\\xbbme protection sociale. article 26 1. toute person', \"le. article 26 1. toute personne a droit \\xcc\\xca l'\\xcc\\xa9du\", \"ute personne a droit \\xcc\\xca l'\\xcc\\xa9ducation. l'\\xcc\\xa9ducation\", \" \\xcc\\xca l'\\xcc\\xa9ducation. l'\\xcc\\xa9ducation doit \\xcc\\xbbtre gratuite\", '\\xcc\\xa9ducation doit \\xcc\\xbbtre gratuite, au moins en ce qui', \"e gratuite, au moins en ce qui concerne l'enseigne\", \" en ce qui concerne l'enseignement \\xcc\\xa9l\\xcc\\xa9mentaire e\", 'n or out of wedlock, shall enjoy the same social p', ' shall enjoy the same social protection. article 2', 'e social protection. article 26 1. everyone has th', ' article 26 1. everyone has the right to education', 'one has the right to education. education shall be', ' education. education shall be free, at least in t', 'n shall be free, at least in the elementary and fu', 'least in the elementary and fundamental stages. el', 'ary and fundamental stages. elementary education s', 'stages. elementary education shall be compulsory. ', 'liche wie au\\xcc\\xd9ereheliche, genie\\xcc\\xd9en den gleichen s', 'iche, genie\\xcc\\xd9en den gleichen sozialen schutz. arti', 'gleichen sozialen schutz. artikel 26 1. jeder hat ', 'hutz. artikel 26 1. jeder hat das recht auf bildun', 'jeder hat das recht auf bildung. die bildung ist u', 'auf bildung. die bildung ist unentgeltlich, zum mi', 'dung ist unentgeltlich, zum mindesten der grundsch', 'ch, zum mindesten der grundschulunterricht und die', 'r grundschulunterricht und die grundlegende bildun', 'ht und die grundlegende bildung. der grundschulunt', '\\xc1rok na zvl\\xcc\\xc1\\x81\\xc1tn\\xcc_ p\\xcc\\xa9\\x80\\x8di a pomoc. v\\x81\\xc1echny d\\x80\\xddti', 'p\\xcc\\xa9\\x80\\x8di a pomoc. v\\x81\\xc1echny d\\x80\\xddti, a\\x81\\xb4 man\\x81_elsk\\xcc\\xa9 ne', 'chny d\\x80\\xddti, a\\x81\\xb4 man\\x81_elsk\\xcc\\xa9 nebo neman\\x81_elsk\\xcc\\xa9, po', '_elsk\\xcc\\xa9 nebo neman\\x81_elsk\\xcc\\xa9, poz\\xcc_vaj\\xcc_ stejn\\xcc\\xa9 soc', 'elsk\\xcc\\xa9, poz\\xcc_vaj\\xcc_ stejn\\xcc\\xa9 soci\\xcc\\xc1ln\\xcc_ ochrany. \\x80\\xcel', 'tejn\\xcc\\xa9 soci\\xcc\\xc1ln\\xcc_ ochrany. \\x80\\xcel\\xcc\\xc1nek 26 1. ka\\x81_d\\xcc_ ', 'hrany. \\x80\\xcel\\xcc\\xc1nek 26 1. ka\\x81_d\\xcc_ m\\xcc\\xc1 pr\\xcc\\xc1vo na vzd\\x80\\xddl', '. ka\\x81_d\\xcc_ m\\xcc\\xc1 pr\\xcc\\xc1vo na vzd\\x80\\xddl\\xcc\\xc1n\\xcc_. vzd\\x80\\xddl\\xcc\\xc1n\\xcc_ n', ' na vzd\\x80\\xddl\\xcc\\xc1n\\xcc_. vzd\\x80\\xddl\\xcc\\xc1n\\xcc_ nech\\x81\\xb4 je bezplatn\\xcc\\xa9,', '\\x80\\xddl\\xcc\\xc1n\\xcc_ nech\\x81\\xb4 je bezplatn\\xcc\\xa9, alespo\\x81\\xf6 v po\\x80\\x8d\\xcc\\xc1te', 'd, sygdom, uarbejdsdygtighed, enkestand, alderdom ', 'ygtighed, enkestand, alderdom eller\\r\\r\\x0candet tab af', ' alderdom eller\\r\\r\\x0candet tab af fortjenstmulighed u', 'det tab af fortjenstmulighed under omst\\xcc_ndigheder', 'mulighed under omst\\xcc_ndigheder, der ikke er selvfo', '_ndigheder, der ikke er selvforskyldt. 2. m\\xcc\\xfcdre o', ' er selvforskyldt. 2. m\\xcc\\xfcdre og b\\xcc\\xfcrn har krav p\\xcc\\xb4', '. m\\xcc\\xfcdre og b\\xcc\\xfcrn har krav p\\xcc\\xb4 s\\xcc_rlig omsorg og h', 'r krav p\\xcc\\xb4 s\\xcc_rlig omsorg og hj\\xcc_lp. alle b\\xcc\\xfcrn sk', 'msorg og hj\\xcc_lp. alle b\\xcc\\xfcrn skal, hvadenten de er ', 'et wettig, zullen dezelfde sociale bescherming gen', 'zelfde sociale bescherming genieten. artikel 26 1.', 'erming genieten. artikel 26 1. een ieder heeft rec', 'ikel 26 1. een ieder heeft recht op onderwijs; het', ' heeft recht op onderwijs; het onderwijs zal koste', 'rwijs; het onderwijs zal kosteloos zijn, althans w', ' zal kosteloos zijn, althans wat het lager en basi', ' althans wat het lager en basisonderwijs betreft. ', 'er en basisonderwijs betreft. het lager onderwijs ', ' betreft. het lager onderwijs zal verplicht zijn. ', '\\xeb\\xb1\\xeb_\\xeb_\\xeb\\xc2\\xeb_\\xeb\\xc0\\xec\\xc9\\xeb_ \\xec\\xe3\\xeb\\xe1\\xeb_ \\xeb\\xf8\\xeb\\xab\\xeb_\\xeb\\xb1 \\xeb\\xbc\\xeb\\xc0\\xeb_\\xeb_\\xec\\xe4\\xeb_\\xeb_\\xeb\\xbc\\xeb', '\\xe1\\xeb_ \\xeb\\xf8\\xeb\\xab\\xeb_\\xeb\\xb1 \\xeb\\xbc\\xeb\\xc0\\xeb_\\xeb_\\xec\\xe4\\xeb_\\xeb_\\xeb\\xbc\\xeb\\xa8 \\xec\\xdb\\xec\\x81\\xeb\\xc0\\xec\\xc4\\xec\\xe3\\xeb\\xb1\\xec\\xc4\\xeb\\xf8\\xeb\\xb1', '_\\xec\\xe4\\xeb_\\xeb_\\xeb\\xbc\\xeb\\xa8 \\xec\\xdb\\xec\\x81\\xeb\\xc0\\xec\\xc4\\xec\\xe3\\xeb\\xb1\\xec\\xc4\\xeb\\xf8\\xeb\\xb1. \\xeb\\xd4\\xeb\\xc1\\xeb\\xf7\\xeb\\xc1\\xeb\\xd9 26 1. \\xeb', '\\xec\\xe3\\xeb\\xb1\\xec\\xc4\\xeb\\xf8\\xeb\\xb1. \\xeb\\xd4\\xeb\\xc1\\xeb\\xf7\\xeb\\xc1\\xeb\\xd9 26 1. \\xeb_\\xeb\\xb1\\xeb\\xfc\\xeb_\\xeb_\\xeb\\xb1\\xec\\xe2 \\xeb_\\xec\\xe0\\xeb\\xb5', '\\xeb\\xd9 26 1. \\xeb_\\xeb\\xb1\\xeb\\xfc\\xeb_\\xeb_\\xeb\\xb1\\xec\\xe2 \\xeb_\\xec\\xe0\\xeb\\xb5\\xeb_ \\xeb\\xab\\xeb_\\xeb\\xbc\\xeb\\xb1\\xeb\\xf8\\xec\\xe4\\xeb_\\xeb\\xb1 ', '\\xb1\\xec\\xe2 \\xeb_\\xec\\xe0\\xeb\\xb5\\xeb_ \\xeb\\xab\\xeb_\\xeb\\xbc\\xeb\\xb1\\xeb\\xf8\\xec\\xe4\\xeb_\\xeb\\xb1 \\xec\\xc4\\xec\\xe3\\xeb\\xe1\\xeb_ \\xeb\\xb5\\xeb\\xbc\\xec\\xdb\\xeb\\xb1\\xeb\\xf8\\xeb', '\\xb1\\xeb\\xf8\\xec\\xe4\\xeb_\\xeb\\xb1 \\xec\\xc4\\xec\\xe3\\xeb\\xe1\\xeb_ \\xeb\\xb5\\xeb\\xbc\\xec\\xdb\\xeb\\xb1\\xeb\\xf8\\xeb\\xab\\xeb\\xb5\\xec\\xc9\\xec\\xc4\\xeb\\xe1. \\xeb\\xd1 \\xeb\\xb5\\xeb\\xbc\\xec\\xdb', '\\xb5\\xeb\\xbc\\xec\\xdb\\xeb\\xb1\\xeb\\xf8\\xeb\\xab\\xeb\\xb5\\xec\\xc9\\xec\\xc4\\xeb\\xe1. \\xeb\\xd1 \\xeb\\xb5\\xeb\\xbc\\xec\\xdb\\xeb\\xb1\\xeb\\xf8\\xeb\\xab\\xeb\\xb5\\xec\\xc9\\xec\\xc4\\xeb\\xe1 \\xec\\xdb\\xec\\x81\\xeb', ' \\xeb\\xd1 \\xeb\\xb5\\xeb\\xbc\\xec\\xdb\\xeb\\xb1\\xeb\\xf8\\xeb\\xab\\xeb\\xb5\\xec\\xc9\\xec\\xc4\\xeb\\xe1 \\xec\\xdb\\xec\\x81\\xeb_\\xec\\xdb\\xeb\\xb5\\xeb_ \\xeb_\\xeb\\xb1 \\xec\\xdb\\xeb\\xb1\\xec\\x81\\xeb', '\\xec\\xc4\\xeb\\xe1 \\xec\\xdb\\xec\\x81\\xeb_\\xec\\xdb\\xeb\\xb5\\xeb_ \\xeb_\\xeb\\xb1 \\xec\\xdb\\xeb\\xb1\\xec\\x81\\xeb_\\xec\\xe0\\xeb\\xb5\\xec\\xe3\\xeb\\xb1\\xeb_ \\xeb\\xab\\xec\\xe4\\xec\\x81\\xeb\\xb5', ' k\\xcc_v\\xcc_l sz\\xcc_letett, ugyanabban a szoci\\xcc\\xc1lis v\\xcc\\xa9de', ' ugyanabban a szoci\\xcc\\xc1lis v\\xcc\\xa9delemben r\\xcc\\xa9szes\\xcc_l. 2', '\\xc1lis v\\xcc\\xa9delemben r\\xcc\\xa9szes\\xcc_l. 26. cikk 1. minden sz', 'szes\\xcc_l. 26. cikk 1. minden szem\\xcc\\xa9lynek joga van a', ' minden szem\\xcc\\xa9lynek joga van a nevel\\xcc\\xa9shez. a neve', 'joga van a nevel\\xcc\\xa9shez. a nevel\\xcc\\xa9snek, legal\\xcc\\xc1bbis', 'ez. a nevel\\xcc\\xa9snek, legal\\xcc\\xc1bbis az elemi \\xcc\\xa9s alapve', 'egal\\xcc\\xc1bbis az elemi \\xcc\\xa9s alapvet\\x81\\xd4 oktat\\xcc\\xc1st illet\\x81', '\\xcc\\xa9s alapvet\\x81\\xd4 oktat\\xcc\\xc1st illet\\x81\\xd4en, ingyenesnek kel', '\\xc1st illet\\x81\\xd4en, ingyenesnek kell lennie. az elemi o', 'di perdita di mezzi di sussistenza per circostanze', 'di sussistenza per circostanze indipendenti dalla ', 'ircostanze indipendenti dalla sua volont\\xcc\\xca. 2. la ', \"nti dalla sua volont\\xcc\\xca. 2. la maternit\\xcc\\xca e l'infan\", \"\\xcc\\xca. 2. la maternit\\xcc\\xca e l'infanzia hanno diritto a \", \" e l'infanzia hanno diritto a speciali cure ed ass\", 'diritto a speciali cure ed assistenza. tutti i bam', 'ure ed assistenza. tutti i bambini, nati nel matri', 'utti i bambini, nati nel matrimonio o fuori di ess', ' nel matrimonio o fuori di esso, devono godere del', '\\xa8\\x8c\\xc9\\x90 \\x8d\\xc7\\xb4\\x8b\\x81\\xf8\\x8b\\xdb\\x81\\x8c\\xc7\\xc1\\x8c\\xe0\\xbc\\x8b\\x81\\xa4\\x8b\\x81\\xe2\\x8b\\xe2\\xdc\\x8b\\x81\\xac\\x8c\\x90_\\x8b\\x81\\xac\\x8b\\xe2\\xd5\\x8c\\xa5\\x8f\\x8b\\xe2\\x8f\\x8b\\x81_', '\\x8b\\x81\\xa4\\x8b\\x81\\xe2\\x8b\\xe2\\xdc\\x8b\\x81\\xac\\x8c\\x90_\\x8b\\x81\\xac\\x8b\\xe2\\xd5\\x8c\\xa5\\x8f\\x8b\\xe2\\x8f\\x8b\\x81_\\x8b\\xdb\\x81\\x8c\\x90\\xce\\x8b\\x81\\xf7\\x8d__\\x8a__\\x8d_\\xe3\\x8a\\xc0', '\\xd5\\x8c\\xa5\\x8f\\x8b\\xe2\\x8f\\x8b\\x81_\\x8b\\xdb\\x81\\x8c\\x90\\xce\\x8b\\x81\\xf7\\x8d__\\x8a__\\x8d_\\xe3\\x8a\\xc0\\x9d\\x8f_\\xe1\\x8b\\xe2\\xd5\\x8a\\xbc\\xc7\\xbe\\xcf\\xe4\\x8b\\x81\\xaa\\x8b\\xe2\\xdc\\x8b', '__\\x8a__\\x8d_\\xe3\\x8a\\xc0\\x9d\\x8f_\\xe1\\x8b\\xe2\\xd5\\x8a\\xbc\\xc7\\xbe\\xcf\\xe4\\x8b\\x81\\xaa\\x8b\\xe2\\xdc\\x8b\\xdb\\xe2 \\x8d\\xc2\\xc226\\xbe\\x9d\\xc1 1. \\x8b\\x81\\xaa\\x8b\\x81', '\\xbe\\xcf\\xe4\\x8b\\x81\\xaa\\x8b\\xe2\\xdc\\x8b\\xdb\\xe2 \\x8d\\xc2\\xc226\\xbe\\x9d\\xc1 1. \\x8b\\x81\\xaa\\x8b\\x81_\\x8b\\x81_\\x8a\\xbc\\xbc\\x8b\\x81\\xf8\\x8b\\xdb\\x81\\xbe\\xa5\\xaa\\x8f\\xe2_\\x8b', '\\xc1 1. \\x8b\\x81\\xaa\\x8b\\x81_\\x8b\\x81_\\x8a\\xbc\\xbc\\x8b\\x81\\xf8\\x8b\\xdb\\x81\\xbe\\xa5\\xaa\\x8f\\xe2_\\x8b\\xe2\\xd5\\x8c\\x8f\\xd1\\x8b\\x81\\xd4\\x8b\\xe2\\xdc\\xbe\\xac\\xa9\\x8c\\xf6\\xa9\\x8b\\xe2\\xd5', '\\x8b\\xdb\\x81\\xbe\\xa5\\xaa\\x8f\\xe2_\\x8b\\xe2\\xd5\\x8c\\x8f\\xd1\\x8b\\x81\\xd4\\x8b\\xe2\\xdc\\xbe\\xac\\xa9\\x8c\\xf6\\xa9\\x8b\\xe2\\xd5\\xbe\\xcf\\xe4\\x8b\\x81\\xaa\\x8b\\xe2\\xdc\\x8b\\xdb\\xe2\\xbe\\xa5\\xaa\\x8f\\xe2_\\x8b\\x81', '\\xdc\\xbe\\xac\\xa9\\x8c\\xf6\\xa9\\x8b\\xe2\\xd5\\xbe\\xcf\\xe4\\x8b\\x81\\xaa\\x8b\\xe2\\xdc\\x8b\\xdb\\xe2\\xbe\\xa5\\xaa\\x8f\\xe2_\\x8b\\x81\\xf8\\x8b\\xdb\\x81\\x8c\\xa1\\xd4\\x8b\\x81\\xbb\\x8b\\x81\\x8f\\x8b\\x81\\xac\\x8b\\xe2\\xe2\\x8c', '\\xdb\\xe2\\xbe\\xa5\\xaa\\x8f\\xe2_\\x8b\\x81\\xf8\\x8b\\xdb\\x81\\x8c\\xa1\\xd4\\x8b\\x81\\xbb\\x8b\\x81\\x8f\\x8b\\x81\\xac\\x8b\\xe2\\xe2\\x8c\\xf6\\x9d\\x8d_\\xe4 \\x8b\\x81\\xa8\\x8c\\x8f_\\x8b\\x81_\\x8c\\xd9\\xbc\\x8d_', '\\x8b\\x81\\x8f\\x8b\\x81\\xac\\x8b\\xe2\\xe2\\x8c\\xf6\\x9d\\x8d_\\xe4 \\x8b\\x81\\xa8\\x8c\\x8f_\\x8b\\x81_\\x8c\\xd9\\xbc\\x8d__\\x8d_\\xe3\\x8b\\x81\\xa8\\xbe\\xa8\\xb5\\x8e__\\x8b\\x81\\xc7\\x8b\\x81_\\x8b', '\\xe5\\xcal\\x80\\xc7dzek\\x80_u\\xe5\\xcazaud\\x80\\xd2jumu\\xe5\\xcagad\\x80\\xc7jumos,\\xe5\\xcakas\\xe5\\xcaradu\\x81\\xc1', 'jumu\\xe5\\xcagad\\x80\\xc7jumos,\\xe5\\xcakas\\xe5\\xcaradu\\x81\\xc1ies\\xe5\\xcano\\xe5\\xcavi\\x81\\xa0a\\xe5\\xcaneat', 'as\\xe5\\xcaradu\\x81\\xc1ies\\xe5\\xcano\\xe5\\xcavi\\x81\\xa0a\\xe5\\xcaneatkar\\x80\\xc7gu\\xe5\\xca apst\\x80\\x81k\\x80_u', 'i\\x81\\xa0a\\xe5\\xcaneatkar\\x80\\xc7gu\\xe5\\xca apst\\x80\\x81k\\x80_u\\xe5\\xcad\\x80\\xd2\\x80_.\\xe5\\xca 2.\\xe5\\xcam\\x80\\x81t\\x80', 'apst\\x80\\x81k\\x80_u\\xe5\\xcad\\x80\\xd2\\x80_.\\xe5\\xca 2.\\xe5\\xcam\\x80\\x81t\\x80\\xd2m\\xe5\\xcaun\\xe5\\xcab\\x80\\xd2rniem\\xe5\\xcair', ' 2.\\xe5\\xcam\\x80\\x81t\\x80\\xd2m\\xe5\\xcaun\\xe5\\xcab\\x80\\xd2rniem\\xe5\\xcair\\xe5\\xcaties\\x80\\xc7bas\\xe5\\xcauz\\xe5\\xca\\x80\\xc7p', '\\xd2rniem\\xe5\\xcair\\xe5\\xcaties\\x80\\xc7bas\\xe5\\xcauz\\xe5\\xca\\x80\\xc7pa\\x81\\xc1u\\xe5\\xcaaizsardz\\x80\\xc7bu\\xe5\\xca', 's\\xe5\\xcauz\\xe5\\xca\\x80\\xc7pa\\x81\\xc1u\\xe5\\xcaaizsardz\\x80\\xc7bu\\xe5\\xcaun\\xe5\\xcapal\\x80\\xc7dz\\x80\\xc7bu.\\xe5\\xcavi', 'ardz\\x80\\xc7bu\\xe5\\xcaun\\xe5\\xcapal\\x80\\xc7dz\\x80\\xc7bu.\\xe5\\xcavisiem\\xe5\\xcab\\x80\\xd2rniem,\\xe5\\xca la', 'z\\x80\\xc7bu.\\xe5\\xcavisiem\\xe5\\xcab\\x80\\xd2rniem,\\xe5\\xca laul\\x80\\xc7b\\x80\\x81\\xe5\\xcaun\\xe5\\xca\\x80\\x81rlaul', 'r nesantuokiniai, naudojasi vienoda socialine apsa', 'udojasi vienoda socialine apsauga. 26 straipsnis 1', 'aline apsauga. 26 straipsnis 1. kiekvienas turi te', 'raipsnis 1. kiekvienas turi teis\\x80\\xaa \\x80\\xf8 moksl\\x80\\xc9. mok', 'as turi teis\\x80\\xaa \\x80\\xf8 moksl\\x80\\xc9. mokslas, bent jau pradi', 'ksl\\x80\\xc9. mokslas, bent jau pradinio ir pagrindinio i', ' jau pradinio ir pagrindinio i\\x81\\xc1silavinimo lygmen\\x81', 'rindinio i\\x81\\xc1silavinimo lygmen\\x81_, yra nemokamas. pr', 'mo lygmen\\x81_, yra nemokamas. pradinis mokslas yra p', 'okamas. pradinis mokslas yra privalomas. techninis', ', senex aut defectus a copiis, invitus. 2. gignend', ' a copiis, invitus. 2. gignendi tempus et puerilis', '2. gignendi tempus et puerilis aetas maxima cura c', 't puerilis aetas maxima cura custodienda sunt. omn', 'ima cura custodienda sunt. omnibus pueris, et matr', ' sunt. omnibus pueris, et matrimonium et extra ide', 's, et matrimonium et extra idem natis, eadem est h', ' extra idem natis, eadem est humanae societatis tu', 'adem est humanae societatis tutela. xxvi 1. suae q', 'ietatis tutela. xxvi 1. suae quisque ipsius doctri', 'ueri, sive in matrmonio sive extra matrimonium nat', 'nio sive extra matrimonium nati sunt, eodem social', 'monium nati sunt, eodem sociali praesidio fruuntur', 'dem sociali praesidio fruuntur. xxvi i. omnis jus ', 'o fruuntur. xxvi i. omnis jus habet educationi. ed', 'omnis jus habet educationi. educatio debet gratuit', 'ationi. educatio debet gratuita esse, quod saltem ', 'et gratuita esse, quod saltem pertinet ad primas p', 'od saltem pertinet ad primas praecipuasque littera', 'd primas praecipuasque litteras. primae litterae s', \"stand. d'kanner alleguer, ob se am odder n\\xcc\\xc7t am b\", 'guer, ob se am odder n\\xcc\\xc7t am bestiednes gebuer gin', ' n\\xcc\\xc7t am bestiednes gebuer gin, kommen an de genos', 'gebuer gin, kommen an de genoss vun deem selwechte', 'n de genoss vun deem selwechten zoziale schutz. ar', ' selwechten zoziale schutz. artikel 26 1. all m\\xcc\\xc7n', \"schutz. artikel 26 1. all m\\xcc\\xc7nsch huet d'recht op \", \". all m\\xcc\\xc7nsch huet d'recht op bildung. den unterr\\xcc\", \"'recht op bildung. den unterr\\xcc\\xa9cht muss op d'manns\", \"en unterr\\xcc\\xa9cht muss op d'mannst fir d'elementar- a\", '\\xc1, kemm barra minnu, g\\x80\\xa4andhom igawdu l-istess pro', ' g\\x80\\xa4andhom igawdu l-istess protezzjoni spe\\x80\\xdcjali. ', 'istess protezzjoni spe\\x80\\xdcjali. l-artiklu 26. 1. kul', 'pe\\x80\\xdcjali. l-artiklu 26. 1. kul\\x80\\xa4add g\\x80\\xa4andu l-jedd', '26. 1. kul\\x80\\xa4add g\\x80\\xa4andu l-jedd g\\x80\\xa4all-edukazzjoni.', 'ndu l-jedd g\\x80\\xa4all-edukazzjoni. l-edukazzjoni g\\x80\\xa4an', \"ukazzjoni. l-edukazzjoni g\\x80\\xa4anda tkun b'xejn, g\\x80\\xa4a\", \"joni g\\x80\\xa4anda tkun b'xejn, g\\x80\\xa4allinqas fil-gradi el\", 'xejn, g\\x80\\xa4allinqas fil-gradi elementari u fondament', 'l-gradi elementari u fondamentali tag\\x80\\xa4ha. ledukaz', 'odas as crian\\xcc\\xa4as, nascidas dentro ou fora do matr', 'ascidas dentro ou fora do matrim\\xcc\\xabnio, gozam da me', 'ra do matrim\\xcc\\xabnio, gozam da mesma protec\\xcc\\xa4\\xcc\\xa3o soci', 'ozam da mesma protec\\xcc\\xa4\\xcc\\xa3o social.\\r\\rartigo 26\\xe5\\xa1\\r1. ', '\\xcc\\xa4\\xcc\\xa3o social.\\r\\rartigo 26\\xe5\\xa1\\r1. toda a pessoa tem di', 'o 26\\xe5\\xa1\\r1. toda a pessoa tem direito \\xcc\\xca educa\\xcc\\xa4\\xcc\\xa3o.', 'soa tem direito \\xcc\\xca educa\\xcc\\xa4\\xcc\\xa3o. a educa\\xcc\\xa4\\xcc\\xa3o deve s', 'duca\\xcc\\xa4\\xcc\\xa3o. a educa\\xcc\\xa4\\xcc\\xa3o deve ser gratuita, pelo me', '\\xcc\\xa3o deve ser gratuita, pelo menos a correspondente', 'a, pelo menos a correspondente ao ensino elementar', 'olen \\x80\\x8da\\x80\\x8dipa ba\\x81\\xc1i ulavno arakibe thaj pomo\\x81\\xc1tari', 'ulavno arakibe thaj pomo\\x81\\xc1taripe. sa o \\x80\\x8dhave, bij', 'pomo\\x81\\xc1taripe. sa o \\x80\\x8dhave, bijande ko ni\\x80\\x8dai ja av', '\\x8dhave, bijande ko ni\\x80\\x8dai ja avri olestar, d\\x81_ivdin', '\\x80\\x8dai ja avri olestar, d\\x81_ivdinena jekhutno socijal', ', d\\x81_ivdinena jekhutno socijalno arakiba. d\\x81_eno 2', 'no socijalno arakiba. d\\x81_eno 26 1. sako isiole \\x80\\x8da', '. d\\x81_eno 26 1. sako isiole \\x80\\x8da\\x80\\x8dipa ko sikljobe. o', 'isiole \\x80\\x8da\\x80\\x8dipa ko sikljobe. o sikljoibe trubul te', 'ikljobe. o sikljoibe trubul te ovel bipo\\x80\\x8dimo bare', '\\xcc\\xa8n afara acesteia, se bucur\\x80\\xc4 aceea\\x81\\xd9i protec\\x81\\xa3ie', 'se bucur\\x80\\xc4 aceea\\x81\\xd9i protec\\x81\\xa3ie social\\x80\\xc4. articolul', 'protec\\x81\\xa3ie social\\x80\\xc4. articolul 26 1. orice persoan', ' articolul 26 1. orice persoana are dreptul la \\xcc\\xa8n', 'ce persoana are dreptul la \\xcc\\xa8nv\\x80\\xc4\\x81\\xa3\\x80\\xc4tur\\x80\\xc4. inv\\x80\\xc4\\x81', 'tul la \\xcc\\xa8nv\\x80\\xc4\\x81\\xa3\\x80\\xc4tur\\x80\\xc4. inv\\x80\\xc4\\x81\\xa3\\x80\\xc4m\\xcc\\xa8ntul trebuie s', '\\x80\\xc4. inv\\x80\\xc4\\x81\\xa3\\x80\\xc4m\\xcc\\xa8ntul trebuie s\\x80\\xc4 fie gratuit, cel ', ' trebuie s\\x80\\xc4 fie gratuit, cel pu\\x81\\xa3in \\xcc\\xa8n ceea ce p', 'tuit, cel pu\\x81\\xa3in \\xcc\\xa8n ceea ce prive\\x81\\xd9te inv\\x80\\xc4\\x81\\xa3\\x80\\xc4m\\xcc', ' ceea ce prive\\x81\\xd9te inv\\x80\\xc4\\x81\\xa3\\x80\\xc4m\\xcc\\xa8ntul elementar \\x81\\xd9i ', '_\\x84\\xe0_\\xb5\\x84\\x81\\x84\\xe2____ _\\xab_\\xa1\\x84_\\x84\\xe2 _\\xc0\\x84\\xdb_\\xa1____ ___\\xa1 __\\x84\\x81___\\xb1___', '\\x84\\xe2 _\\xc0\\x84\\xdb_\\xa1____ ___\\xa1 __\\x84\\x81___\\xb1___\\xb5 _\\xc0___\\xc0_\\xb5\\x84\\xe0_\\xb5___\\xfc_\\xb5', '_\\x84\\x81___\\xb1___\\xb5 _\\xc0___\\xc0_\\xb5\\x84\\xe0_\\xb5___\\xfc_\\xb5 _\\xfc _\\xc0______\\x84\\xe4\\x84\\xce. _\\xd5', '\\x84\\xe0_\\xb5___\\xfc_\\xb5 _\\xfc _\\xc0______\\x84\\xe4\\x84\\xce. _\\xd5\\x84\\x81_\\xb5 _\\xab_\\xb5\\x84\\xe2_\\xfc, \\x84\\xdb___', '__\\x84\\xe4\\x84\\xce. _\\xd5\\x84\\x81_\\xb5 _\\xab_\\xb5\\x84\\xe2_\\xfc, \\x84\\xdb___\\xab_\\xfc__\\x84\\xf6_\\xfc_\\xb5\\x84\\x81\\x84\\x8f __ _', '\\xe2_\\xfc, \\x84\\xdb___\\xab_\\xfc__\\x84\\xf6_\\xfc_\\xb5\\x84\\x81\\x84\\x8f __ _\\xb1\\x84\\xdb_\\xa1_\\xbc_\\xb5 _\\xfc_\\xc8_\\xfc ___', '\\xb5\\x84\\x81\\x84\\x8f __ _\\xb1\\x84\\xdb_\\xa1_\\xbc_\\xb5 _\\xfc_\\xc8_\\xfc _____\\xb5 _\\xb1\\x84\\xdb_\\xa1_\\xbc_\\xa1, _\\xab__', '_\\xfc_\\xc8_\\xfc _____\\xb5 _\\xb1\\x84\\xdb_\\xa1_\\xbc_\\xa1, _\\xab___\\xc8_\\xa6__\\x84\\xdc _\\xc0___\\xc8\\x84\\xce_\\xe1_', '_\\xbc_\\xa1, _\\xab___\\xc8_\\xa6__\\x84\\xdc _\\xc0___\\xc8\\x84\\xce_\\xe1_____\\xa1\\x84\\xe2\\x84\\xce\\x84\\x81\\x84\\x8f ___\\xab_\\xfc', '\\xc0___\\xc8\\x84\\xce_\\xe1_____\\xa1\\x84\\xe2\\x84\\xce\\x84\\x81\\x84\\x8f ___\\xab_\\xfc___\\xa1_\\xbc________ \\x84\\x81__\\x84', '_culo 26 1. toda persona tiene derecho a la educac', 'sona tiene derecho a la educaci\\xcc_n. la educaci\\xcc_n ', ' la educaci\\xcc_n. la educaci\\xcc_n debe ser gratuita, a', 'ducaci\\xcc_n debe ser gratuita, al menos en lo concer', 'ratuita, al menos en lo concerniente a la instrucc', ' lo concerniente a la instrucci\\xcc_n elemental y fun', 'a instrucci\\xcc_n elemental y fundamental. la instruc', 'ntal y fundamental. la instrucci\\xcc_n elemental ser\\xcc', 'la instrucci\\xcc_n elemental ser\\xcc\\xc1 obligatoria. la in', 'ental ser\\xcc\\xc1 obligatoria. la instrucci\\xcc_n t\\xcc\\xa9cnica ', \"\\xc4___\\xa1\\x84\\xe2_\\xfc \\x84\\x81\\x84\\xd0__'\\x84_. _\\xd5_____\\xfc _\\xbc__\\x84\\xdb_\\xfc\\x84\\x81\\x84\\xe2\\x84\\xc4\\x84_\\x84\\xe2\\x84\\xce\", ' _\\xd5_____\\xfc _\\xbc__\\x84\\xdb_\\xfc\\x84\\x81\\x84\\xe2\\x84\\xc4\\x84_\\x84\\xe2\\x84\\xce\\x84\\x81\\x84\\x8f ___\\xab___\\xa1_\\xbc_____', '\\x84\\xe2\\x84\\xc4\\x84_\\x84\\xe2\\x84\\xce\\x84\\x81\\x84\\x8f ___\\xab___\\xa1_\\xbc_____\\xfc___\\xfc _\\xc0\\x84\\xdb_\\xa1___\\xa1___\\xfc', '__\\xa1_\\xbc_____\\xfc___\\xfc _\\xc0\\x84\\xdb_\\xa1___\\xa1___\\xfc \\x84\\xe4___\\xab__ ___\\xab\\x84\\xdb\\x84\\xc4_\\xa6', '_\\xa1___\\xa1___\\xfc \\x84\\xe4___\\xab__ ___\\xab\\x84\\xdb\\x84\\xc4_\\xa6_\\xb5____\\x84\\x8f _\\xc0\\x84\\xd0_\\xab \\x84\\xe0_\\xa1', '___\\xab\\x84\\xdb\\x84\\xc4_\\xa6_\\xb5____\\x84\\x8f _\\xc0\\x84\\xd0_\\xab \\x84\\xe0_\\xa1\\x84\\x81 \\x84\\xf6_\\xc8\\x84__\\xb1\\x84\\xc4 \\x84\\xe2_\\xa1 _', '\\xc0\\x84\\xd0_\\xab \\x84\\xe0_\\xa1\\x84\\x81 \\x84\\xf6_\\xc8\\x84__\\xb1\\x84\\xc4 \\x84\\xe2_\\xa1 _\\xc0\\x84\\xd0_\\xab \\x84\\xe0_\\xa1\\x84\\x81 _______', '\\xb1\\x84\\xc4 \\x84\\xe2_\\xa1 _\\xc0\\x84\\xd0_\\xab \\x84\\xe0_\\xa1\\x84\\x81 ________ \\x84\\xdb___\\xe1\\x84\\xd0\\x84\\xdb___\\xa1____', '\\x84\\x81 ________ \\x84\\xdb___\\xe1\\x84\\xd0\\x84\\xdb___\\xa1____\\x84\\x8f. 2. _\\xac_\\xc8\\x84__\\xb1 ____', '\\x84\\xdb___\\xa1____\\x84\\x8f. 2. _\\xac_\\xc8\\x84__\\xb1 _____\\xa6_\\xb5 \\x84\\xc4_\\xbc_\\xc8_\\xa1_\\xab_\\xa1\\x84\\xe2_', ' u napan e ngiyal\\x89\\xdb\\xaa famang ni ketal ko marwel ni ', ' famang ni ketal ko marwel ni bochane liliy, mad-a', 'marwel ni bochane liliy, mad-ad u tabane marwel, k', 'liy, mad-ad u tabane marwel, kanim rok\\x89\\xdb\\xaa, kepummo', ' marwel, kanim rok\\x89\\xdb\\xaa, kepummon ara pilbizir, nge ', '\\xaa, kepummon ara pilbizir, nge kutin bay ban\\x89\\xdb\\xaaen n', 'izir, nge kutin bay ban\\x89\\xdb\\xaaen ni bagaa fan ngak\\x89\\xdb\\xaa ', 'ban\\x89\\xdb\\xaaen ni bagaa fan ngak\\x89\\xdb\\xaa ko ayuw rok\\x89\\xdb\\xaa. 2. m', 'n ngak\\x89\\xdb\\xaa ko ayuw rok\\x89\\xdb\\xaa. 2. ma chitiningen e biti', 'k\\x89\\xdb\\xaa. 2. ma chitiningen e bitir nge bitir e kuba y']\n"
     ]
    }
   ],
   "source": [
    "import csv\n",
    "with open(\"test_alllanguages50.csv\", 'rt') as f:\n",
    "    w = csv.reader(f, dialect='excel')\n",
    "    for row in w:\n",
    "        string_test = list(row)\n",
    "print(len(string_test))\n",
    "l = len(string_test)\n",
    "print(string_test)"
   ]
  },
  {
   "cell_type": "code",
   "execution_count": 20,
   "metadata": {
    "collapsed": false
   },
   "outputs": [
    {
     "name": "stdout",
     "output_type": "stream",
     "text": [
      "(60, '\\xef\\xbf\\xbd\\xef\\xbf\\xbd_\\xef\\xbf\\xbd_\\xef\\xbf\\xbd\\xef\\xbf\\xbd\\xef\\xbf\\xbd_\\xef\\xbf\\xbd\\xef\\xbf\\xbd\\xef\\xbf\\xbd\\xef\\xbf\\xbd\\xef\\xbf\\xbd_ \\xef\\xbf\\xbd\\xef\\xbf\\xbd\\xef\\xbf\\xbd\\xef\\xbf\\xbd\\xef\\xbf\\xbd_ \\xef\\xbf\\xbd\\xef\\xbf\\xbd\\xef\\xbf\\xbd\\xef\\xbf\\xbd_\\xef\\xbf\\xbd \\xef\\xbf\\xbd\\xef\\xbf\\xbd\\xef\\xbf\\xbd\\xef\\xbf\\xbd_\\xef\\xbf\\xbd_\\xef\\xbf\\xbd\\xef\\xbf\\xbd\\xef\\xbf\\xbd_\\xef\\xbf\\xbd_\\xef\\xbf\\xbd\\xef\\xbf\\xbd', ['und'])\n",
      "(61, '\\xef\\xbf\\xbd\\xef\\xbf\\xbd_ \\xef\\xbf\\xbd\\xef\\xbf\\xbd\\xef\\xbf\\xbd\\xef\\xbf\\xbd_\\xef\\xbf\\xbd \\xef\\xbf\\xbd\\xef\\xbf\\xbd\\xef\\xbf\\xbd\\xef\\xbf\\xbd_\\xef\\xbf\\xbd_\\xef\\xbf\\xbd\\xef\\xbf\\xbd\\xef\\xbf\\xbd_\\xef\\xbf\\xbd_\\xef\\xbf\\xbd\\xef\\xbf\\xbd \\xef\\xbf\\xbd\\xef\\xbf\\xbd\\xef\\xbf\\xbd\\xef\\xbf\\xbd\\xef\\xbf\\xbd\\xef\\xbf\\xbd\\xef\\xbf\\xbd\\xef\\xbf\\xbd\\xef\\xbf\\xbd\\xef\\xbf\\xbd\\xef\\xbf\\xbd\\xef\\xbf\\xbd\\xef\\xbf\\xbd\\xef\\xbf\\xbd\\xef\\xbf\\xbd', ['und'])\n",
      "(62, '_\\xef\\xbf\\xbd\\xef\\xbf\\xbd\\xef\\xbf\\xbd_\\xef\\xbf\\xbd_\\xef\\xbf\\xbd\\xef\\xbf\\xbd \\xef\\xbf\\xbd\\xef\\xbf\\xbd\\xef\\xbf\\xbd\\xef\\xbf\\xbd\\xef\\xbf\\xbd\\xef\\xbf\\xbd\\xef\\xbf\\xbd\\xef\\xbf\\xbd\\xef\\xbf\\xbd\\xef\\xbf\\xbd\\xef\\xbf\\xbd\\xef\\xbf\\xbd\\xef\\xbf\\xbd\\xef\\xbf\\xbd\\xef\\xbf\\xbd \\xef\\xbf\\xbd\\xef\\xbf\\xbd\\xef\\xbf\\xbd\\xef\\xbf\\xbd\\xef\\xbf\\xbd\\xef\\xbf\\xbd\\xef\\xbf\\xbd\\xef\\xbf\\xbd\\xef\\xbf\\xbd\\xef\\xbf\\xbd 26 1 \\xef\\xbf\\xbd', ['und'])\n",
      "(63, '\\xef\\xbf\\xbd\\xef\\xbf\\xbd\\xef\\xbf\\xbd\\xef\\xbf\\xbd\\xef\\xbf\\xbd\\xef\\xbf\\xbd\\xef\\xbf\\xbd\\xef\\xbf\\xbd \\xef\\xbf\\xbd\\xef\\xbf\\xbd\\xef\\xbf\\xbd\\xef\\xbf\\xbd\\xef\\xbf\\xbd\\xef\\xbf\\xbd\\xef\\xbf\\xbd\\xef\\xbf\\xbd\\xef\\xbf\\xbd\\xef\\xbf\\xbd 26 1 \\xef\\xbf\\xbd_\\xef\\xbf\\xbd\\xef\\xbf\\xbd\\xef\\xbf\\xbd\\xef\\xbf\\xbd_\\xef\\xbf\\xbd_\\xef\\xbf\\xbd\\xef\\xbf\\xbd\\xef\\xbf\\xbd \\xef\\xbf\\xbd_\\xef\\xbf\\xbd\\xef\\xbf\\xbd\\xef\\xbf\\xbd', ['und'])\n",
      "(64, '\\xef\\xbf\\xbd\\xef\\xbf\\xbd 26 1 \\xef\\xbf\\xbd_\\xef\\xbf\\xbd\\xef\\xbf\\xbd\\xef\\xbf\\xbd\\xef\\xbf\\xbd_\\xef\\xbf\\xbd_\\xef\\xbf\\xbd\\xef\\xbf\\xbd\\xef\\xbf\\xbd \\xef\\xbf\\xbd_\\xef\\xbf\\xbd\\xef\\xbf\\xbd\\xef\\xbf\\xbd\\xef\\xbf\\xbd_ \\xef\\xbf\\xbd\\xef\\xbf\\xbd_\\xef\\xbf\\xbd\\xef\\xbf\\xbd\\xef\\xbf\\xbd\\xef\\xbf\\xbd\\xef\\xbf\\xbd\\xef\\xbf\\xbd\\xef\\xbf\\xbd_\\xef\\xbf\\xbd ', ['und'])\n",
      "(65, '\\xef\\xbf\\xbd\\xef\\xbf\\xbd\\xef\\xbf\\xbd \\xef\\xbf\\xbd_\\xef\\xbf\\xbd\\xef\\xbf\\xbd\\xef\\xbf\\xbd\\xef\\xbf\\xbd_ \\xef\\xbf\\xbd\\xef\\xbf\\xbd_\\xef\\xbf\\xbd\\xef\\xbf\\xbd\\xef\\xbf\\xbd\\xef\\xbf\\xbd\\xef\\xbf\\xbd\\xef\\xbf\\xbd\\xef\\xbf\\xbd_\\xef\\xbf\\xbd \\xef\\xbf\\xbd\\xef\\xbf\\xbd\\xef\\xbf\\xbd\\xef\\xbf\\xbd\\xef\\xbf\\xbd\\xef\\xbf\\xbd\\xef\\xbf\\xbd_ \\xef\\xbf\\xbd\\xef\\xbf\\xbd\\xef\\xbf\\xbd\\xef\\xbf\\xbd\\xef\\xbf\\xbd\\xef\\xbf\\xbd\\xef\\xbf\\xbd\\xef\\xbf\\xbd', ['und'])\n",
      "(66, '\\xef\\xbf\\xbd\\xef\\xbf\\xbd\\xef\\xbf\\xbd\\xef\\xbf\\xbd\\xef\\xbf\\xbd\\xef\\xbf\\xbd_\\xef\\xbf\\xbd \\xef\\xbf\\xbd\\xef\\xbf\\xbd\\xef\\xbf\\xbd\\xef\\xbf\\xbd\\xef\\xbf\\xbd\\xef\\xbf\\xbd\\xef\\xbf\\xbd_ \\xef\\xbf\\xbd\\xef\\xbf\\xbd\\xef\\xbf\\xbd\\xef\\xbf\\xbd\\xef\\xbf\\xbd\\xef\\xbf\\xbd\\xef\\xbf\\xbd\\xef\\xbf\\xbd\\xef\\xbf\\xbd\\xef\\xbf\\xbd\\xef\\xbf\\xbd\\xef\\xbf\\xbd\\xef\\xbf\\xbd\\xef\\xbf\\xbd\\xef\\xbf\\xbd \\xef\\xbf\\xbd\\xef\\xbf\\xbd \\xef\\xbf\\xbd\\xef\\xbf\\xbd\\xef\\xbf\\xbd\\xef\\xbf\\xbd', ['und'])\n",
      "(67, '\\xef\\xbf\\xbd\\xef\\xbf\\xbd\\xef\\xbf\\xbd\\xef\\xbf\\xbd\\xef\\xbf\\xbd\\xef\\xbf\\xbd\\xef\\xbf\\xbd\\xef\\xbf\\xbd\\xef\\xbf\\xbd\\xef\\xbf\\xbd\\xef\\xbf\\xbd\\xef\\xbf\\xbd\\xef\\xbf\\xbd\\xef\\xbf\\xbd\\xef\\xbf\\xbd \\xef\\xbf\\xbd\\xef\\xbf\\xbd \\xef\\xbf\\xbd\\xef\\xbf\\xbd\\xef\\xbf\\xbd\\xef\\xbf\\xbd\\xef\\xbf\\xbd\\xef\\xbf\\xbd\\xef\\xbf\\xbd\\xef\\xbf\\xbd\\xef\\xbf\\xbd\\xef\\xbf\\xbd\\xef\\xbf\\xbd\\xef\\xbf\\xbd\\xef\\xbf\\xbd\\xef\\xbf\\xbd\\xef\\xbf\\xbd \\xef\\xbf\\xbd\\xef\\xbf\\xbd\\xef\\xbf\\xbd\\xef\\xbf\\xbd', ['und'])\n",
      "(68, ' \\xef\\xbf\\xbd\\xef\\xbf\\xbd \\xef\\xbf\\xbd\\xef\\xbf\\xbd\\xef\\xbf\\xbd\\xef\\xbf\\xbd\\xef\\xbf\\xbd\\xef\\xbf\\xbd\\xef\\xbf\\xbd\\xef\\xbf\\xbd\\xef\\xbf\\xbd\\xef\\xbf\\xbd\\xef\\xbf\\xbd\\xef\\xbf\\xbd\\xef\\xbf\\xbd\\xef\\xbf\\xbd\\xef\\xbf\\xbd \\xef\\xbf\\xbd\\xef\\xbf\\xbd\\xef\\xbf\\xbd\\xef\\xbf\\xbd_\\xef\\xbf\\xbd\\xef\\xbf\\xbd\\xef\\xbf\\xbd\\xef\\xbf\\xbd_ \\xef\\xbf\\xbd_\\xef\\xbf\\xbd \\xef\\xbf\\xbd\\xef\\xbf\\xbd\\xef\\xbf\\xbd\\xef\\xbf\\xbd\\xef\\xbf\\xbd', ['und'])\n",
      "(69, '\\xef\\xbf\\xbd\\xef\\xbf\\xbd\\xef\\xbf\\xbd\\xef\\xbf\\xbd \\xef\\xbf\\xbd\\xef\\xbf\\xbd\\xef\\xbf\\xbd\\xef\\xbf\\xbd_\\xef\\xbf\\xbd\\xef\\xbf\\xbd\\xef\\xbf\\xbd\\xef\\xbf\\xbd_ \\xef\\xbf\\xbd_\\xef\\xbf\\xbd \\xef\\xbf\\xbd\\xef\\xbf\\xbd\\xef\\xbf\\xbd\\xef\\xbf\\xbd\\xef\\xbf\\xbd_\\xef\\xbf\\xbd\\xef\\xbf\\xbd\\xef\\xbf\\xbd\\xef\\xbf\\xbd\\xef\\xbf\\xbd\\xef\\xbf\\xbd\\xef\\xbf\\xbd_ \\xef\\xbf\\xbd\\xef\\xbf\\xbd\\xef\\xbf\\xbd\\xef\\xbf\\xbd\\xef\\xbf\\xbd', ['und'])\n",
      "(91, '\\xef\\xbf\\xbd\\xef\\xbf\\xbd\\xef\\xbf\\xbd\\xef\\xbf\\xbd\\xef\\xbf\\xbd\\xef\\xbf\\xbd\\xef\\xbf\\xbd\\xdc\\x8b\\xef\\xbf\\xbd\\xef\\xbf\\xbd\\xef\\xbf\\xbd\\xef\\xbf\\xbd_\\xef\\xbf\\xbd\\xef\\xbf\\xbd\\xef\\xbf\\xbd\\xef\\xbf\\xbd\\xef\\xbf\\xbd\\xd5\\x8c\\xef\\xbf\\xbd\\xef\\xbf\\xbd\\xef\\xbf\\xbd\\xe2\\x8f\\x8b\\xef\\xbf\\xbd_\\xef\\xbf\\xbd\\xdb\\x81\\xef\\xbf\\xbd\\xef\\xbf\\xbd\\xce\\x8b\\xef\\xbf\\xbd\\xef\\xbf\\xbd\\xef\\xbf\\xbd__\\xef\\xbf\\xbd__\\xef\\xbf\\xbd_\\xef\\xbf\\xbd\\xef\\xbf\\xbd', ['und'])\n",
      "(93, '__\\xef\\xbf\\xbd__\\xef\\xbf\\xbd_\\xef\\xbf\\xbd\\xef\\xbf\\xbd\\xef\\xbf\\xbd\\xef\\xbf\\xbd_\\xef\\xbf\\xbd\\xef\\xbf\\xbd\\xd5\\x8a\\xef\\xbf\\xbd\\xc7\\xbe\\xef\\xbf\\xbd\\xe4\\x8b\\x81\\xef\\xbf\\xbd\\xef\\xbf\\xbd\\xef\\xbf\\xbd\\xdc\\x8b\\xef\\xbf\\xbd\\xef\\xbf\\xbd \\xef\\xbf\\xbd\\xef\\xbf\\xbd\\xef\\xbf\\xbd26\\xef\\xbf\\xbd\\xef\\xbf\\xbd\\xef\\xbf\\xbd 1 \\xef\\xbf\\xbd\\xef\\xbf\\xbd\\xef\\xbf\\xbd\\xef\\xbf\\xbd\\xef\\xbf\\xbd', ['cmn'])\n",
      "(94, '\\xef\\xbf\\xbd\\xef\\xbf\\xbd\\xe4\\x8b\\x81\\xef\\xbf\\xbd\\xef\\xbf\\xbd\\xef\\xbf\\xbd\\xdc\\x8b\\xef\\xbf\\xbd\\xef\\xbf\\xbd \\xef\\xbf\\xbd\\xef\\xbf\\xbd\\xef\\xbf\\xbd26\\xef\\xbf\\xbd\\xef\\xbf\\xbd\\xef\\xbf\\xbd 1 \\xef\\xbf\\xbd\\xef\\xbf\\xbd\\xef\\xbf\\xbd\\xef\\xbf\\xbd\\xef\\xbf\\xbd_\\xef\\xbf\\xbd\\xef\\xbf\\xbd_\\xef\\xbf\\xbd\\xef\\xbf\\xbd\\xef\\xbf\\xbd\\xef\\xbf\\xbd\\xef\\xbf\\xbd\\xef\\xbf\\xbd\\xef\\xbf\\xbd\\xdb\\x81\\xef\\xbf\\xbd\\xef\\xbf\\xbd\\xef\\xbf\\xbd\\xef\\xbf\\xbd\\xef\\xbf\\xbd_\\xef\\xbf\\xbd', ['cmn'])\n",
      "(96, '\\xef\\xbf\\xbd\\xdb\\x81\\xef\\xbf\\xbd\\xef\\xbf\\xbd\\xef\\xbf\\xbd\\xef\\xbf\\xbd\\xef\\xbf\\xbd_\\xef\\xbf\\xbd\\xef\\xbf\\xbd\\xd5\\x8c\\xef\\xbf\\xbd\\xd1\\x8b\\xef\\xbf\\xbd\\xd4\\x8b\\xef\\xbf\\xbd\\xdc\\xbe\\xef\\xbf\\xbd\\xef\\xbf\\xbd\\xef\\xbf\\xbd\\xef\\xbf\\xbd\\xef\\xbf\\xbd\\xef\\xbf\\xbd\\xef\\xbf\\xbd\\xd5\\xbe\\xef\\xbf\\xbd\\xe4\\x8b\\x81\\xef\\xbf\\xbd\\xef\\xbf\\xbd\\xef\\xbf\\xbd\\xdc\\x8b\\xef\\xbf\\xbd\\xe2\\xbe\\xa5\\xef\\xbf\\xbd\\xef\\xbf\\xbd\\xef\\xbf\\xbd_\\xef\\xbf\\xbd\\xef\\xbf\\xbd', ['cmn'])\n",
      "(97, '\\xdc\\xbe\\xef\\xbf\\xbd\\xef\\xbf\\xbd\\xef\\xbf\\xbd\\xef\\xbf\\xbd\\xef\\xbf\\xbd\\xef\\xbf\\xbd\\xef\\xbf\\xbd\\xd5\\xbe\\xef\\xbf\\xbd\\xe4\\x8b\\x81\\xef\\xbf\\xbd\\xef\\xbf\\xbd\\xef\\xbf\\xbd\\xdc\\x8b\\xef\\xbf\\xbd\\xe2\\xbe\\xa5\\xef\\xbf\\xbd\\xef\\xbf\\xbd\\xef\\xbf\\xbd_\\xef\\xbf\\xbd\\xef\\xbf\\xbd\\xef\\xbf\\xbd\\xef\\xbf\\xbd\\xdb\\x81\\xef\\xbf\\xbd\\xef\\xbf\\xbd\\xd4\\x8b\\xef\\xbf\\xbd\\xef\\xbf\\xbd\\xef\\xbf\\xbd\\xef\\xbf\\xbd\\xef\\xbf\\xbd\\xef\\xbf\\xbd\\xef\\xbf\\xbd\\xef\\xbf\\xbd\\xef\\xbf\\xbd\\xef\\xbf\\xbd\\xef\\xbf\\xbd', ['cmn'])\n",
      "(98, '\\xef\\xbf\\xbd\\xe2\\xbe\\xa5\\xef\\xbf\\xbd\\xef\\xbf\\xbd\\xef\\xbf\\xbd_\\xef\\xbf\\xbd\\xef\\xbf\\xbd\\xef\\xbf\\xbd\\xef\\xbf\\xbd\\xdb\\x81\\xef\\xbf\\xbd\\xef\\xbf\\xbd\\xd4\\x8b\\xef\\xbf\\xbd\\xef\\xbf\\xbd\\xef\\xbf\\xbd\\xef\\xbf\\xbd\\xef\\xbf\\xbd\\xef\\xbf\\xbd\\xef\\xbf\\xbd\\xef\\xbf\\xbd\\xef\\xbf\\xbd\\xef\\xbf\\xbd\\xef\\xbf\\xbd\\xef\\xbf\\xbd\\xef\\xbf\\xbd\\xef\\xbf\\xbd_\\xef\\xbf\\xbd \\xef\\xbf\\xbd\\xef\\xbf\\xbd\\xef\\xbf\\xbd\\xef\\xbf\\xbd\\xef\\xbf\\xbd_\\xef\\xbf\\xbd\\xef\\xbf\\xbd_\\xef\\xbf\\xbd\\xd9\\xbc\\xef\\xbf\\xbd_', ['und'])\n",
      "(165, 'o 26\\xef\\xbf\\xbd', ['und'])\n",
      "(190, '_\\xef\\xbf\\xbd\\xef\\xbf\\xbd_\\xef\\xbf\\xbd\\xef\\xbf\\xbd\\xef\\xbf\\xbd\\xef\\xbf\\xbd\\xef\\xbf\\xbd____ _\\xef\\xbf\\xbd_\\xef\\xbf\\xbd\\xef\\xbf\\xbd_\\xef\\xbf\\xbd\\xef\\xbf\\xbd _\\xef\\xbf\\xbd\\xef\\xbf\\xbd\\xef\\xbf\\xbd_\\xef\\xbf\\xbd____ ___\\xef\\xbf\\xbd __\\xef\\xbf\\xbd\\xef\\xbf\\xbd___\\xef\\xbf\\xbd___', ['und'])\n",
      "(191, '\\xef\\xbf\\xbd\\xef\\xbf\\xbd _\\xef\\xbf\\xbd\\xef\\xbf\\xbd\\xef\\xbf\\xbd_\\xef\\xbf\\xbd____ ___\\xef\\xbf\\xbd __\\xef\\xbf\\xbd\\xef\\xbf\\xbd___\\xef\\xbf\\xbd___\\xef\\xbf\\xbd _\\xef\\xbf\\xbd___\\xef\\xbf\\xbd_\\xef\\xbf\\xbd\\xef\\xbf\\xbd\\xef\\xbf\\xbd_\\xef\\xbf\\xbd___\\xef\\xbf\\xbd_\\xef\\xbf\\xbd', ['und'])\n",
      "(192, '_\\xef\\xbf\\xbd\\xef\\xbf\\xbd___\\xef\\xbf\\xbd___\\xef\\xbf\\xbd _\\xef\\xbf\\xbd___\\xef\\xbf\\xbd_\\xef\\xbf\\xbd\\xef\\xbf\\xbd\\xef\\xbf\\xbd_\\xef\\xbf\\xbd___\\xef\\xbf\\xbd_\\xef\\xbf\\xbd _\\xef\\xbf\\xbd _\\xef\\xbf\\xbd______\\xef\\xbf\\xbd\\xef\\xbf\\xbd\\xef\\xbf\\xbd _\\xef\\xbf\\xbd', ['und'])\n",
      "(195, '\\xef\\xbf\\xbd_\\xef\\xbf\\xbd, \\xef\\xbf\\xbd\\xef\\xbf\\xbd___\\xef\\xbf\\xbd_\\xef\\xbf\\xbd__\\xef\\xbf\\xbd\\xef\\xbf\\xbd_\\xef\\xbf\\xbd_\\xef\\xbf\\xbd\\xef\\xbf\\xbd\\xef\\xbf\\xbd\\xef\\xbf\\xbd\\xef\\xbf\\xbd __ _\\xef\\xbf\\xbd\\xef\\xbf\\xbd\\xef\\xbf\\xbd_\\xef\\xbf\\xbd_\\xef\\xbf\\xbd_\\xef\\xbf\\xbd _\\xef\\xbf\\xbd_\\xef\\xbf\\xbd_\\xef\\xbf\\xbd ___', ['und'])\n",
      "(196, '\\xef\\xbf\\xbd\\xef\\xbf\\xbd\\xef\\xbf\\xbd\\xef\\xbf\\xbd\\xef\\xbf\\xbd __ _\\xef\\xbf\\xbd\\xef\\xbf\\xbd\\xef\\xbf\\xbd_\\xef\\xbf\\xbd_\\xef\\xbf\\xbd_\\xef\\xbf\\xbd _\\xef\\xbf\\xbd_\\xef\\xbf\\xbd_\\xef\\xbf\\xbd _____\\xef\\xbf\\xbd _\\xef\\xbf\\xbd\\xef\\xbf\\xbd\\xef\\xbf\\xbd_\\xef\\xbf\\xbd_\\xef\\xbf\\xbd_\\xef\\xbf\\xbd, _\\xef\\xbf\\xbd__', ['und'])\n",
      "(213, '__\\xef\\xbf\\xbd_\\xef\\xbf\\xbd_____\\xef\\xbf\\xbd___\\xef\\xbf\\xbd _\\xef\\xbf\\xbd\\xef\\xbf\\xbd\\xef\\xbf\\xbd_\\xef\\xbf\\xbd___\\xef\\xbf\\xbd___\\xef\\xbf\\xbd \\xef\\xbf\\xbd\\xef\\xbf\\xbd___\\xef\\xbf\\xbd__ ___\\xef\\xbf\\xbd\\xef\\xbf\\xbd\\xdb\\x84\\xef\\xbf\\xbd_\\xef\\xbf\\xbd', ['und'])\n",
      "(214, '_\\xef\\xbf\\xbd___\\xef\\xbf\\xbd___\\xef\\xbf\\xbd \\xef\\xbf\\xbd\\xef\\xbf\\xbd___\\xef\\xbf\\xbd__ ___\\xef\\xbf\\xbd\\xef\\xbf\\xbd\\xdb\\x84\\xef\\xbf\\xbd_\\xef\\xbf\\xbd_\\xef\\xbf\\xbd____\\xef\\xbf\\xbd\\xef\\xbf\\xbd _\\xef\\xbf\\xbd\\xef\\xbf\\xbd\\xef\\xbf\\xbd_\\xef\\xbf\\xbd \\xef\\xbf\\xbd\\xef\\xbf\\xbd_\\xef\\xbf\\xbd', ['und'])\n"
     ]
    }
   ],
   "source": [
    "result=[]\n",
    "true_labels=[]\n",
    "for i in range(23):\n",
    "    true_labels+=[i]*10\n",
    "for i in range(230):\n",
    "    ! cd /Users/akankshabindal/Desktop/GT/WSTM/hw3/franc-master\n",
    "    #! echo $PWD\n",
    "    #print(string_test[i])\n",
    "    test1 = str(string_test[i])\n",
    "    test1 = test1.replace('.',\"\")\n",
    "    test1 = test1.replace('\\'',\"\")\n",
    "    test1 = test1.replace(';',\"\")\n",
    "    #print(test1)\n",
    "    test = !printf \"%s\" \"$test1\"\n",
    "    test=test[0]\n",
    "    #print(test)\n",
    "    #if(i==150):\n",
    "    #    test = '.\\n\\n\\x0c2'\n",
    "    #if(i==12):\n",
    "    #    result.append('fra')\n",
    "    #    continue\n",
    "    #! echo {test}\n",
    "    try:\n",
    "        a = ! franc --whitelist eng,fra,deu,ces,dan,nld,ell,hun,ita,jpn,lav,lit,lat,srp,ltz,mlt,por,rmn,ron,rus,spa,ukr,yap \"$test\"\n",
    "        #print(a)\n",
    "        if(a[0]!='und' and a[0]!='cmn'):\n",
    "            result.append(a[0])\n",
    "        else:\n",
    "            result.append('ell')\n",
    "            print(i,test,a)\n",
    "    except:\n",
    "        result.append('ell')\n",
    "        print(i,a)\n",
    "    #print(i,{string_test[i]})\n",
    "    \n",
    "    "
   ]
  },
  {
   "cell_type": "code",
   "execution_count": 21,
   "metadata": {
    "collapsed": false
   },
   "outputs": [
    {
     "name": "stdout",
     "output_type": "stream",
     "text": [
      "['fra', 'fra', 'fra', 'fra', 'fra', 'fra', 'fra', 'fra', 'fra', 'fra', 'eng', 'eng', 'eng', 'eng', 'eng', 'eng', 'eng', 'eng', 'eng', 'eng', 'deu', 'deu', 'deu', 'deu', 'deu', 'deu', 'deu', 'deu', 'deu', 'deu', 'ces', 'ces', 'ces', 'ces', 'ces', 'ces', 'ces', 'ces', 'ces', 'ces', 'dan', 'dan', 'dan', 'dan', 'dan', 'dan', 'dan', 'dan', 'dan', 'dan', 'nld', 'nld', 'nld', 'nld', 'nld', 'nld', 'nld', 'nld', 'nld', 'nld', 'ell', 'ell', 'ell', 'ell', 'ell', 'ell', 'ell', 'ell', 'ell', 'ell', 'hun', 'hun', 'hun', 'hun', 'hun', 'hun', 'hun', 'hun', 'hun', 'hun', 'ita', 'ita', 'ita', 'ita', 'ita', 'ita', 'ita', 'ita', 'ita', 'ita', 'nld', 'ell', 'hye', 'ell', 'ell', 'rus', 'ell', 'ell', 'ell', 'nld', 'lav', 'lav', 'lav', 'lav', 'lav', 'lav', 'lav', 'lav', 'lav', 'lav', 'lit', 'lit', 'lit', 'lit', 'lit', 'lit', 'lit', 'lit', 'lit', 'lit', 'fra', 'fra', 'por', 'por', 'por', 'fra', 'por', 'por', 'por', 'fra', 'ita', 'por', 'ita', 'ita', 'dan', 'ita', 'ita', 'fra', 'fra', 'spa', 'deu', 'deu', 'nld', 'deu', 'deu', 'deu', 'deu', 'deu', 'deu', 'deu', 'por', 'ita', 'ita', 'rmn', 'ita', 'ita', 'ita', 'ita', 'ita', 'ita', 'por', 'por', 'por', 'por', 'spa', 'ell', 'por', 'por', 'por', 'por', 'rmn', 'rmn', 'rmn', 'rmn', 'rmn', 'srp', 'srp', 'srp', 'rmn', 'rmn', 'ron', 'ron', 'ron', 'ron', 'ron', 'ron', 'ron', 'ron', 'ron', 'ron', 'ell', 'ell', 'ell', 'hye', 'hye', 'ell', 'ell', 'nld', 'nld', 'nld', 'spa', 'spa', 'spa', 'spa', 'spa', 'spa', 'spa', 'spa', 'spa', 'spa', 'nld', 'nld', 'nld', 'ell', 'ell', 'nld', 'nld', 'rus', 'nld', 'nld', 'rmn', 'rmn', 'rmn', 'rmn', 'rmn', 'rmn', 'nld', 'srp', 'srp', 'nld']\n",
      "['fra', 'fra', 'fra', 'fra', 'fra', 'fra', 'fra', 'fra', 'fra', 'fra', 'eng', 'eng', 'eng', 'eng', 'eng', 'eng', 'eng', 'eng', 'eng', 'eng', 'deu', 'deu', 'deu', 'deu', 'deu', 'deu', 'deu', 'deu', 'deu', 'deu', 'ces', 'ces', 'ces', 'ces', 'ces', 'ces', 'ces', 'ces', 'ces', 'ces', 'dan', 'dan', 'dan', 'dan', 'dan', 'dan', 'dan', 'dan', 'dan', 'dan', 'nld', 'nld', 'nld', 'nld', 'nld', 'nld', 'nld', 'nld', 'nld', 'nld', 'ell', 'ell', 'ell', 'ell', 'ell', 'ell', 'ell', 'ell', 'ell', 'ell', 'hun', 'hun', 'hun', 'hun', 'hun', 'hun', 'hun', 'hun', 'hun', 'hun', 'ita', 'ita', 'ita', 'ita', 'ita', 'ita', 'ita', 'ita', 'ita', 'ita', 'nld', 'ell', 'hye', 'ell', 'ell', 'rus', 'ell', 'ell', 'ell', 'nld', 'lav', 'lav', 'lav', 'lav', 'lav', 'lav', 'lav', 'lav', 'lav', 'lav', 'lit', 'lit', 'lit', 'lit', 'lit', 'lit', 'lit', 'lit', 'lit', 'lit', 'fra', 'fra', 'por', 'por', 'por', 'fra', 'por', 'por', 'por', 'fra', 'ita', 'por', 'ita', 'ita', 'dan', 'ita', 'ita', 'fra', 'fra', 'spa', 'deu', 'deu', 'nld', 'deu', 'deu', 'deu', 'deu', 'deu', 'deu', 'deu', 'por', 'ita', 'ita', 'rmn', 'ita', 'ita', 'ita', 'ita', 'ita', 'ita', 'por', 'por', 'por', 'por', 'spa', 'ell', 'por', 'por', 'por', 'por', 'rmn', 'rmn', 'rmn', 'rmn', 'rmn', 'srp', 'srp', 'srp', 'rmn', 'rmn', 'ron', 'ron', 'ron', 'ron', 'ron', 'ron', 'ron', 'ron', 'ron', 'ron', 'ell', 'ell', 'ell', 'hye', 'hye', 'ell', 'ell', 'nld', 'nld', 'nld', 'spa', 'spa', 'spa', 'spa', 'spa', 'spa', 'spa', 'spa', 'spa', 'spa', 'nld', 'nld', 'nld', 'ell', 'ell', 'nld', 'nld', 'rus', 'nld', 'nld', 'rmn', 'rmn', 'rmn', 'rmn', 'rmn', 'rmn', 'nld', 'srp', 'srp', 'nld']\n",
      "[[10  0  0  0  0  0  0  0  0  0  0  0  0  0  0  0  0  0  0  0  0  0  0]\n",
      " [ 0 10  0  0  0  0  0  0  0  0  0  0  0  0  0  0  0  0  0  0  0  0  0]\n",
      " [ 0  0 10  0  0  0  0  0  0  0  0  0  0  0  0  0  0  0  0  0  0  0  0]\n",
      " [ 0  0  0 10  0  0  0  0  0  0  0  0  0  0  0  0  0  0  0  0  0  0  0]\n",
      " [ 0  0  0  0 10  0  0  0  0  0  0  0  0  0  0  0  0  0  0  0  0  0  0]\n",
      " [ 0  0  0  0  0 10  0  0  0  0  0  0  0  0  0  0  0  0  0  0  0  0  0]\n",
      " [ 0  0  0  0  0  0 10  0  0  0  0  0  0  0  0  0  0  0  0  0  0  0  0]\n",
      " [ 0  0  0  0  0  0  0 10  0  0  0  0  0  0  0  0  0  0  0  0  0  0  0]\n",
      " [ 0  0  0  0  0  0  0  0 10  0  0  0  0  0  0  0  0  0  0  0  0  0  0]\n",
      " [ 0  0  0  0  0  2  6  0  0  0  0  0  0  0  0  0  0  0  1  1  0  0  0]\n",
      " [ 0  0  0  0  0  0  0  0  0  0 10  0  0  0  0  0  0  0  0  0  0  0  0]\n",
      " [ 0  0  0  0  0  0  0  0  0  0  0 10  0  0  0  0  0  0  0  0  0  0  0]\n",
      " [ 4  0  0  0  0  0  0  0  0  0  0  0  0  0  0  0  6  0  0  0  0  0  0]\n",
      " [ 2  0  0  0  1  0  0  0  5  0  0  0  0  0  0  0  1  0  0  0  1  0  0]\n",
      " [ 0  0  9  0  0  1  0  0  0  0  0  0  0  0  0  0  0  0  0  0  0  0  0]\n",
      " [ 0  0  0  0  0  0  0  0  8  0  0  0  0  0  0  0  1  1  0  0  0  0  0]\n",
      " [ 0  0  0  0  0  0  1  0  0  0  0  0  0  0  0  0  8  0  0  0  1  0  0]\n",
      " [ 0  0  0  0  0  0  0  0  0  0  0  0  0  3  0  0  0  7  0  0  0  0  0]\n",
      " [ 0  0  0  0  0  0  0  0  0  0  0  0  0  0  0  0  0  0 10  0  0  0  0]\n",
      " [ 0  0  0  0  0  3  5  0  0  0  0  0  0  0  0  0  0  0  2  0  0  0  0]\n",
      " [ 0  0  0  0  0  0  0  0  0  0  0  0  0  0  0  0  0  0  0  0 10  0  0]\n",
      " [ 0  0  0  0  0  7  2  0  0  0  0  0  0  0  0  0  0  0  0  1  0  0  0]\n",
      " [ 0  0  0  0  0  2  0  0  0  0  0  0  0  2  0  0  0  6  0  0  0  0  0]]\n",
      "0.630434782609\n"
     ]
    }
   ],
   "source": [
    "print(result)\n",
    "from sklearn.metrics import roc_auc_score, confusion_matrix, accuracy_score, auc, roc_curve\n",
    "#dct={'frn':1,'eng':0}\n",
    "dct = {'eng':1, 'fra':0, 'deu':2, 'ces':3,'dan':4,'nld':5,'ell':6,'hun':7,'ita':8,'jpn':9,'lav':10,'lit':11,\n",
    "       'lat':12,'srp':13,'ltz':14,'mlt':15,'por':16,'rmn':17,'ron':18,'rus':19,'spa':20,'ukr':21,'yap':22, 'hye':18}\n",
    "pred_y = [dct[x] for x in result ]\n",
    "print(result)\n",
    "print (confusion_matrix(true_labels, pred_y))\n",
    "print (accuracy_score(true_labels, pred_y))"
   ]
  },
  {
   "cell_type": "code",
   "execution_count": null,
   "metadata": {
    "collapsed": true
   },
   "outputs": [],
   "source": []
  }
 ],
 "metadata": {
  "kernelspec": {
   "display_name": "Python 2",
   "language": "python",
   "name": "python2"
  },
  "language_info": {
   "codemirror_mode": {
    "name": "ipython",
    "version": 2
   },
   "file_extension": ".py",
   "mimetype": "text/x-python",
   "name": "python",
   "nbconvert_exporter": "python",
   "pygments_lexer": "ipython2",
   "version": "2.7.13"
  }
 },
 "nbformat": 4,
 "nbformat_minor": 2
}
