{
 "cells": [
  {
   "cell_type": "code",
   "execution_count": 18,
   "metadata": {
    "collapsed": false,
    "deletable": true,
    "editable": true
   },
   "outputs": [],
   "source": [
    "from __future__ import print_function\n",
    "from keras.models import Sequential\n",
    "from keras.layers import Dense, Activation\n",
    "from keras.layers import LSTM\n",
    "from keras.optimizers import RMSprop\n",
    "from keras.optimizers import Adagrad\n",
    "from keras.utils.data_utils import get_file\n",
    "import numpy as np\n",
    "import random\n",
    "import sys\n",
    "from sklearn.cross_validation import train_test_split"
   ]
  },
  {
   "cell_type": "code",
   "execution_count": 19,
   "metadata": {
    "collapsed": false,
    "deletable": true,
    "editable": true
   },
   "outputs": [
    {
     "name": "stdout",
     "output_type": "stream",
     "text": [
      "corpus length: 10746\n",
      "corpus length: 12009\n"
     ]
    }
   ],
   "source": [
    "with open('subset1/eng.txt','rt') as f:\n",
    "    text1 = f.read().lower()\n",
    "with open('subset1/frn.txt','rt') as f:\n",
    "    text2 = f.read().lower()\n",
    "print('corpus length:', len(text1))\n",
    "print('corpus length:', len(text2))\n"
   ]
  },
  {
   "cell_type": "code",
   "execution_count": 20,
   "metadata": {
    "collapsed": false,
    "deletable": true,
    "editable": true
   },
   "outputs": [],
   "source": [
    "y1=np.tile(0,len(text1))\n",
    "y2 = np.tile(1,len(text2))\n",
    "x_train_eng, x_test_eng, y_train_eng, y_test_eng = train_test_split(text1, y1, test_size=0.2)\n",
    "x_train_frn, x_test_frn, y_train_frn, y_test_frn = train_test_split(text2, y2, test_size=0.2)"
   ]
  },
  {
   "cell_type": "code",
   "execution_count": 21,
   "metadata": {
    "collapsed": false,
    "deletable": true,
    "editable": true
   },
   "outputs": [
    {
     "name": "stdout",
     "output_type": "stream",
     "text": [
      "8596 2150\n"
     ]
    }
   ],
   "source": [
    "print(len(x_train_eng), len(x_test_eng))"
   ]
  },
  {
   "cell_type": "code",
   "execution_count": 22,
   "metadata": {
    "collapsed": false,
    "deletable": true,
    "editable": true
   },
   "outputs": [
    {
     "name": "stdout",
     "output_type": "stream",
     "text": [
      "total chars: 44\n",
      "nb sequences: 8556\n",
      "nb sequences: 107\n",
      "Vectorization...\n",
      "Build model...\n"
     ]
    }
   ],
   "source": [
    "from keras.layers import Merge\n",
    "#generating english model\n",
    "chars_eng = sorted(list(set(text1)))\n",
    "chars_fr = sorted(list(set(text2)))\n",
    "chars = sorted(list(set(chars_eng + chars_fr)))\n",
    "print('total chars:', len(chars))\n",
    "char_indices = dict((c, i) for i, c in enumerate(chars))\n",
    "indices_char = dict((i, c) for i, c in enumerate(chars))\n",
    "\n",
    "\n",
    "##training set prepare\n",
    "maxlen= 40\n",
    "step = 1\n",
    "sentences_eng_tr = []\n",
    "next_chars_eng_tr = []\n",
    "for i in range(0, int(0.8*len(text1)) - maxlen, step):\n",
    "    sentences_eng_tr.append(text1[i: i + maxlen])\n",
    "    next_chars_eng_tr.append(text1[i + maxlen])\n",
    "\n",
    "print('nb sequences:', len(sentences_eng_tr))\n",
    "##test set prepare\n",
    "sentences_eng_test = []\n",
    "string_eng_test= []\n",
    "step_test=20\n",
    "for i in range(int(0.8*len(text1)) - maxlen,len(text1) - maxlen-step_test, step_test):\n",
    "    sentences_eng_test.append(text1[i: i + maxlen])\n",
    "    string_eng_test.append(text1[i+maxlen:i+maxlen+5])\n",
    "print('nb sequences:', len(sentences_eng_test))\n",
    "\n",
    "print('Vectorization...')\n",
    "X_eng = np.zeros((len(sentences_eng_tr), maxlen, len(chars)), dtype=np.bool)\n",
    "y_eng = np.zeros((len(sentences_eng_tr), len(chars)), dtype=np.bool)\n",
    "for i, sentence in enumerate(sentences_eng_tr):\n",
    "    for t, char in enumerate(sentence):\n",
    "        X_eng[i, t, char_indices[char]] = 1\n",
    "    y_eng[i, char_indices[next_chars_eng_tr[i]]] = 1\n",
    "\n",
    "\n",
    "print('Build model...')\n",
    "model = Sequential()\n",
    "model.add(LSTM(64, input_shape=(maxlen, len(chars))))\n",
    "#model.add(LSTM(64))\n",
    "model.add(Dense(len(chars)))\n",
    "model.add(Dense(len(chars)))\n",
    "model.add(Activation('softmax'))\n",
    "\n",
    "optimizer = RMSprop(lr=0.01)\n",
    "model.compile(loss='categorical_crossentropy', optimizer=optimizer, metrics = ['accuracy'])\n"
   ]
  },
  {
   "cell_type": "code",
   "execution_count": 28,
   "metadata": {
    "collapsed": false,
    "deletable": true,
    "editable": true
   },
   "outputs": [
    {
     "name": "stdout",
     "output_type": "stream",
     "text": [
      "nb sequences: 9567\n",
      "nb sequences: 121\n",
      "Vectorization...\n",
      "Build model...\n"
     ]
    }
   ],
   "source": [
    "#generating french model\n",
    "\n",
    "\n",
    "\n",
    "##training set prepare\n",
    "maxlen= 40\n",
    "step = 1\n",
    "sentences_fr_tr = []\n",
    "next_chars_fr_tr = []\n",
    "for i in range(0, int(0.8*len(text2)) - maxlen, step):\n",
    "    sentences_fr_tr.append(text2[i: i + maxlen])\n",
    "    next_chars_fr_tr.append(text2[i + maxlen])\n",
    "\n",
    "print('nb sequences:', len(sentences_fr_tr))\n",
    "##test set prepare\n",
    "sentences_fr_test = []\n",
    "string_fr_test= []\n",
    "step_test=20\n",
    "for i in range(int(0.8*len(text2)) - maxlen,len(text2) - maxlen, step_test):\n",
    "    sentences_fr_test.append(text2[i: i + maxlen])\n",
    "    string_fr_test.append(text2[i+maxlen:i+maxlen+5])\n",
    "print('nb sequences:', len(sentences_fr_test))\n",
    "\n",
    "print('Vectorization...')\n",
    "X_fr = np.zeros((len(sentences_fr_tr), maxlen, len(chars)), dtype=np.bool)\n",
    "y_fr = np.zeros((len(sentences_fr_tr), len(chars)), dtype=np.bool)\n",
    "for i, sentence in enumerate(sentences_fr_tr):\n",
    "    for t, char in enumerate(sentence):\n",
    "        X_fr[i, t, char_indices[char]] = 1\n",
    "    y_fr[i, char_indices[next_chars_fr_tr[i]]] = 1\n",
    "\n",
    "\n",
    "print('Build model...')\n",
    "model2 = Sequential()\n",
    "model2.add(LSTM(64, input_shape=(maxlen, len(chars))))\n",
    "#model.add(LSTM(64))\n",
    "model2.add(Dense(len(chars)))\n",
    "model2.add(Dense(len(chars)))\n",
    "model2.add(Activation('softmax'))\n",
    "\n",
    "optimizer = RMSprop(lr=0.01)\n",
    "model2.compile(loss='categorical_crossentropy', optimizer=optimizer, metrics = ['accuracy'])"
   ]
  },
  {
   "cell_type": "code",
   "execution_count": 24,
   "metadata": {
    "collapsed": true,
    "deletable": true,
    "editable": true
   },
   "outputs": [],
   "source": [
    "def vectorize(sentence, chars , char_indices ):\n",
    "    X = np.zeros((1, maxlen, len(chars)), dtype=np.bool)\n",
    "    for t, char in enumerate(sentence):\n",
    "        X[0, t, char_indices[char]] = 1\n",
    "    return X"
   ]
  },
  {
   "cell_type": "code",
   "execution_count": 25,
   "metadata": {
    "collapsed": true,
    "deletable": true,
    "editable": true
   },
   "outputs": [],
   "source": [
    "def get_scores_for_model(seed,next_string, model,chars,char_indices):\n",
    "    sentence =seed\n",
    "    prob_char=0.0\n",
    "    x = np.zeros((5, maxlen, len(chars)))\n",
    "\n",
    "    x[0] = vectorize(seed,chars,char_indices)\n",
    "    x[1] = vectorize(seed[1:]+next_string[:1],chars,char_indices)\n",
    "    x[2] = vectorize(seed[2:]+next_string[:2],chars,char_indices)\n",
    "    x[3] = vectorize(seed[3:]+next_string[:3],chars,char_indices)\n",
    "    x[4] = vectorize(seed[4:]+next_string[:4],chars,char_indices)\n",
    "    probs_term = []\n",
    "    for i in range(5):\n",
    "        preds = model.predict(x[i].reshape(1,maxlen,44), verbose=0)[0]\n",
    "        preds = np.log(preds)\n",
    "        probs_term.append(preds[char_indices[next_string[i]]])\n",
    "\n",
    "    return probs_term\n",
    "    '''\n",
    "    prob_list.append(term_probs)\n",
    "    \n",
    "    for i in range(5):\n",
    "        x = np.zeros((1, len(seed), len(chars)))\n",
    "        for t, char in enumerate(sentence):\n",
    "            x[0, t, char_indices[char]] = 1.\n",
    "        preds = model.predict(x, verbose=0)[0]\n",
    "        #print('Preds', preds)\n",
    "        diversity = 1.0\n",
    "        #print(seed, \"\\n\", next_string)\n",
    "        prob_char = prob_char + sample(preds, diversity,next_string[i],char_indices)\n",
    "        sentence = sentence[1:] + next_string[i]\n",
    "    '''\n",
    "    return np.exp(prob_char)\n",
    "        "
   ]
  },
  {
   "cell_type": "code",
   "execution_count": 26,
   "metadata": {
    "collapsed": false
   },
   "outputs": [
    {
     "name": "stdout",
     "output_type": "stream",
     "text": [
      "\n",
      "Iteration 1\n",
      "Epoch 1/20\n",
      "8556/8556 [==============================] - 7s - loss: 2.7745 - acc: 0.2191     \n",
      "Epoch 2/20\n",
      "8556/8556 [==============================] - 7s - loss: 2.1658 - acc: 0.3718     \n",
      "Epoch 3/20\n",
      "8556/8556 [==============================] - 7s - loss: 1.8812 - acc: 0.4504     \n",
      "Epoch 4/20\n",
      "8556/8556 [==============================] - 7s - loss: 1.7031 - acc: 0.4991     \n",
      "Epoch 5/20\n",
      "8556/8556 [==============================] - 7s - loss: 1.5667 - acc: 0.5346     \n",
      "Epoch 6/20\n",
      "8556/8556 [==============================] - 6s - loss: 1.4455 - acc: 0.5657     \n",
      "Epoch 7/20\n",
      "8556/8556 [==============================] - 7s - loss: 1.3429 - acc: 0.5949     \n",
      "Epoch 8/20\n",
      "8556/8556 [==============================] - 6s - loss: 1.2411 - acc: 0.6203     \n",
      "Epoch 9/20\n",
      "8556/8556 [==============================] - 7s - loss: 1.1627 - acc: 0.6448     \n",
      "Epoch 10/20\n",
      "8556/8556 [==============================] - 7s - loss: 1.0785 - acc: 0.6694     \n",
      "Epoch 11/20\n",
      "8556/8556 [==============================] - 7s - loss: 1.0121 - acc: 0.6871     \n",
      "Epoch 12/20\n",
      "8556/8556 [==============================] - 7s - loss: 0.9447 - acc: 0.7093     \n",
      "Epoch 13/20\n",
      "8556/8556 [==============================] - 7s - loss: 0.8798 - acc: 0.7230     \n",
      "Epoch 14/20\n",
      "8556/8556 [==============================] - 7s - loss: 0.8190 - acc: 0.7389     \n",
      "Epoch 15/20\n",
      "8556/8556 [==============================] - 7s - loss: 0.7693 - acc: 0.7591     \n",
      "Epoch 16/20\n",
      "8556/8556 [==============================] - 7s - loss: 0.7189 - acc: 0.7685     \n",
      "Epoch 17/20\n",
      "8556/8556 [==============================] - 7s - loss: 0.6856 - acc: 0.7789     \n",
      "Epoch 18/20\n",
      "8556/8556 [==============================] - 6s - loss: 0.6378 - acc: 0.7939     \n",
      "Epoch 19/20\n",
      "8556/8556 [==============================] - 7s - loss: 0.6127 - acc: 0.8017     \n",
      "Epoch 20/20\n",
      "8556/8556 [==============================] - 7s - loss: 0.5709 - acc: 0.8152     \n",
      "Saved model to disk\n"
     ]
    }
   ],
   "source": [
    "import csv\n",
    "# train the model, output generated text after each iteration\n",
    "for iteration in range(1, 2):\n",
    "    print()\n",
    "    #print('-' * 50)\n",
    "    print('Iteration', iteration)\n",
    "    a1=model.fit(X_eng, y_eng,\n",
    "              batch_size=128,\n",
    "              epochs=20)\n",
    "    model_eng_json = model.to_json()\n",
    "    with open(\"model/model_eng_\"+str(iteration)+\".json\", \"w\") as json_file:\n",
    "        json_file.write(model_eng_json)\n",
    "    # serialize weights to HDF5\n",
    "    model.save_weights(\"weights/model_eng_\"+ str(iteration) +\".h5\")\n",
    "    print(\"Saved model to disk\")"
   ]
  },
  {
   "cell_type": "code",
   "execution_count": 27,
   "metadata": {
    "collapsed": false,
    "deletable": true,
    "editable": true
   },
   "outputs": [],
   "source": [
    "    sentences_fr_test =sentences_fr_test[:100]\n",
    "    \n",
    "    string_fr_test=string_fr_test[:100]\n",
    "    sentences_eng_test =sentences_eng_test[:100]\n",
    "    \n",
    "    string_eng_test=string_eng_test[:100]\n",
    "    \n",
    "    #sentence=\n",
    "    prob_english=[]\n",
    "    for i in range(len(sentences_eng_test)):\n",
    "        prob_english.append(get_scores_for_model(sentences_eng_test[i], string_eng_test[i], model,chars, char_indices))\n",
    "    for i in range(len(sentences_fr_test)):\n",
    "        prob_english.append(get_scores_for_model(sentences_fr_test[i], string_fr_test[i], model, chars, char_indices))\n",
    "    #sentence = text1[start_index: start_index + maxlen]\n",
    "    #print (prob_english)\n",
    "    np.savetxt(\"prob_eng/output_prob_\" + str(iteration) + \".csv\", prob_english, delimiter=',')\n",
    "    #with open(\"prob_eng/output_prob_\" + str(iteration) + \".csv\", 'rt',newline='') as f:\n",
    "    #    w = csv.writer(f, delimiter=',')\n",
    "    #    for row in prob_english:\n",
    "    #        w.writerow(row)\n",
    "    with open(\"model/loss_eng\" + \".csv\", 'a') as f:\n",
    "        w = csv.writer(f, delimiter=',')\n",
    "        w.writerow(a1.history['loss'])\n",
    "       \n",
    "        #print()"
   ]
  },
  {
   "cell_type": "code",
   "execution_count": 29,
   "metadata": {
    "collapsed": false,
    "deletable": true,
    "editable": true
   },
   "outputs": [
    {
     "name": "stdout",
     "output_type": "stream",
     "text": [
      "\n",
      "Iteration 1\n",
      "Epoch 1/20\n",
      "9567/9567 [==============================] - 7s - loss: 2.7122 - acc: 0.2246     \n",
      "Epoch 2/20\n",
      "9567/9567 [==============================] - 7s - loss: 2.1110 - acc: 0.3616     \n",
      "Epoch 3/20\n",
      "9567/9567 [==============================] - 7s - loss: 1.8774 - acc: 0.4301     \n",
      "Epoch 4/20\n",
      "9567/9567 [==============================] - 7s - loss: 1.7269 - acc: 0.4691     \n",
      "Epoch 5/20\n",
      "9567/9567 [==============================] - 7s - loss: 1.5946 - acc: 0.5029     \n",
      "Epoch 6/20\n",
      "9567/9567 [==============================] - 7s - loss: 1.4818 - acc: 0.5377     \n",
      "Epoch 7/20\n",
      "9567/9567 [==============================] - 7s - loss: 1.3832 - acc: 0.5668     \n",
      "Epoch 8/20\n",
      "9567/9567 [==============================] - 7s - loss: 1.2923 - acc: 0.5932     \n",
      "Epoch 9/20\n",
      "9567/9567 [==============================] - 7s - loss: 1.2045 - acc: 0.6153     \n",
      "Epoch 10/20\n",
      "9567/9567 [==============================] - 7s - loss: 1.1234 - acc: 0.6436     \n",
      "Epoch 11/20\n",
      "9567/9567 [==============================] - 7s - loss: 1.0489 - acc: 0.6654     \n",
      "Epoch 12/20\n",
      "9567/9567 [==============================] - 7s - loss: 0.9852 - acc: 0.6804     \n",
      "Epoch 13/20\n",
      "9567/9567 [==============================] - 8s - loss: 0.9186 - acc: 0.7016     \n",
      "Epoch 14/20\n",
      "9567/9567 [==============================] - 7s - loss: 0.8623 - acc: 0.7173     \n",
      "Epoch 15/20\n",
      "9567/9567 [==============================] - 7s - loss: 0.8125 - acc: 0.7347     \n",
      "Epoch 16/20\n",
      "9567/9567 [==============================] - 8s - loss: 0.7703 - acc: 0.7485     \n",
      "Epoch 17/20\n",
      "9567/9567 [==============================] - 9s - loss: 0.7293 - acc: 0.7665     \n",
      "Epoch 18/20\n",
      "9567/9567 [==============================] - 9s - loss: 0.6904 - acc: 0.7670     \n",
      "Epoch 19/20\n",
      "9567/9567 [==============================] - 7s - loss: 0.6582 - acc: 0.7802     \n",
      "Epoch 20/20\n",
      "9567/9567 [==============================] - 7s - loss: 0.6176 - acc: 0.7932     \n",
      "Saved model to disk\n"
     ]
    }
   ],
   "source": [
    "\n",
    "import csv\n",
    "# train the model, output generated text after each iteration\n",
    "\n",
    "\n",
    "for iteration in range(1, 2):\n",
    "    print()\n",
    "    #print('-' * 50)\n",
    "    print('Iteration', iteration)\n",
    "    a2=model2.fit(X_fr, y_fr,\n",
    "              batch_size=128,\n",
    "              epochs=20)\n",
    "    model_fr_json = model2.to_json()\n",
    "    with open(\"model/model_fr_\"+str(iteration)+\".json\", \"w\") as json_file:\n",
    "        json_file.write(model_fr_json)\n",
    "    # serialize weights to HDF5\n",
    "    model2.save_weights(\"weights/model_fr_\"+ str(iteration) +\".h5\")\n",
    "    print(\"Saved model to disk\")\n",
    "    sentences_fr_test =sentences_fr_test[:100]\n",
    "   \n",
    "    string_fr_test=string_fr_test[:100]\n",
    "    sentences_eng_test =sentences_eng_test[:100]\n",
    "    \n",
    "    string_eng_test=string_eng_test[:100]\n",
    "\n",
    "        \n",
    "    \n",
    "    #sentence=\n",
    "    prob_fr=[]\n",
    "    for i in range(len(sentences_eng_test)):\n",
    "        prob_fr.append(get_scores_for_model(sentences_eng_test[i], string_eng_test[i], model2,chars, char_indices))\n",
    "    for i in range(len(sentences_fr_test)):\n",
    "        prob_fr.append(get_scores_for_model(sentences_fr_test[i], string_fr_test[i], model2, chars, char_indices))\n",
    "    #sentence = text1[start_index: start_index + maxlen]\n",
    "    #print (prob_english)\n",
    "    np.savetxt(\"prob_fr/output_prob_\" + str(iteration) + \".csv\", prob_fr, delimiter=',')\n",
    "    #with open(\"prob_fr/output_prob_\" + str(iteration) + \".csv\", 'wt') as f:\n",
    "    #    w = csv.writer(f, delimiter=',')\n",
    "    #    for row in prob_fr:\n",
    "    #        w.writerow(row)\n",
    "    with open(\"model/loss_fr\" + \".csv\", 'a') as f:\n",
    "        w = csv.writer(f, delimiter=',')\n",
    "        w.writerow(a2.history['loss'])\n",
    "\n",
    "    #print()"
   ]
  },
  {
   "cell_type": "code",
   "execution_count": 30,
   "metadata": {
    "collapsed": false,
    "deletable": true,
    "editable": true
   },
   "outputs": [],
   "source": [
    "def predict_language(prob_english, prob_fr):\n",
    "    #print(len(prob_english))\n",
    "    y = [1] * len(prob_english)\n",
    "    probs_eng = []\n",
    "    probs_frn = []\n",
    "    for i in range(len(prob_english)):\n",
    "        sum_english = 0\n",
    "        sum_fr = 0\n",
    "        #print(len(prob_english[0]))\n",
    "        for j in range(len(prob_english[0])):\n",
    "            #print(i)\n",
    "            #print(j)\n",
    "            sum_english += float(prob_english[i][j])\n",
    "            sum_fr += float(prob_fr[i][j])\n",
    "        sum_english = np.exp(sum_english)\n",
    "        sum_fr = np.exp(sum_fr)\n",
    "        if sum_english < sum_fr:\n",
    "            y[i] = 0\n",
    "        if sum_fr == 0.0:\n",
    "            sum_fr = 0.0000000000001\n",
    "            #print(str(i) + \"Zero\")\n",
    "        probs_eng.append(sum_english)\n",
    "        probs_frn.append(sum_fr)\n",
    "    return y, probs_eng, probs_frn"
   ]
  },
  {
   "cell_type": "code",
   "execution_count": 31,
   "metadata": {
    "collapsed": false,
    "deletable": true,
    "editable": true
   },
   "outputs": [
    {
     "name": "stdout",
     "output_type": "stream",
     "text": [
      "----------------- Iteration: 1 --------------------\n",
      "1.32603165251e-31 0.972406372882\n",
      "[[83 17]\n",
      " [14 86]]\n",
      "0.845\n"
     ]
    },
    {
     "data": {
      "image/png": "[encoded data removed]",
      "text/plain": [
       "<matplotlib.figure.Figure at 0x2b6b4173828>"
      ]
     },
     "metadata": {},
     "output_type": "display_data"
    }
   ],
   "source": [
    "import csv\n",
    "for iter in range(1,2):\n",
    "    print(\"----------------- Iteration: \" + str(iter) + \" --------------------\")\n",
    "    prob_english=[]\n",
    "    with open(\"prob_eng/output_prob_\" + str(iter) + \".csv\", 'rt') as f:\n",
    "            w = csv.reader(f, delimiter=',')\n",
    "            prob_english = list(w)\n",
    "    #print(prob_english)\n",
    "\n",
    "    prob_fr=[]\n",
    "    with open(\"prob_fr/output_prob_\" + str(iter) + \".csv\", 'rt') as f:\n",
    "            w = csv.reader(f, delimiter=',')\n",
    "            prob_fr = list(w)\n",
    "    \n",
    "    #print((prob_english), len(prob_fr))\n",
    "    true_labels = ([1] * 100) + ([0] * 100)\n",
    "    #print(true_labels.shape)\n",
    "\n",
    "    from sklearn.metrics import roc_auc_score, confusion_matrix, accuracy_score, auc, roc_curve\n",
    "    #try:\n",
    "    pred_y, logprob_english, logprob_fr = predict_language(prob_english, prob_fr)\n",
    "    #except:\n",
    "    #    continue\n",
    "    #x = [e for i, e in enumerate(logprob_fr) if e == 0]\n",
    "    #print(x)\n",
    "    print(min(logprob_fr), max(logprob_fr))\n",
    "    y_hat = np.array([a/b for (a, b) in zip(logprob_english, logprob_fr)])\n",
    "    #roc_auc_score(true_labels, y_hat)\n",
    "    \n",
    "    print (confusion_matrix(true_labels, pred_y))\n",
    "    print (accuracy_score(true_labels, pred_y))\n",
    "    #print (y_hat)\n",
    "    try:\n",
    "        fpr, tpr, _ = roc_curve(true_labels, y_hat)\n",
    "    except:\n",
    "        continue\n",
    "    roc_auc = auc(fpr, tpr)\n",
    "\n",
    "    import matplotlib.pyplot as plt\n",
    "    plt.figure()\n",
    "    lw = 2\n",
    "    plt.plot(fpr, tpr, color='darkorange',\n",
    "             lw=lw, label='ROC curve (area = %0.2f)' % roc_auc)\n",
    "    plt.plot([0, 1], [0, 1], color='navy', lw=lw, linestyle='--')\n",
    "    plt.xlim([0.0, 1.0])\n",
    "    plt.ylim([0.0, 1.05])\n",
    "    plt.xlabel('False Positive Rate')\n",
    "    plt.ylabel('True Positive Rate')\n",
    "    plt.title('Receiver operating characteristic example')\n",
    "    plt.legend(loc=\"lower right\")\n",
    "    plt.show()"
   ]
  },
  {
   "cell_type": "code",
   "execution_count": null,
   "metadata": {
    "collapsed": true,
    "deletable": true,
    "editable": true
   },
   "outputs": [],
   "source": []
  },
  {
   "cell_type": "code",
   "execution_count": null,
   "metadata": {
    "collapsed": true
   },
   "outputs": [],
   "source": []
  }
 ],
 "metadata": {
  "kernelspec": {
   "display_name": "Python 3",
   "language": "python",
   "name": "python3"
  },
  "language_info": {
   "codemirror_mode": {
    "name": "ipython",
    "version": 3
   },
   "file_extension": ".py",
   "mimetype": "text/x-python",
   "name": "python",
   "nbconvert_exporter": "python",
   "pygments_lexer": "ipython3",
   "version": "3.5.2"
  }
 },
 "nbformat": 4,
 "nbformat_minor": 2
}
