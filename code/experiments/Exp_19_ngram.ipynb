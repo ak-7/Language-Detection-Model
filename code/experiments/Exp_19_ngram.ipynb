{
 "cells": [
  {
   "cell_type": "markdown",
   "metadata": {
    "deletable": true,
    "editable": true
   },
   "source": [
    "# Run Ngram over model. We find 80% accuracy. "
   ]
  },
  {
   "cell_type": "code",
   "execution_count": 5,
   "metadata": {
    "collapsed": false,
    "deletable": true,
    "editable": true
   },
   "outputs": [
    {
     "name": "stdout",
     "output_type": "stream",
     "text": [
      "200\n",
      "['soien', 'ariag', 'ge, j', 'meme ', 'ale. ', 'oute ', 't a l', 'ducat', 'ratui', ' ce q', 'nseig', 'ire e', \"l'ens\", 'ntair', 're. l', 'echni', 'sionn', 'neral', 'x etu', ' doit', ' plei', 'us en', 'ur me', 'ation', 'plein', ' de l', 'humai', 'cemen', 's dro', 'et de', 'ament', ' favo', 'hensi', 'e et ', 'toute', 't tou', 'aciau', ' ains', 'ppeme', 's des', 'pour ', 'la pa', 'nts o', 'e, le', 'ir le', 'ion a', ' enfa', '7 1. ', 'a le ', 'e par', 'a vie', 'la co', 'uir d', 'artic', ' scie', ' bien', 'sulte', 'droit', 'n des', 'x et ', 'lant ', 'tion ', 'itter', 'que d', 'teur.', 'te pe', 'a ce ', 'le pl', 'r le ', 'nal, ', 'e les', 'rtes ', ' pres', 'n pui', ' plei', 'e 29 ', ' des ', 'la co', 'aquel', 'e et ', 'ment ', 'ite e', ' dans', 'ses d', 'a jou', 'liber', 'st so', 'itati', 'r la ', 'nt en', 'r la ', 'et le', 'oits ', 'utrui', 'isfai', 'xigen', 'e, de', ' et d', 'eral ', 'e dem', 'n or ', ' shal', 'e soc', ' arti', 'one h', ' educ', 'n sha', 'least', 'ary a', 'stage', 'ducat', 'mpuls', 'and p', 'catio', ' gene', ' and ', 'n sha', 'ccess', 'the b', '2. ed', 'e dir', 'll de', 'e hum', 'and t', 'ning ', 'human', 'damen', 't sha', 'rstan', ' and ', 'g all', 'l or ', 's, an', ' the ', 'he un', 'r the', ' peac', 'ave a', ' choo', 'educa', ' be g', 'hildr', '1. ev', 'right', 'icipa', 'ral l', 'unity', 'arts ', ' scie', 'ent a', '.\\n\\n\\x0c2', 'the r', 'tecti', ' and ', 'sts r', 'ny sc', 'ary o', 'uctio', 's the', 'e 28 ', 'itled', 'd int', 'r in ', 's and', 'orth ', 'tion ', 'alize', '. eve', 's to ', 'n whi', 'ee an', 'ent o', 'ty is', 'n the', 's rig', 's, ev', ' subj', 'h lim', ' dete', 'olely', 'e of ', 'cogni', 't for', ' free', 'and o', 'ust r', 'moral', 'er an', 'elfar', 'ic so', ' righ', ' may ', 'xerci', ' the ', 'incip', 'ed na', '30 no', 'eclar', 'terpr', 'g for']\n"
     ]
    }
   ],
   "source": [
    "import csv\n",
    "with open(\"test_changedfrn.csv\", 'rt') as f:\n",
    "    w = csv.reader(f, dialect='excel')\n",
    "    for row in w:\n",
    "        string_test = list(row)\n",
    "print(len(string_test))\n",
    "l = len(string_test)\n",
    "print(string_test)"
   ]
  },
  {
   "cell_type": "code",
   "execution_count": 6,
   "metadata": {
    "collapsed": false,
    "deletable": true,
    "editable": true
   },
   "outputs": [],
   "source": [
    "result=[]\n",
    "#0 is english 1 is french\n",
    "true_labels =[1]*100 + [0]*100\n",
    "for i in range(200):\n",
    "    ! cd /Users/akankshabindal/Desktop/GT/WSTM/hw3/language-detector-node-master\n",
    "    #! echo $PWD\n",
    "    #print(string_test[i])\n",
    "    test1 = str(string_test[i])\n",
    "    test = !printf \"%s\" \"$test1\"\n",
    "    \n",
    "    test=test[0]\n",
    "    #print(test)\n",
    "    #if(i==150):\n",
    "    #    test = '.\\n\\n\\x0c2'\n",
    "    #if(i==12):\n",
    "    #    result.append('frn')\n",
    "    #    continue\n",
    "    #print(i,{string_test[i]})\n",
    "    try:\n",
    "        a = ! npm run detect \"$test\"\n",
    "        result.append(a[6])\n",
    "    except:\n",
    "        print(i,test, a)\n",
    "    "
   ]
  },
  {
   "cell_type": "code",
   "execution_count": 7,
   "metadata": {
    "collapsed": false,
    "deletable": true,
    "editable": true
   },
   "outputs": [
    {
     "name": "stdout",
     "output_type": "stream",
     "text": [
      "['frn', 'eng', 'eng', 'frn', 'frn', 'frn', 'eng', 'eng', 'frn', 'eng', 'frn', 'frn', 'frn', 'frn', 'frn', 'eng', 'frn', 'frn', 'frn', 'frn', 'frn', 'frn', 'frn', 'eng', 'eng', 'frn', 'eng', 'frn', 'frn', 'frn', 'frn', 'frn', 'eng', 'frn', 'frn', 'eng', 'frn', 'frn', 'frn', 'frn', 'frn', 'frn', 'frn', 'frn', 'frn', 'eng', 'eng', 'eng', 'frn', 'frn', 'frn', 'frn', 'frn', 'eng', 'frn', 'frn', 'eng', 'frn', 'frn', 'frn', 'frn', 'frn', 'eng', 'frn', 'frn', 'frn', 'frn', 'frn', 'frn', 'eng', 'frn', 'frn', 'frn', 'frn', 'frn', 'eng', 'frn', 'frn', 'frn', 'frn', 'frn', 'eng', 'frn', 'frn', 'frn', 'frn', 'eng', 'eng', 'frn', 'frn', 'frn', 'frn', 'frn', 'frn', 'frn', 'eng', 'frn', 'frn', 'frn', 'frn', 'eng', 'eng', 'eng', 'eng', 'eng', 'eng', 'eng', 'eng', 'eng', 'eng', 'eng', 'eng', 'eng', 'eng', 'eng', 'eng', 'eng', 'frn', 'eng', 'eng', 'frn', 'eng', 'eng', 'eng', 'eng', 'eng', 'frn', 'eng', 'eng', 'eng', 'eng', 'eng', 'eng', 'eng', 'eng', 'eng', 'eng', 'eng', 'eng', 'eng', 'eng', 'eng', 'eng', 'eng', 'frn', 'eng', 'eng', 'frn', 'frn', 'frn', 'eng', 'eng', 'eng', 'eng', 'eng', 'eng', 'eng', 'eng', 'eng', 'eng', 'frn', 'eng', 'eng', 'eng', 'eng', 'frn', 'frn', 'eng', 'eng', 'eng', 'eng', 'eng', 'eng', 'eng', 'eng', 'eng', 'frn', 'eng', 'frn', 'eng', 'eng', 'frn', 'eng', 'eng', 'eng', 'frn', 'eng', 'frn', 'eng', 'frn', 'eng', 'eng', 'eng', 'eng', 'eng', 'eng', 'eng', 'frn', 'eng', 'eng']\n",
      "[[83 17]\n",
      " [23 77]]\n",
      "0.8\n"
     ]
    }
   ],
   "source": [
    "#print(len(result))\n",
    "from sklearn.metrics import roc_auc_score, confusion_matrix, accuracy_score, auc, roc_curve\n",
    "dct={'frn':1,'eng':0}\n",
    "pred_y = [dct[x] for x in result ]\n",
    "print(result)\n",
    "print (confusion_matrix(true_labels, pred_y))\n",
    "print (accuracy_score(true_labels, pred_y))"
   ]
  },
  {
   "cell_type": "code",
   "execution_count": 63,
   "metadata": {
    "collapsed": false,
    "deletable": true,
    "editable": true
   },
   "outputs": [
    {
     "name": "stdout",
     "output_type": "stream",
     "text": [
      "['frn', 'eng', 'frn', 'frn', 'frn', 'frn', 'frn', 'eng', 'frn', 'eng', 'frn', 'frn', 'frn', 'frn', 'frn', 'eng', 'frn', 'frn', 'frn', 'frn', 'frn', 'frn', 'frn', 'eng', 'eng', 'frn', 'eng', 'frn', 'frn', 'frn', 'frn', 'frn', 'eng', 'frn', 'frn', 'eng', 'frn', 'frn', 'frn', 'frn', 'frn', 'frn', 'frn', 'frn', 'frn', 'eng', 'eng', 'eng', 'frn', 'frn', 'frn', 'frn', 'frn', 'eng', 'frn', 'frn', 'eng', 'frn', 'frn', 'frn', 'frn', 'eng', 'eng', 'frn', 'frn', 'frn', 'frn', 'frn', 'frn', 'eng', 'frn', 'frn', 'frn', 'frn', 'frn', 'eng', 'frn', 'frn', 'frn', 'frn', 'frn', 'frn', 'frn', 'frn', 'frn', 'frn', 'eng', 'frn', 'frn', 'frn', 'frn', 'frn', 'frn', 'frn', 'frn', 'eng', 'frn', 'frn', 'frn', 'frn', 'eng', 'eng', 'frn', 'eng', 'eng', 'frn', 'eng', 'eng', 'eng', 'eng', 'eng', 'eng', 'eng', 'eng', 'frn', 'eng', 'eng', 'frn', 'eng', 'eng', 'frn', 'eng', 'eng', 'eng', 'eng', 'eng', 'frn', 'eng', 'eng', 'eng', 'eng', 'eng', 'eng', 'eng', 'eng', 'eng', 'frn', 'eng', 'eng', 'frn', 'frn', 'eng', 'eng', 'eng', 'frn', 'eng', 'eng', 'eng', 'frn', 'frn', 'eng', 'eng', 'eng', 'eng', 'eng', 'eng', 'eng', 'frn', 'eng', 'eng', 'frn', 'eng', 'eng', 'eng', 'eng', 'eng', 'frn', 'eng', 'eng', 'eng', 'eng', 'eng', 'eng', 'eng', 'eng', 'eng', 'frn', 'eng', 'frn', 'eng', 'eng', 'frn', 'eng', 'eng', 'eng', 'frn', 'eng', 'frn', 'eng', 'eng', 'eng', 'eng', 'eng', 'eng', 'eng', 'eng', 'eng', 'frn', 'eng', 'eng']\n"
     ]
    }
   ],
   "source": [
    "print(result)"
   ]
  },
  {
   "cell_type": "code",
   "execution_count": 60,
   "metadata": {
    "collapsed": false,
    "deletable": true,
    "editable": true
   },
   "outputs": [
    {
     "name": "stdout",
     "output_type": "stream",
     "text": [
      "\n",
      "> language-detector@1.0.0 train /Users/akankshabindal/Desktop/GT/WSTM/hw3/language-detector-node-master\n",
      "> ./train.js\n",
      "\n",
      "Started Application\n",
      "Training [Lanugage:  eng ] [File:  subset1/eng.txt ]\n",
      "Training [Lanugage:  frn ] [File:  subset1/frn.txt ]\n",
      "Written Language Profile to File [language-profile.json]\n"
     ]
    }
   ],
   "source": [
    "! npm run train"
   ]
  },
  {
   "cell_type": "markdown",
   "metadata": {
    "deletable": true,
    "editable": true
   },
   "source": [
    "# We now run Ngram over original french text: We find 79.5%  accuracy"
   ]
  },
  {
   "cell_type": "code",
   "execution_count": 70,
   "metadata": {
    "collapsed": false,
    "deletable": true,
    "editable": true
   },
   "outputs": [
    {
     "name": "stdout",
     "output_type": "stream",
     "text": [
      "\n",
      "> language-detector@1.0.0 train /Users/akankshabindal/Desktop/GT/WSTM/hw3/language-detector-node-master\n",
      "> ./train.js\n",
      "\n",
      "Started Application\n",
      "Training [Lanugage:  eng ] [File:  subset1/eng.txt ]\n",
      "Training [Lanugage:  frn ] [File:  subset1/frn.txt ]\n",
      "Written Language Profile to File [language-profile.json]\n"
     ]
    }
   ],
   "source": [
    "! npm run train"
   ]
  },
  {
   "cell_type": "code",
   "execution_count": 2,
   "metadata": {
    "collapsed": false,
    "deletable": true,
    "editable": true
   },
   "outputs": [
    {
     "name": "stdout",
     "output_type": "stream",
     "text": [
      "200\n",
      "['ent n', 'iage ', ', jou', '\\xaame p', 'le. a', 'ute p', ' \\xc3\\xa0 l', '\\xc3\\xa9duc', 'e gra', ' en c', \"l'ens\", 'menta', 'tal. ', '\\xc3\\xa9l\\xc3\\xa9', 'ligat', 'ement', '\\x0cprof', '\\xc3\\xaatre', \" l'ac\", 's sup', '\\xc3\\xaatre', 'ne \\xc3\\xa9', ' en f', ' m\\xc3\\xa9r', 'ation', 'plein', 't de ', '\\xa9 hum', 'orcem', 'des d', 'e et ', 'ondam', 'oit f', 'pr\\xc3\\xa9h', '\\xa9ranc', 'entre', 'ions ', 'upes ', 'gieux', 'd\\xc3\\xa9ve', 'ctivi', 's uni', 'tien ', 'les p', ' prio', ' de c', \" d'\\xc3\\xa9\", 'ner \\xc3', '.\\n\\nar', 'te pe', 'it de', 'ibrem', 'ultur', 'unaut', 's art', 'per a', 'ntifi', 'faits', 'ent 2', 't \\xc3\\xa0 ', 'es in', ' et m', 'ulant', 'ction', 'litt\\xc3', 'tique', 'auteu', 'oute ', 't \\xc3\\xa0 ', 'sur l', 't sur', 'ation', 'l que', 'liber', 'dans ', '\\xa9clar', 'y tro', 't. ar', 'ndivi', 's env', 't\\xc3\\xa9 d', 'ul le', ' d\\xc3\\xa9v', 'a per', 'possi', 'exerc', 'ts et', 'ance ', 's, ch', 'is qu', 's \\xc3\\xa9t', 'oi ex', 'vue\\n\\n', 'econn', 'respe', 't lib', ' et a', 're au', 'ces d', \" l'or\", 'n or ', ' shal', 'e soc', ' arti', 'one h', ' educ', 'n sha', 'least', 'ary a', 'stage', 'ducat', 'mpuls', 'and p', 'catio', ' gene', ' and ', 'n sha', 'ccess', 'the b', '2. ed', 'e dir', 'll de', 'e hum', 'and t', 'ning ', 'human', 'damen', 't sha', 'rstan', ' and ', 'g all', 'l or ', 's, an', ' the ', 'he un', 'r the', ' peac', 'ave a', ' choo', 'educa', ' be g', 'hildr', '1. ev', 'right', 'icipa', 'ral l', 'unity', 'arts ', ' scie', 'ent a', '.\\n\\n\\x0c2', 'the r', 'tecti', ' and ', 'sts r', 'ny sc', 'ary o', 'uctio', 's the', 'e 28 ', 'itled', 'd int', 'r in ', 's and', 'orth ', 'tion ', 'alize', '. eve', 's to ', 'n whi', 'ee an', 'ent o', 'ty is', 'n the', 's rig', 's, ev', ' subj', 'h lim', ' dete', 'olely', 'e of ', 'cogni', 't for', ' free', 'and o', 'ust r', 'moral', 'er an', 'elfar', 'ic so', ' righ', ' may ', 'xerci', ' the ', 'incip', 'ed na', '30 no', 'eclar', 'terpr', 'g for']\n"
     ]
    }
   ],
   "source": [
    "import csv\n",
    "with open(\"test_originalfrn.csv\", 'rt') as f:\n",
    "    w = csv.reader(f, dialect='excel')\n",
    "    for row in w:\n",
    "        string_test = list(row)\n",
    "print(len(string_test))\n",
    "l = len(string_test)\n",
    "print(string_test)"
   ]
  },
  {
   "cell_type": "code",
   "execution_count": 3,
   "metadata": {
    "collapsed": true,
    "deletable": true,
    "editable": true
   },
   "outputs": [],
   "source": [
    "result=[]\n",
    "#0 is english 1 is french\n",
    "true_labels =[1]*100 + [0]*100\n",
    "for i in range(200):\n",
    "    ! cd /Users/akankshabindal/Desktop/GT/WSTM/hw3/language-detector-node-master\n",
    "    #! echo $PWD\n",
    "    #print(string_test[i])\n",
    "    test1 = str(string_test[i])\n",
    "    test = !printf \"%s\" \"$test1\"\n",
    "    \n",
    "    test=test[0]\n",
    "    #print(test)\n",
    "    #if(i==150):\n",
    "    #    test = '.\\n\\n\\x0c2'\n",
    "    #if(i==12):\n",
    "    #    result.append('frn')\n",
    "    #    continue\n",
    "    #print(i,{string_test[i]})\n",
    "    try:\n",
    "        a = ! npm run detect \"$test\"\n",
    "        result.append(a[6])\n",
    "    except:\n",
    "        print(i,test, a)"
   ]
  },
  {
   "cell_type": "code",
   "execution_count": 4,
   "metadata": {
    "collapsed": false,
    "deletable": true,
    "editable": true
   },
   "outputs": [
    {
     "name": "stdout",
     "output_type": "stream",
     "text": [
      "['frn', 'eng', 'frn', 'frn', 'frn', 'frn', 'frn', 'frn', 'frn', 'eng', 'frn', 'frn', 'eng', 'eng', 'eng', 'frn', 'eng', 'frn', 'frn', 'frn', 'frn', 'frn', 'frn', 'frn', 'eng', 'eng', 'frn', 'eng', 'eng', 'frn', 'frn', 'frn', 'frn', 'frn', 'eng', 'frn', 'frn', 'frn', 'frn', 'frn', 'frn', 'eng', 'frn', 'frn', 'eng', 'frn', 'frn', 'frn', 'eng', 'frn', 'frn', 'frn', 'frn', 'frn', 'frn', 'frn', 'eng', 'frn', 'frn', 'frn', 'frn', 'frn', 'frn', 'frn', 'eng', 'frn', 'frn', 'frn', 'frn', 'frn', 'frn', 'eng', 'frn', 'frn', 'frn', 'frn', 'eng', 'eng', 'eng', 'frn', 'frn', 'frn', 'frn', 'frn', 'eng', 'eng', 'frn', 'eng', 'eng', 'frn', 'frn', 'frn', 'frn', 'frn', 'frn', 'frn', 'frn', 'frn', 'frn', 'frn', 'eng', 'eng', 'eng', 'eng', 'eng', 'eng', 'eng', 'eng', 'eng', 'eng', 'eng', 'eng', 'eng', 'eng', 'eng', 'eng', 'eng', 'frn', 'eng', 'eng', 'frn', 'eng', 'eng', 'eng', 'eng', 'eng', 'frn', 'eng', 'eng', 'eng', 'eng', 'eng', 'eng', 'eng', 'eng', 'eng', 'eng', 'eng', 'eng', 'eng', 'eng', 'eng', 'eng', 'eng', 'frn', 'eng', 'eng', 'frn', 'frn', 'frn', 'eng', 'eng', 'eng', 'eng', 'eng', 'eng', 'eng', 'eng', 'eng', 'eng', 'frn', 'eng', 'eng', 'eng', 'eng', 'frn', 'frn', 'eng', 'eng', 'eng', 'eng', 'eng', 'eng', 'eng', 'eng', 'eng', 'frn', 'eng', 'frn', 'eng', 'eng', 'frn', 'eng', 'eng', 'eng', 'frn', 'eng', 'frn', 'eng', 'frn', 'eng', 'eng', 'eng', 'eng', 'eng', 'eng', 'eng', 'frn', 'eng', 'eng']\n",
      "[[83 17]\n",
      " [24 76]]\n",
      "0.795\n"
     ]
    }
   ],
   "source": [
    "#print(len(result))\n",
    "from sklearn.metrics import roc_auc_score, confusion_matrix, accuracy_score, auc, roc_curve\n",
    "dct={'frn':1,'eng':0}\n",
    "pred_y = [dct[x] for x in result ]\n",
    "print(result)\n",
    "print (confusion_matrix(true_labels, pred_y))\n",
    "print (accuracy_score(true_labels, pred_y))"
   ]
  },
  {
   "cell_type": "markdown",
   "metadata": {
    "deletable": true,
    "editable": true
   },
   "source": [
    "# Todo: Now run Ngram over all languages module"
   ]
  },
  {
   "cell_type": "code",
   "execution_count": 15,
   "metadata": {
    "collapsed": false,
    "deletable": true,
    "editable": true
   },
   "outputs": [
    {
     "name": "stdout",
     "output_type": "stream",
     "text": [
      "\n",
      "> language-detector@1.0.0 train /Users/akankshabindal/Desktop/GT/WSTM/hw3/language-detector-node-master\n",
      "> ./train.js\n",
      "\n",
      "Started Application\n",
      "Training [Lanugage:  czc ] [File:  subset/czc.txt ]\n",
      "Training [Lanugage:  dns ] [File:  subset/dns.txt ]\n",
      "Training [Lanugage:  dut ] [File:  subset/dut.txt ]\n",
      "Training [Lanugage:  eng ] [File:  subset/eng.txt ]\n",
      "Training [Lanugage:  frn ] [File:  subset/frn.txt ]\n",
      "Training [Lanugage:  ger ] [File:  subset/ger.txt ]\n",
      "Training [Lanugage:  grk ] [File:  subset/grk.txt ]\n",
      "Training [Lanugage:  hng ] [File:  subset/hng.txt ]\n",
      "Training [Lanugage:  itn ] [File:  subset/itn.txt ]\n",
      "Training [Lanugage:  jpn ] [File:  subset/jpn.txt ]\n",
      "Training [Lanugage:  lat ] [File:  subset/lat.txt ]\n",
      "Training [Lanugage:  lit ] [File:  subset/lit.txt ]\n",
      "Training [Lanugage:  ltn ] [File:  subset/ltn.txt ]\n",
      "Training [Lanugage:  ltn1 ] [File:  subset/ltn1.txt ]\n",
      "Training [Lanugage:  lux ] [File:  subset/lux.txt ]\n",
      "Training [Lanugage:  mls ] [File:  subset/mls.txt ]\n",
      "Training [Lanugage:  por ] [File:  subset/por.txt ]\n",
      "Training [Lanugage:  rmn1 ] [File:  subset/rmn1.txt ]\n",
      "Training [Lanugage:  rum ] [File:  subset/rum.txt ]\n",
      "Training [Lanugage:  rus ] [File:  subset/rus.txt ]\n",
      "Training [Lanugage:  spn ] [File:  subset/spn.txt ]\n",
      "Training [Lanugage:  ukr ] [File:  subset/ukr.txt ]\n",
      "Training [Lanugage:  yps ] [File:  subset/yps.txt ]\n",
      "Written Language Profile to File [language-profile.json]\n"
     ]
    }
   ],
   "source": [
    "! npm run train"
   ]
  },
  {
   "cell_type": "code",
   "execution_count": 28,
   "metadata": {
    "collapsed": false
   },
   "outputs": [
    {
     "name": "stdout",
     "output_type": "stream",
     "text": [
      "230\n",
      "['ent n', 'iage ', ', jou', '\\xbbme p', 'le. a', 'ute p', ' \\xcc\\xca l', '\\xcc\\xa9duc', 'e gra', ' en c', 'n or ', ' shal', 'e soc', ' arti', 'one h', ' educ', 'n sha', 'least', 'ary a', 'stage', 'liche', 'iche,', 'gleic', 'hutz.', 'jeder', 'auf b', 'dung ', 'ch, z', 'r gru', 'ht un', '\\xc1rok ', 'p\\xcc\\xa9\\x80\\x8d', 'chny ', '_elsk', 'elsk\\xcc', 'tejn\\xcc', 'hrany', '. ka\\x81', ' na v', '\\x80\\xddl\\xcc\\xc1', 'd, sy', 'ygtig', ' alde', 'det t', 'mulig', '_ndig', ' er s', '. m\\xcc\\xfc', 'r kra', 'msorg', 'et we', 'zelfd', 'ermin', 'ikel ', ' heef', 'rwijs', ' zal ', ' alth', 'er en', ' betr', '\\xeb\\xb1\\xeb_\\xeb', '\\xe1\\xeb_ \\xeb', '_\\xec\\xe4\\xeb_', '\\xec\\xe3\\xeb\\xb1\\xec', '\\xeb\\xd9 26', '\\xb1\\xec\\xe2 \\xeb', '\\xb1\\xeb\\xf8\\xec\\xe4', '\\xb5\\xeb\\xbc\\xec\\xdb', ' \\xeb\\xd1 \\xeb', '\\xec\\xc4\\xeb\\xe1 ', ' k\\xcc_v', ' ugya', '\\xc1lis ', 'szes\\xcc', ' mind', 'joga ', 'ez. a', 'egal\\xcc', '\\xcc\\xa9s a', '\\xc1st i', 'di pe', 'di su', 'ircos', 'nti d', '\\xcc\\xca. 2', \" e l'\", 'dirit', 'ure e', 'utti ', ' nel ', '\\xa8\\x8c\\xc9\\x90 ', '\\x8b\\x81\\xa4\\x8b\\x81', '\\xd5\\x8c\\xa5\\x8f\\x8b', '__\\x8a__', '\\xbe\\xcf\\xe4\\x8b\\x81', '\\xc1 1. ', '\\x8b\\xdb\\x81\\xbe\\xa5', '\\xdc\\xbe\\xac\\xa9\\x8c', '\\xdb\\xe2\\xbe\\xa5\\xaa', '\\x8b\\x81\\x8f\\x8b\\x81', '\\xe5\\xcal\\x80\\xc7', 'jumu\\xe5', 'as\\xe5\\xcar', 'i\\x81\\xa0a\\xe5', 'apst\\x80', ' 2.\\xe5\\xca', '\\xd2rnie', 's\\xe5\\xcauz', 'ardz\\x80', 'z\\x80\\xc7bu', 'r nes', 'udoja', 'aline', 'raips', 'as tu', 'ksl\\x80\\xc9', ' jau ', 'rindi', 'mo ly', 'okama', ', sen', ' a co', '2. gi', 't pue', 'ima c', ' sunt', 's, et', ' extr', 'adem ', 'ietat', 'ueri,', 'nio s', 'moniu', 'dem s', 'o fru', 'omnis', 'ation', 'et gr', 'od sa', 'd pri', 'stand', 'guer,', ' n\\xcc\\xc7t', 'gebue', 'n de ', ' selw', 'schut', '. all', \"'rech\", 'en un', '\\xc1, ke', ' g\\x80\\xa4a', 'istes', 'pe\\x80\\xdcj', '26. 1', 'ndu l', 'ukazz', 'joni ', 'xejn,', 'l-gra', 'odas ', 'ascid', 'ra do', 'ozam ', '\\xcc\\xa4\\xcc\\xa3o', 'o 26\\xe5', 'soa t', 'duca\\xcc', '\\xcc\\xa3o d', 'a, pe', 'olen ', 'ulavn', 'pomo\\x81', '\\x8dhave', '\\x80\\x8dai ', ', d\\x81_', 'no so', '. d\\x81_', 'isiol', 'ikljo', '\\xcc\\xa8n a', 'se bu', 'prote', ' arti', 'ce pe', 'tul l', '\\x80\\xc4. i', ' treb', 'tuit,', ' ceea', '_\\x84\\xe0_\\xb5', '\\x84\\xe2 _\\xc0', '_\\x84\\x81__', '\\x84\\xe0_\\xb5_', '__\\x84\\xe4\\x84', '\\xe2_\\xfc, ', '\\xb5\\x84\\x81\\x84\\x8f', '_\\xfc_\\xc8_', '_\\xbc_\\xa1,', '\\xc0___\\xc8', '_culo', 'sona ', ' la e', 'ducac', 'ratui', ' lo c', 'a ins', 'ntal ', 'la in', 'ental', '\\xc4___\\xa1', ' _\\xd5__', '\\x84\\xe2\\x84\\xc4\\x84', '__\\xa1_\\xbc', '_\\xa1___', '___\\xab\\x84', '\\xc0\\x84\\xd0_\\xab', '\\xb1\\x84\\xc4 \\x84', '\\x84\\x81 __', '\\x84\\xdb___', ' u na', ' fama', 'marwe', 'liy, ', ' marw', '\\xaa, ke', 'izir,', 'ban\\x89\\xdb', 'n nga', 'k\\x89\\xdb\\xaa.']\n"
     ]
    }
   ],
   "source": [
    "import csv\n",
    "with open(\"test_alllanguages.csv\", 'rt') as f:\n",
    "    w = csv.reader(f, dialect='excel')\n",
    "    for row in w:\n",
    "        string_test = list(row)\n",
    "print(len(string_test))\n",
    "l = len(string_test)\n",
    "print(string_test)"
   ]
  },
  {
   "cell_type": "code",
   "execution_count": 29,
   "metadata": {
    "collapsed": false
   },
   "outputs": [],
   "source": [
    "result=[]\n",
    "true_labels=[]\n",
    "for i in range(23):\n",
    "    true_labels+=[i]*10\n",
    "for i in range(230):\n",
    "    ! cd /Users/akankshabindal/Desktop/GT/WSTM/hw3/language-detector-node-master\n",
    "    #! echo $PWD\n",
    "    #print(string_test[i])\n",
    "    test1 = str(string_test[i])\n",
    "    test = !printf \"%s\" \"$test1\"\n",
    "    \n",
    "    test=test[0]\n",
    "    #print(test)\n",
    "    #if(i==150):\n",
    "    #    test = '.\\n\\n\\x0c2'\n",
    "    #if(i==12):\n",
    "    #    result.append('frn')\n",
    "    #    continue\n",
    "    #print(i,{string_test[i]})\n",
    "    try:\n",
    "        a = ! npm run detect \"$test\"\n",
    "        result.append(a[6])\n",
    "        #print(a[6])\n",
    "    except:\n",
    "        print(i,test, a)"
   ]
  },
  {
   "cell_type": "code",
   "execution_count": 33,
   "metadata": {
    "collapsed": false
   },
   "outputs": [
    {
     "name": "stdout",
     "output_type": "stream",
     "text": [
      "['rmn1', 'yps', 'frn', 'frn', 'frn', 'frn', 'lit', 'ger', 'lux', 'spn', 'rmn1', 'eng', 'eng', 'eng', 'eng', 'ger', 'eng', 'eng', 'eng', 'dns', 'ger', 'ger', 'ger', 'lux', 'ger', 'ger', 'ger', 'lux', 'ger', 'ger', 'yps', 'lit', 'czc', 'dns', 'dns', 'czc', 'czc', 'czc', 'czc', 'lit', 'dns', 'dns', 'dns', 'dns', 'mls', 'dut', 'ger', 'hng', 'dns', 'eng', 'ger', 'hng', 'ltn1', 'dns', 'dut', 'dut', 'dut', 'eng', 'lux', 'ltn1', 'lit', 'lit', 'lit', 'lit', 'lit', 'lit', 'lit', 'lit', 'lit', 'lit', 'lit', 'hng', 'ltn1', 'hng', 'hng', 'hng', 'dut', 'rum', 'lat', 'czc', 'rmn1', 'ltn', 'por', 'ltn', 'lit', 'frn', 'itn', 'eng', 'itn', 'itn', 'lit', 'lit', 'lit', 'lat', 'lit', 'lit', 'lit', 'lit', 'lit', 'lit', 'lit', 'lat', 'lat', 'lit', 'lit', 'lit', 'dut', 'lat', 'lat', 'lat', 'dns', 'czc', 'ltn1', 'lit', 'lit', 'lat', 'lat', 'dut', 'eng', 'lit', 'hng', 'spn', 'yps', 'ltn', 'yps', 'ltn1', 'frn', 'ltn', 'por', 'ltn', 'ltn', 'lit', 'ltn', 'dut', 'eng', 'ltn1', 'ltn1', 'lux', 'dns', 'lit', 'eng', 'lux', 'lit', 'ltn1', 'dut', 'lux', 'ger', 'lux', 'lux', 'ger', 'dns', 'lit', 'ger', 'rmn1', 'lit', 'mls', 'mls', 'mls', 'czc', 'mls', 'por', 'por', 'por', 'hng', 'lit', 'lit', 'por', 'spn', 'por', 'por', 'rmn1', 'czc', 'ltn', 'rmn1', 'lit', 'lit', 'czc', 'rmn1', 'rmn1', 'mls', 'lux', 'ltn1', 'eng', 'eng', 'rum', 'rum', 'ltn1', 'dut', 'ltn', 'eng', 'lit', 'lit', 'lat', 'lit', 'lat', 'lit', 'lit', 'lit', 'lit', 'lat', 'spn', 'spn', 'ltn1', 'spn', 'ltn', 'spn', 'frn', 'mls', 'lit', 'mls', 'lat', 'lat', 'lit', 'lat', 'lat', 'lat', 'lit', 'lit', 'lat', 'lat', 'itn', 'yps', 'yps', 'yps', 'yps', 'dns', 'lat', 'yps', 'yps', 'lit']\n",
      "[[ 4  0  1  0  0  0  0  0  0  0  0  1  0  0  1  0  0  1  0  0  1  0  1]\n",
      " [ 0  7  1  0  1  0  0  0  0  0  0  0  0  0  0  0  0  1  0  0  0  0  0]\n",
      " [ 0  0  8  0  0  0  0  0  0  0  0  0  0  0  2  0  0  0  0  0  0  0  0]\n",
      " [ 0  0  0  5  2  0  0  0  0  0  0  2  0  0  0  0  0  0  0  0  0  0  1]\n",
      " [ 0  1  1  0  5  1  0  1  0  0  0  0  0  0  0  1  0  0  0  0  0  0  0]\n",
      " [ 0  1  1  0  1  3  0  1  0  0  0  0  0  2  1  0  0  0  0  0  0  0  0]\n",
      " [ 0  0  0  0  0  0  0  0  0  0  0 10  0  0  0  0  0  0  0  0  0  0  0]\n",
      " [ 0  0  0  1  0  1  0  4  0  0  1  1  0  1  0  0  0  0  1  0  0  0  0]\n",
      " [ 1  1  0  0  0  0  0  0  3  0  0  1  2  0  0  0  1  1  0  0  0  0  0]\n",
      " [ 0  0  0  0  0  0  0  0  0  0  1  9  0  0  0  0  0  0  0  0  0  0  0]\n",
      " [ 0  0  0  0  0  1  0  0  0  0  5  4  0  0  0  0  0  0  0  0  0  0  0]\n",
      " [ 0  1  0  1  1  1  0  0  0  0  2  3  0  1  0  0  0  0  0  0  0  0  0]\n",
      " [ 1  0  0  0  0  0  0  1  0  0  0  0  3  1  0  0  1  0  0  0  1  0  2]\n",
      " [ 0  1  0  0  1  1  0  0  0  0  0  2  2  2  1  0  0  0  0  0  0  0  0]\n",
      " [ 0  1  2  0  0  1  0  0  0  0  0  1  0  1  4  0  0  0  0  0  0  0  0]\n",
      " [ 0  0  1  1  1  0  0  0  0  0  0  2  0  0  0  4  0  1  0  0  0  0  0]\n",
      " [ 0  0  0  0  0  0  0  1  0  0  0  2  0  0  0  0  6  0  0  0  1  0  0]\n",
      " [ 0  0  0  2  0  0  0  0  0  0  0  2  1  0  0  1  0  4  0  0  0  0  0]\n",
      " [ 0  3  0  0  0  1  0  0  0  0  0  0  1  2  1  0  0  0  2  0  0  0  0]\n",
      " [ 0  0  0  0  0  0  0  0  0  0  3  7  0  0  0  0  0  0  0  0  0  0  0]\n",
      " [ 1  0  0  0  0  0  0  0  0  0  0  1  1  1  0  2  0  0  0  0  4  0  0]\n",
      " [ 0  0  0  0  0  0  0  0  0  0  7  3  0  0  0  0  0  0  0  0  0  0  0]\n",
      " [ 0  0  0  0  1  0  0  0  1  0  1  1  0  0  0  0  0  0  0  0  0  0  6]]\n",
      "0.35652173913\n"
     ]
    }
   ],
   "source": [
    "#print(len(result))\n",
    "from sklearn.metrics import roc_auc_score, confusion_matrix, accuracy_score, auc, roc_curve\n",
    "#dct={'frn':1,'eng':0}\n",
    "dct = {'eng':1, 'frn':0, 'ger':2, 'czc':3,'dns':4,'dut':5,'grk':6,'hng':7,'itn':8,'jpn':9,'lat':10,'lit':11,\n",
    "       'ltn':12,'ltn1':13,'lux':14,'mls':15,'por':16,'rmn1':17,'rum':18,'rus':19,'spn':20,'ukr':21,'yps':22}\n",
    "pred_y = [dct[x] for x in result ]\n",
    "print(result)\n",
    "print (confusion_matrix(true_labels, pred_y))\n",
    "print (accuracy_score(true_labels, pred_y))"
   ]
  },
  {
   "cell_type": "markdown",
   "metadata": {},
   "source": [
    "# NEW"
   ]
  },
  {
   "cell_type": "code",
   "execution_count": 36,
   "metadata": {
    "collapsed": false
   },
   "outputs": [
    {
     "name": "stdout",
     "output_type": "stream",
     "text": [
      "230\n",
      "['ent n\\xcc\\xa9s dans le mariage ou hors mariage, jouissen', 'iage ou hors mariage, jouissent de la m\\xcc\\xbbme protec', ', jouissent de la m\\xcc\\xbbme protection sociale. articl', '\\xbbme protection sociale. article 26 1. toute person', \"le. article 26 1. toute personne a droit \\xcc\\xca l'\\xcc\\xa9du\", \"ute personne a droit \\xcc\\xca l'\\xcc\\xa9ducation. l'\\xcc\\xa9ducation\", \" \\xcc\\xca l'\\xcc\\xa9ducation. l'\\xcc\\xa9ducation doit \\xcc\\xbbtre gratuite\", '\\xcc\\xa9ducation doit \\xcc\\xbbtre gratuite, au moins en ce qui', \"e gratuite, au moins en ce qui concerne l'enseigne\", \" en ce qui concerne l'enseignement \\xcc\\xa9l\\xcc\\xa9mentaire e\", 'n or out of wedlock, shall enjoy the same social p', ' shall enjoy the same social protection. article 2', 'e social protection. article 26 1. everyone has th', ' article 26 1. everyone has the right to education', 'one has the right to education. education shall be', ' education. education shall be free, at least in t', 'n shall be free, at least in the elementary and fu', 'least in the elementary and fundamental stages. el', 'ary and fundamental stages. elementary education s', 'stages. elementary education shall be compulsory. ', 'liche wie au\\xcc\\xd9ereheliche, genie\\xcc\\xd9en den gleichen s', 'iche, genie\\xcc\\xd9en den gleichen sozialen schutz. arti', 'gleichen sozialen schutz. artikel 26 1. jeder hat ', 'hutz. artikel 26 1. jeder hat das recht auf bildun', 'jeder hat das recht auf bildung. die bildung ist u', 'auf bildung. die bildung ist unentgeltlich, zum mi', 'dung ist unentgeltlich, zum mindesten der grundsch', 'ch, zum mindesten der grundschulunterricht und die', 'r grundschulunterricht und die grundlegende bildun', 'ht und die grundlegende bildung. der grundschulunt', '\\xc1rok na zvl\\xcc\\xc1\\x81\\xc1tn\\xcc_ p\\xcc\\xa9\\x80\\x8di a pomoc. v\\x81\\xc1echny d\\x80\\xddti', 'p\\xcc\\xa9\\x80\\x8di a pomoc. v\\x81\\xc1echny d\\x80\\xddti, a\\x81\\xb4 man\\x81_elsk\\xcc\\xa9 ne', 'chny d\\x80\\xddti, a\\x81\\xb4 man\\x81_elsk\\xcc\\xa9 nebo neman\\x81_elsk\\xcc\\xa9, po', '_elsk\\xcc\\xa9 nebo neman\\x81_elsk\\xcc\\xa9, poz\\xcc_vaj\\xcc_ stejn\\xcc\\xa9 soc', 'elsk\\xcc\\xa9, poz\\xcc_vaj\\xcc_ stejn\\xcc\\xa9 soci\\xcc\\xc1ln\\xcc_ ochrany. \\x80\\xcel', 'tejn\\xcc\\xa9 soci\\xcc\\xc1ln\\xcc_ ochrany. \\x80\\xcel\\xcc\\xc1nek 26 1. ka\\x81_d\\xcc_ ', 'hrany. \\x80\\xcel\\xcc\\xc1nek 26 1. ka\\x81_d\\xcc_ m\\xcc\\xc1 pr\\xcc\\xc1vo na vzd\\x80\\xddl', '. ka\\x81_d\\xcc_ m\\xcc\\xc1 pr\\xcc\\xc1vo na vzd\\x80\\xddl\\xcc\\xc1n\\xcc_. vzd\\x80\\xddl\\xcc\\xc1n\\xcc_ n', ' na vzd\\x80\\xddl\\xcc\\xc1n\\xcc_. vzd\\x80\\xddl\\xcc\\xc1n\\xcc_ nech\\x81\\xb4 je bezplatn\\xcc\\xa9,', '\\x80\\xddl\\xcc\\xc1n\\xcc_ nech\\x81\\xb4 je bezplatn\\xcc\\xa9, alespo\\x81\\xf6 v po\\x80\\x8d\\xcc\\xc1te', 'd, sygdom, uarbejdsdygtighed, enkestand, alderdom ', 'ygtighed, enkestand, alderdom eller\\r\\r\\x0candet tab af', ' alderdom eller\\r\\r\\x0candet tab af fortjenstmulighed u', 'det tab af fortjenstmulighed under omst\\xcc_ndigheder', 'mulighed under omst\\xcc_ndigheder, der ikke er selvfo', '_ndigheder, der ikke er selvforskyldt. 2. m\\xcc\\xfcdre o', ' er selvforskyldt. 2. m\\xcc\\xfcdre og b\\xcc\\xfcrn har krav p\\xcc\\xb4', '. m\\xcc\\xfcdre og b\\xcc\\xfcrn har krav p\\xcc\\xb4 s\\xcc_rlig omsorg og h', 'r krav p\\xcc\\xb4 s\\xcc_rlig omsorg og hj\\xcc_lp. alle b\\xcc\\xfcrn sk', 'msorg og hj\\xcc_lp. alle b\\xcc\\xfcrn skal, hvadenten de er ', 'et wettig, zullen dezelfde sociale bescherming gen', 'zelfde sociale bescherming genieten. artikel 26 1.', 'erming genieten. artikel 26 1. een ieder heeft rec', 'ikel 26 1. een ieder heeft recht op onderwijs; het', ' heeft recht op onderwijs; het onderwijs zal koste', 'rwijs; het onderwijs zal kosteloos zijn, althans w', ' zal kosteloos zijn, althans wat het lager en basi', ' althans wat het lager en basisonderwijs betreft. ', 'er en basisonderwijs betreft. het lager onderwijs ', ' betreft. het lager onderwijs zal verplicht zijn. ', '\\xeb\\xb1\\xeb_\\xeb_\\xeb\\xc2\\xeb_\\xeb\\xc0\\xec\\xc9\\xeb_ \\xec\\xe3\\xeb\\xe1\\xeb_ \\xeb\\xf8\\xeb\\xab\\xeb_\\xeb\\xb1 \\xeb\\xbc\\xeb\\xc0\\xeb_\\xeb_\\xec\\xe4\\xeb_\\xeb_\\xeb\\xbc\\xeb', '\\xe1\\xeb_ \\xeb\\xf8\\xeb\\xab\\xeb_\\xeb\\xb1 \\xeb\\xbc\\xeb\\xc0\\xeb_\\xeb_\\xec\\xe4\\xeb_\\xeb_\\xeb\\xbc\\xeb\\xa8 \\xec\\xdb\\xec\\x81\\xeb\\xc0\\xec\\xc4\\xec\\xe3\\xeb\\xb1\\xec\\xc4\\xeb\\xf8\\xeb\\xb1', '_\\xec\\xe4\\xeb_\\xeb_\\xeb\\xbc\\xeb\\xa8 \\xec\\xdb\\xec\\x81\\xeb\\xc0\\xec\\xc4\\xec\\xe3\\xeb\\xb1\\xec\\xc4\\xeb\\xf8\\xeb\\xb1. \\xeb\\xd4\\xeb\\xc1\\xeb\\xf7\\xeb\\xc1\\xeb\\xd9 26 1. \\xeb', '\\xec\\xe3\\xeb\\xb1\\xec\\xc4\\xeb\\xf8\\xeb\\xb1. \\xeb\\xd4\\xeb\\xc1\\xeb\\xf7\\xeb\\xc1\\xeb\\xd9 26 1. \\xeb_\\xeb\\xb1\\xeb\\xfc\\xeb_\\xeb_\\xeb\\xb1\\xec\\xe2 \\xeb_\\xec\\xe0\\xeb\\xb5', '\\xeb\\xd9 26 1. \\xeb_\\xeb\\xb1\\xeb\\xfc\\xeb_\\xeb_\\xeb\\xb1\\xec\\xe2 \\xeb_\\xec\\xe0\\xeb\\xb5\\xeb_ \\xeb\\xab\\xeb_\\xeb\\xbc\\xeb\\xb1\\xeb\\xf8\\xec\\xe4\\xeb_\\xeb\\xb1 ', '\\xb1\\xec\\xe2 \\xeb_\\xec\\xe0\\xeb\\xb5\\xeb_ \\xeb\\xab\\xeb_\\xeb\\xbc\\xeb\\xb1\\xeb\\xf8\\xec\\xe4\\xeb_\\xeb\\xb1 \\xec\\xc4\\xec\\xe3\\xeb\\xe1\\xeb_ \\xeb\\xb5\\xeb\\xbc\\xec\\xdb\\xeb\\xb1\\xeb\\xf8\\xeb', '\\xb1\\xeb\\xf8\\xec\\xe4\\xeb_\\xeb\\xb1 \\xec\\xc4\\xec\\xe3\\xeb\\xe1\\xeb_ \\xeb\\xb5\\xeb\\xbc\\xec\\xdb\\xeb\\xb1\\xeb\\xf8\\xeb\\xab\\xeb\\xb5\\xec\\xc9\\xec\\xc4\\xeb\\xe1. \\xeb\\xd1 \\xeb\\xb5\\xeb\\xbc\\xec\\xdb', '\\xb5\\xeb\\xbc\\xec\\xdb\\xeb\\xb1\\xeb\\xf8\\xeb\\xab\\xeb\\xb5\\xec\\xc9\\xec\\xc4\\xeb\\xe1. \\xeb\\xd1 \\xeb\\xb5\\xeb\\xbc\\xec\\xdb\\xeb\\xb1\\xeb\\xf8\\xeb\\xab\\xeb\\xb5\\xec\\xc9\\xec\\xc4\\xeb\\xe1 \\xec\\xdb\\xec\\x81\\xeb', ' \\xeb\\xd1 \\xeb\\xb5\\xeb\\xbc\\xec\\xdb\\xeb\\xb1\\xeb\\xf8\\xeb\\xab\\xeb\\xb5\\xec\\xc9\\xec\\xc4\\xeb\\xe1 \\xec\\xdb\\xec\\x81\\xeb_\\xec\\xdb\\xeb\\xb5\\xeb_ \\xeb_\\xeb\\xb1 \\xec\\xdb\\xeb\\xb1\\xec\\x81\\xeb', '\\xec\\xc4\\xeb\\xe1 \\xec\\xdb\\xec\\x81\\xeb_\\xec\\xdb\\xeb\\xb5\\xeb_ \\xeb_\\xeb\\xb1 \\xec\\xdb\\xeb\\xb1\\xec\\x81\\xeb_\\xec\\xe0\\xeb\\xb5\\xec\\xe3\\xeb\\xb1\\xeb_ \\xeb\\xab\\xec\\xe4\\xec\\x81\\xeb\\xb5', ' k\\xcc_v\\xcc_l sz\\xcc_letett, ugyanabban a szoci\\xcc\\xc1lis v\\xcc\\xa9de', ' ugyanabban a szoci\\xcc\\xc1lis v\\xcc\\xa9delemben r\\xcc\\xa9szes\\xcc_l. 2', '\\xc1lis v\\xcc\\xa9delemben r\\xcc\\xa9szes\\xcc_l. 26. cikk 1. minden sz', 'szes\\xcc_l. 26. cikk 1. minden szem\\xcc\\xa9lynek joga van a', ' minden szem\\xcc\\xa9lynek joga van a nevel\\xcc\\xa9shez. a neve', 'joga van a nevel\\xcc\\xa9shez. a nevel\\xcc\\xa9snek, legal\\xcc\\xc1bbis', 'ez. a nevel\\xcc\\xa9snek, legal\\xcc\\xc1bbis az elemi \\xcc\\xa9s alapve', 'egal\\xcc\\xc1bbis az elemi \\xcc\\xa9s alapvet\\x81\\xd4 oktat\\xcc\\xc1st illet\\x81', '\\xcc\\xa9s alapvet\\x81\\xd4 oktat\\xcc\\xc1st illet\\x81\\xd4en, ingyenesnek kel', '\\xc1st illet\\x81\\xd4en, ingyenesnek kell lennie. az elemi o', 'di perdita di mezzi di sussistenza per circostanze', 'di sussistenza per circostanze indipendenti dalla ', 'ircostanze indipendenti dalla sua volont\\xcc\\xca. 2. la ', \"nti dalla sua volont\\xcc\\xca. 2. la maternit\\xcc\\xca e l'infan\", \"\\xcc\\xca. 2. la maternit\\xcc\\xca e l'infanzia hanno diritto a \", \" e l'infanzia hanno diritto a speciali cure ed ass\", 'diritto a speciali cure ed assistenza. tutti i bam', 'ure ed assistenza. tutti i bambini, nati nel matri', 'utti i bambini, nati nel matrimonio o fuori di ess', ' nel matrimonio o fuori di esso, devono godere del', '\\xa8\\x8c\\xc9\\x90 \\x8d\\xc7\\xb4\\x8b\\x81\\xf8\\x8b\\xdb\\x81\\x8c\\xc7\\xc1\\x8c\\xe0\\xbc\\x8b\\x81\\xa4\\x8b\\x81\\xe2\\x8b\\xe2\\xdc\\x8b\\x81\\xac\\x8c\\x90_\\x8b\\x81\\xac\\x8b\\xe2\\xd5\\x8c\\xa5\\x8f\\x8b\\xe2\\x8f\\x8b\\x81_', '\\x8b\\x81\\xa4\\x8b\\x81\\xe2\\x8b\\xe2\\xdc\\x8b\\x81\\xac\\x8c\\x90_\\x8b\\x81\\xac\\x8b\\xe2\\xd5\\x8c\\xa5\\x8f\\x8b\\xe2\\x8f\\x8b\\x81_\\x8b\\xdb\\x81\\x8c\\x90\\xce\\x8b\\x81\\xf7\\x8d__\\x8a__\\x8d_\\xe3\\x8a\\xc0', '\\xd5\\x8c\\xa5\\x8f\\x8b\\xe2\\x8f\\x8b\\x81_\\x8b\\xdb\\x81\\x8c\\x90\\xce\\x8b\\x81\\xf7\\x8d__\\x8a__\\x8d_\\xe3\\x8a\\xc0\\x9d\\x8f_\\xe1\\x8b\\xe2\\xd5\\x8a\\xbc\\xc7\\xbe\\xcf\\xe4\\x8b\\x81\\xaa\\x8b\\xe2\\xdc\\x8b', '__\\x8a__\\x8d_\\xe3\\x8a\\xc0\\x9d\\x8f_\\xe1\\x8b\\xe2\\xd5\\x8a\\xbc\\xc7\\xbe\\xcf\\xe4\\x8b\\x81\\xaa\\x8b\\xe2\\xdc\\x8b\\xdb\\xe2 \\x8d\\xc2\\xc226\\xbe\\x9d\\xc1 1. \\x8b\\x81\\xaa\\x8b\\x81', '\\xbe\\xcf\\xe4\\x8b\\x81\\xaa\\x8b\\xe2\\xdc\\x8b\\xdb\\xe2 \\x8d\\xc2\\xc226\\xbe\\x9d\\xc1 1. \\x8b\\x81\\xaa\\x8b\\x81_\\x8b\\x81_\\x8a\\xbc\\xbc\\x8b\\x81\\xf8\\x8b\\xdb\\x81\\xbe\\xa5\\xaa\\x8f\\xe2_\\x8b', '\\xc1 1. \\x8b\\x81\\xaa\\x8b\\x81_\\x8b\\x81_\\x8a\\xbc\\xbc\\x8b\\x81\\xf8\\x8b\\xdb\\x81\\xbe\\xa5\\xaa\\x8f\\xe2_\\x8b\\xe2\\xd5\\x8c\\x8f\\xd1\\x8b\\x81\\xd4\\x8b\\xe2\\xdc\\xbe\\xac\\xa9\\x8c\\xf6\\xa9\\x8b\\xe2\\xd5', '\\x8b\\xdb\\x81\\xbe\\xa5\\xaa\\x8f\\xe2_\\x8b\\xe2\\xd5\\x8c\\x8f\\xd1\\x8b\\x81\\xd4\\x8b\\xe2\\xdc\\xbe\\xac\\xa9\\x8c\\xf6\\xa9\\x8b\\xe2\\xd5\\xbe\\xcf\\xe4\\x8b\\x81\\xaa\\x8b\\xe2\\xdc\\x8b\\xdb\\xe2\\xbe\\xa5\\xaa\\x8f\\xe2_\\x8b\\x81', '\\xdc\\xbe\\xac\\xa9\\x8c\\xf6\\xa9\\x8b\\xe2\\xd5\\xbe\\xcf\\xe4\\x8b\\x81\\xaa\\x8b\\xe2\\xdc\\x8b\\xdb\\xe2\\xbe\\xa5\\xaa\\x8f\\xe2_\\x8b\\x81\\xf8\\x8b\\xdb\\x81\\x8c\\xa1\\xd4\\x8b\\x81\\xbb\\x8b\\x81\\x8f\\x8b\\x81\\xac\\x8b\\xe2\\xe2\\x8c', '\\xdb\\xe2\\xbe\\xa5\\xaa\\x8f\\xe2_\\x8b\\x81\\xf8\\x8b\\xdb\\x81\\x8c\\xa1\\xd4\\x8b\\x81\\xbb\\x8b\\x81\\x8f\\x8b\\x81\\xac\\x8b\\xe2\\xe2\\x8c\\xf6\\x9d\\x8d_\\xe4 \\x8b\\x81\\xa8\\x8c\\x8f_\\x8b\\x81_\\x8c\\xd9\\xbc\\x8d_', '\\x8b\\x81\\x8f\\x8b\\x81\\xac\\x8b\\xe2\\xe2\\x8c\\xf6\\x9d\\x8d_\\xe4 \\x8b\\x81\\xa8\\x8c\\x8f_\\x8b\\x81_\\x8c\\xd9\\xbc\\x8d__\\x8d_\\xe3\\x8b\\x81\\xa8\\xbe\\xa8\\xb5\\x8e__\\x8b\\x81\\xc7\\x8b\\x81_\\x8b', '\\xe5\\xcal\\x80\\xc7dzek\\x80_u\\xe5\\xcazaud\\x80\\xd2jumu\\xe5\\xcagad\\x80\\xc7jumos,\\xe5\\xcakas\\xe5\\xcaradu\\x81\\xc1', 'jumu\\xe5\\xcagad\\x80\\xc7jumos,\\xe5\\xcakas\\xe5\\xcaradu\\x81\\xc1ies\\xe5\\xcano\\xe5\\xcavi\\x81\\xa0a\\xe5\\xcaneat', 'as\\xe5\\xcaradu\\x81\\xc1ies\\xe5\\xcano\\xe5\\xcavi\\x81\\xa0a\\xe5\\xcaneatkar\\x80\\xc7gu\\xe5\\xca apst\\x80\\x81k\\x80_u', 'i\\x81\\xa0a\\xe5\\xcaneatkar\\x80\\xc7gu\\xe5\\xca apst\\x80\\x81k\\x80_u\\xe5\\xcad\\x80\\xd2\\x80_.\\xe5\\xca 2.\\xe5\\xcam\\x80\\x81t\\x80', 'apst\\x80\\x81k\\x80_u\\xe5\\xcad\\x80\\xd2\\x80_.\\xe5\\xca 2.\\xe5\\xcam\\x80\\x81t\\x80\\xd2m\\xe5\\xcaun\\xe5\\xcab\\x80\\xd2rniem\\xe5\\xcair', ' 2.\\xe5\\xcam\\x80\\x81t\\x80\\xd2m\\xe5\\xcaun\\xe5\\xcab\\x80\\xd2rniem\\xe5\\xcair\\xe5\\xcaties\\x80\\xc7bas\\xe5\\xcauz\\xe5\\xca\\x80\\xc7p', '\\xd2rniem\\xe5\\xcair\\xe5\\xcaties\\x80\\xc7bas\\xe5\\xcauz\\xe5\\xca\\x80\\xc7pa\\x81\\xc1u\\xe5\\xcaaizsardz\\x80\\xc7bu\\xe5\\xca', 's\\xe5\\xcauz\\xe5\\xca\\x80\\xc7pa\\x81\\xc1u\\xe5\\xcaaizsardz\\x80\\xc7bu\\xe5\\xcaun\\xe5\\xcapal\\x80\\xc7dz\\x80\\xc7bu.\\xe5\\xcavi', 'ardz\\x80\\xc7bu\\xe5\\xcaun\\xe5\\xcapal\\x80\\xc7dz\\x80\\xc7bu.\\xe5\\xcavisiem\\xe5\\xcab\\x80\\xd2rniem,\\xe5\\xca la', 'z\\x80\\xc7bu.\\xe5\\xcavisiem\\xe5\\xcab\\x80\\xd2rniem,\\xe5\\xca laul\\x80\\xc7b\\x80\\x81\\xe5\\xcaun\\xe5\\xca\\x80\\x81rlaul', 'r nesantuokiniai, naudojasi vienoda socialine apsa', 'udojasi vienoda socialine apsauga. 26 straipsnis 1', 'aline apsauga. 26 straipsnis 1. kiekvienas turi te', 'raipsnis 1. kiekvienas turi teis\\x80\\xaa \\x80\\xf8 moksl\\x80\\xc9. mok', 'as turi teis\\x80\\xaa \\x80\\xf8 moksl\\x80\\xc9. mokslas, bent jau pradi', 'ksl\\x80\\xc9. mokslas, bent jau pradinio ir pagrindinio i', ' jau pradinio ir pagrindinio i\\x81\\xc1silavinimo lygmen\\x81', 'rindinio i\\x81\\xc1silavinimo lygmen\\x81_, yra nemokamas. pr', 'mo lygmen\\x81_, yra nemokamas. pradinis mokslas yra p', 'okamas. pradinis mokslas yra privalomas. techninis', ', senex aut defectus a copiis, invitus. 2. gignend', ' a copiis, invitus. 2. gignendi tempus et puerilis', '2. gignendi tempus et puerilis aetas maxima cura c', 't puerilis aetas maxima cura custodienda sunt. omn', 'ima cura custodienda sunt. omnibus pueris, et matr', ' sunt. omnibus pueris, et matrimonium et extra ide', 's, et matrimonium et extra idem natis, eadem est h', ' extra idem natis, eadem est humanae societatis tu', 'adem est humanae societatis tutela. xxvi 1. suae q', 'ietatis tutela. xxvi 1. suae quisque ipsius doctri', 'ueri, sive in matrmonio sive extra matrimonium nat', 'nio sive extra matrimonium nati sunt, eodem social', 'monium nati sunt, eodem sociali praesidio fruuntur', 'dem sociali praesidio fruuntur. xxvi i. omnis jus ', 'o fruuntur. xxvi i. omnis jus habet educationi. ed', 'omnis jus habet educationi. educatio debet gratuit', 'ationi. educatio debet gratuita esse, quod saltem ', 'et gratuita esse, quod saltem pertinet ad primas p', 'od saltem pertinet ad primas praecipuasque littera', 'd primas praecipuasque litteras. primae litterae s', \"stand. d'kanner alleguer, ob se am odder n\\xcc\\xc7t am b\", 'guer, ob se am odder n\\xcc\\xc7t am bestiednes gebuer gin', ' n\\xcc\\xc7t am bestiednes gebuer gin, kommen an de genos', 'gebuer gin, kommen an de genoss vun deem selwechte', 'n de genoss vun deem selwechten zoziale schutz. ar', ' selwechten zoziale schutz. artikel 26 1. all m\\xcc\\xc7n', \"schutz. artikel 26 1. all m\\xcc\\xc7nsch huet d'recht op \", \". all m\\xcc\\xc7nsch huet d'recht op bildung. den unterr\\xcc\", \"'recht op bildung. den unterr\\xcc\\xa9cht muss op d'manns\", \"en unterr\\xcc\\xa9cht muss op d'mannst fir d'elementar- a\", '\\xc1, kemm barra minnu, g\\x80\\xa4andhom igawdu l-istess pro', ' g\\x80\\xa4andhom igawdu l-istess protezzjoni spe\\x80\\xdcjali. ', 'istess protezzjoni spe\\x80\\xdcjali. l-artiklu 26. 1. kul', 'pe\\x80\\xdcjali. l-artiklu 26. 1. kul\\x80\\xa4add g\\x80\\xa4andu l-jedd', '26. 1. kul\\x80\\xa4add g\\x80\\xa4andu l-jedd g\\x80\\xa4all-edukazzjoni.', 'ndu l-jedd g\\x80\\xa4all-edukazzjoni. l-edukazzjoni g\\x80\\xa4an', \"ukazzjoni. l-edukazzjoni g\\x80\\xa4anda tkun b'xejn, g\\x80\\xa4a\", \"joni g\\x80\\xa4anda tkun b'xejn, g\\x80\\xa4allinqas fil-gradi el\", 'xejn, g\\x80\\xa4allinqas fil-gradi elementari u fondament', 'l-gradi elementari u fondamentali tag\\x80\\xa4ha. ledukaz', 'odas as crian\\xcc\\xa4as, nascidas dentro ou fora do matr', 'ascidas dentro ou fora do matrim\\xcc\\xabnio, gozam da me', 'ra do matrim\\xcc\\xabnio, gozam da mesma protec\\xcc\\xa4\\xcc\\xa3o soci', 'ozam da mesma protec\\xcc\\xa4\\xcc\\xa3o social.\\r\\rartigo 26\\xe5\\xa1\\r1. ', '\\xcc\\xa4\\xcc\\xa3o social.\\r\\rartigo 26\\xe5\\xa1\\r1. toda a pessoa tem di', 'o 26\\xe5\\xa1\\r1. toda a pessoa tem direito \\xcc\\xca educa\\xcc\\xa4\\xcc\\xa3o.', 'soa tem direito \\xcc\\xca educa\\xcc\\xa4\\xcc\\xa3o. a educa\\xcc\\xa4\\xcc\\xa3o deve s', 'duca\\xcc\\xa4\\xcc\\xa3o. a educa\\xcc\\xa4\\xcc\\xa3o deve ser gratuita, pelo me', '\\xcc\\xa3o deve ser gratuita, pelo menos a correspondente', 'a, pelo menos a correspondente ao ensino elementar', 'olen \\x80\\x8da\\x80\\x8dipa ba\\x81\\xc1i ulavno arakibe thaj pomo\\x81\\xc1tari', 'ulavno arakibe thaj pomo\\x81\\xc1taripe. sa o \\x80\\x8dhave, bij', 'pomo\\x81\\xc1taripe. sa o \\x80\\x8dhave, bijande ko ni\\x80\\x8dai ja av', '\\x8dhave, bijande ko ni\\x80\\x8dai ja avri olestar, d\\x81_ivdin', '\\x80\\x8dai ja avri olestar, d\\x81_ivdinena jekhutno socijal', ', d\\x81_ivdinena jekhutno socijalno arakiba. d\\x81_eno 2', 'no socijalno arakiba. d\\x81_eno 26 1. sako isiole \\x80\\x8da', '. d\\x81_eno 26 1. sako isiole \\x80\\x8da\\x80\\x8dipa ko sikljobe. o', 'isiole \\x80\\x8da\\x80\\x8dipa ko sikljobe. o sikljoibe trubul te', 'ikljobe. o sikljoibe trubul te ovel bipo\\x80\\x8dimo bare', '\\xcc\\xa8n afara acesteia, se bucur\\x80\\xc4 aceea\\x81\\xd9i protec\\x81\\xa3ie', 'se bucur\\x80\\xc4 aceea\\x81\\xd9i protec\\x81\\xa3ie social\\x80\\xc4. articolul', 'protec\\x81\\xa3ie social\\x80\\xc4. articolul 26 1. orice persoan', ' articolul 26 1. orice persoana are dreptul la \\xcc\\xa8n', 'ce persoana are dreptul la \\xcc\\xa8nv\\x80\\xc4\\x81\\xa3\\x80\\xc4tur\\x80\\xc4. inv\\x80\\xc4\\x81', 'tul la \\xcc\\xa8nv\\x80\\xc4\\x81\\xa3\\x80\\xc4tur\\x80\\xc4. inv\\x80\\xc4\\x81\\xa3\\x80\\xc4m\\xcc\\xa8ntul trebuie s', '\\x80\\xc4. inv\\x80\\xc4\\x81\\xa3\\x80\\xc4m\\xcc\\xa8ntul trebuie s\\x80\\xc4 fie gratuit, cel ', ' trebuie s\\x80\\xc4 fie gratuit, cel pu\\x81\\xa3in \\xcc\\xa8n ceea ce p', 'tuit, cel pu\\x81\\xa3in \\xcc\\xa8n ceea ce prive\\x81\\xd9te inv\\x80\\xc4\\x81\\xa3\\x80\\xc4m\\xcc', ' ceea ce prive\\x81\\xd9te inv\\x80\\xc4\\x81\\xa3\\x80\\xc4m\\xcc\\xa8ntul elementar \\x81\\xd9i ', '_\\x84\\xe0_\\xb5\\x84\\x81\\x84\\xe2____ _\\xab_\\xa1\\x84_\\x84\\xe2 _\\xc0\\x84\\xdb_\\xa1____ ___\\xa1 __\\x84\\x81___\\xb1___', '\\x84\\xe2 _\\xc0\\x84\\xdb_\\xa1____ ___\\xa1 __\\x84\\x81___\\xb1___\\xb5 _\\xc0___\\xc0_\\xb5\\x84\\xe0_\\xb5___\\xfc_\\xb5', '_\\x84\\x81___\\xb1___\\xb5 _\\xc0___\\xc0_\\xb5\\x84\\xe0_\\xb5___\\xfc_\\xb5 _\\xfc _\\xc0______\\x84\\xe4\\x84\\xce. _\\xd5', '\\x84\\xe0_\\xb5___\\xfc_\\xb5 _\\xfc _\\xc0______\\x84\\xe4\\x84\\xce. _\\xd5\\x84\\x81_\\xb5 _\\xab_\\xb5\\x84\\xe2_\\xfc, \\x84\\xdb___', '__\\x84\\xe4\\x84\\xce. _\\xd5\\x84\\x81_\\xb5 _\\xab_\\xb5\\x84\\xe2_\\xfc, \\x84\\xdb___\\xab_\\xfc__\\x84\\xf6_\\xfc_\\xb5\\x84\\x81\\x84\\x8f __ _', '\\xe2_\\xfc, \\x84\\xdb___\\xab_\\xfc__\\x84\\xf6_\\xfc_\\xb5\\x84\\x81\\x84\\x8f __ _\\xb1\\x84\\xdb_\\xa1_\\xbc_\\xb5 _\\xfc_\\xc8_\\xfc ___', '\\xb5\\x84\\x81\\x84\\x8f __ _\\xb1\\x84\\xdb_\\xa1_\\xbc_\\xb5 _\\xfc_\\xc8_\\xfc _____\\xb5 _\\xb1\\x84\\xdb_\\xa1_\\xbc_\\xa1, _\\xab__', '_\\xfc_\\xc8_\\xfc _____\\xb5 _\\xb1\\x84\\xdb_\\xa1_\\xbc_\\xa1, _\\xab___\\xc8_\\xa6__\\x84\\xdc _\\xc0___\\xc8\\x84\\xce_\\xe1_', '_\\xbc_\\xa1, _\\xab___\\xc8_\\xa6__\\x84\\xdc _\\xc0___\\xc8\\x84\\xce_\\xe1_____\\xa1\\x84\\xe2\\x84\\xce\\x84\\x81\\x84\\x8f ___\\xab_\\xfc', '\\xc0___\\xc8\\x84\\xce_\\xe1_____\\xa1\\x84\\xe2\\x84\\xce\\x84\\x81\\x84\\x8f ___\\xab_\\xfc___\\xa1_\\xbc________ \\x84\\x81__\\x84', '_culo 26 1. toda persona tiene derecho a la educac', 'sona tiene derecho a la educaci\\xcc_n. la educaci\\xcc_n ', ' la educaci\\xcc_n. la educaci\\xcc_n debe ser gratuita, a', 'ducaci\\xcc_n debe ser gratuita, al menos en lo concer', 'ratuita, al menos en lo concerniente a la instrucc', ' lo concerniente a la instrucci\\xcc_n elemental y fun', 'a instrucci\\xcc_n elemental y fundamental. la instruc', 'ntal y fundamental. la instrucci\\xcc_n elemental ser\\xcc', 'la instrucci\\xcc_n elemental ser\\xcc\\xc1 obligatoria. la in', 'ental ser\\xcc\\xc1 obligatoria. la instrucci\\xcc_n t\\xcc\\xa9cnica ', \"\\xc4___\\xa1\\x84\\xe2_\\xfc \\x84\\x81\\x84\\xd0__'\\x84_. _\\xd5_____\\xfc _\\xbc__\\x84\\xdb_\\xfc\\x84\\x81\\x84\\xe2\\x84\\xc4\\x84_\\x84\\xe2\\x84\\xce\", ' _\\xd5_____\\xfc _\\xbc__\\x84\\xdb_\\xfc\\x84\\x81\\x84\\xe2\\x84\\xc4\\x84_\\x84\\xe2\\x84\\xce\\x84\\x81\\x84\\x8f ___\\xab___\\xa1_\\xbc_____', '\\x84\\xe2\\x84\\xc4\\x84_\\x84\\xe2\\x84\\xce\\x84\\x81\\x84\\x8f ___\\xab___\\xa1_\\xbc_____\\xfc___\\xfc _\\xc0\\x84\\xdb_\\xa1___\\xa1___\\xfc', '__\\xa1_\\xbc_____\\xfc___\\xfc _\\xc0\\x84\\xdb_\\xa1___\\xa1___\\xfc \\x84\\xe4___\\xab__ ___\\xab\\x84\\xdb\\x84\\xc4_\\xa6', '_\\xa1___\\xa1___\\xfc \\x84\\xe4___\\xab__ ___\\xab\\x84\\xdb\\x84\\xc4_\\xa6_\\xb5____\\x84\\x8f _\\xc0\\x84\\xd0_\\xab \\x84\\xe0_\\xa1', '___\\xab\\x84\\xdb\\x84\\xc4_\\xa6_\\xb5____\\x84\\x8f _\\xc0\\x84\\xd0_\\xab \\x84\\xe0_\\xa1\\x84\\x81 \\x84\\xf6_\\xc8\\x84__\\xb1\\x84\\xc4 \\x84\\xe2_\\xa1 _', '\\xc0\\x84\\xd0_\\xab \\x84\\xe0_\\xa1\\x84\\x81 \\x84\\xf6_\\xc8\\x84__\\xb1\\x84\\xc4 \\x84\\xe2_\\xa1 _\\xc0\\x84\\xd0_\\xab \\x84\\xe0_\\xa1\\x84\\x81 _______', '\\xb1\\x84\\xc4 \\x84\\xe2_\\xa1 _\\xc0\\x84\\xd0_\\xab \\x84\\xe0_\\xa1\\x84\\x81 ________ \\x84\\xdb___\\xe1\\x84\\xd0\\x84\\xdb___\\xa1____', '\\x84\\x81 ________ \\x84\\xdb___\\xe1\\x84\\xd0\\x84\\xdb___\\xa1____\\x84\\x8f. 2. _\\xac_\\xc8\\x84__\\xb1 ____', '\\x84\\xdb___\\xa1____\\x84\\x8f. 2. _\\xac_\\xc8\\x84__\\xb1 _____\\xa6_\\xb5 \\x84\\xc4_\\xbc_\\xc8_\\xa1_\\xab_\\xa1\\x84\\xe2_', ' u napan e ngiyal\\x89\\xdb\\xaa famang ni ketal ko marwel ni ', ' famang ni ketal ko marwel ni bochane liliy, mad-a', 'marwel ni bochane liliy, mad-ad u tabane marwel, k', 'liy, mad-ad u tabane marwel, kanim rok\\x89\\xdb\\xaa, kepummo', ' marwel, kanim rok\\x89\\xdb\\xaa, kepummon ara pilbizir, nge ', '\\xaa, kepummon ara pilbizir, nge kutin bay ban\\x89\\xdb\\xaaen n', 'izir, nge kutin bay ban\\x89\\xdb\\xaaen ni bagaa fan ngak\\x89\\xdb\\xaa ', 'ban\\x89\\xdb\\xaaen ni bagaa fan ngak\\x89\\xdb\\xaa ko ayuw rok\\x89\\xdb\\xaa. 2. m', 'n ngak\\x89\\xdb\\xaa ko ayuw rok\\x89\\xdb\\xaa. 2. ma chitiningen e biti', 'k\\x89\\xdb\\xaa. 2. ma chitiningen e bitir nge bitir e kuba y']\n"
     ]
    }
   ],
   "source": [
    "import csv\n",
    "with open(\"test_alllanguages50.csv\", 'rt') as f:\n",
    "    w = csv.reader(f, dialect='excel')\n",
    "    for row in w:\n",
    "        string_test = list(row)\n",
    "print(len(string_test))\n",
    "l = len(string_test)\n",
    "print(string_test)"
   ]
  },
  {
   "cell_type": "code",
   "execution_count": 37,
   "metadata": {
    "collapsed": false
   },
   "outputs": [],
   "source": [
    "result=[]\n",
    "true_labels=[]\n",
    "for i in range(23):\n",
    "    true_labels+=[i]*10\n",
    "for i in range(230):\n",
    "    ! cd /Users/akankshabindal/Desktop/GT/WSTM/hw3/language-detector-node-master\n",
    "    #! echo $PWD\n",
    "    #print(string_test[i])\n",
    "    test1 = str(string_test[i])\n",
    "    test = !printf \"%s\" \"$test1\"\n",
    "    \n",
    "    test=test[0]\n",
    "    #print(test)\n",
    "    #if(i==150):\n",
    "    #    test = '.\\n\\n\\x0c2'\n",
    "    #if(i==12):\n",
    "    #    result.append('frn')\n",
    "    #    continue\n",
    "    #print(i,{string_test[i]})\n",
    "    try:\n",
    "        a = ! npm run detect \"$test\"\n",
    "        result.append(a[6])\n",
    "        #print(a[6])\n",
    "    except:\n",
    "        print(i,test, a)"
   ]
  },
  {
   "cell_type": "code",
   "execution_count": 38,
   "metadata": {
    "collapsed": false
   },
   "outputs": [
    {
     "name": "stdout",
     "output_type": "stream",
     "text": [
      "['frn', 'frn', 'frn', 'frn', 'frn', 'frn', 'frn', 'frn', 'frn', 'frn', 'eng', 'eng', 'eng', 'eng', 'eng', 'eng', 'eng', 'eng', 'eng', 'eng', 'ger', 'ger', 'ger', 'ger', 'ger', 'ger', 'ger', 'ger', 'ger', 'ger', 'czc', 'czc', 'czc', 'czc', 'czc', 'czc', 'czc', 'czc', 'czc', 'czc', 'dns', 'dns', 'dns', 'dns', 'dns', 'dns', 'dns', 'dns', 'dns', 'dns', 'dut', 'dut', 'dut', 'dut', 'dut', 'dut', 'dut', 'dut', 'dut', 'dut', 'lit', 'lit', 'lit', 'lit', 'lit', 'lit', 'lit', 'lit', 'lit', 'lit', 'hng', 'hng', 'hng', 'hng', 'hng', 'hng', 'hng', 'hng', 'hng', 'hng', 'itn', 'itn', 'itn', 'itn', 'itn', 'itn', 'itn', 'itn', 'ltn1', 'itn', 'lit', 'lat', 'lat', 'lat', 'lit', 'lit', 'lit', 'lit', 'lit', 'lat', 'lat', 'lat', 'itn', 'rmn1', 'lat', 'lat', 'lat', 'lat', 'lat', 'lat', 'lit', 'lit', 'lit', 'lit', 'lit', 'lit', 'lit', 'lit', 'lit', 'lit', 'ltn', 'ltn', 'ltn', 'ltn', 'ltn', 'ltn1', 'ltn', 'ltn1', 'ltn', 'ltn', 'ltn1', 'ltn1', 'ltn1', 'ltn1', 'ltn1', 'ltn1', 'ltn1', 'ltn1', 'ltn1', 'ltn1', 'lux', 'lux', 'lux', 'lux', 'lux', 'lux', 'lux', 'lux', 'lux', 'lux', 'mls', 'mls', 'mls', 'mls', 'mls', 'mls', 'mls', 'mls', 'mls', 'mls', 'por', 'por', 'por', 'por', 'por', 'lit', 'por', 'por', 'por', 'spn', 'rmn1', 'rmn1', 'rmn1', 'rmn1', 'rmn1', 'rmn1', 'rmn1', 'rmn1', 'rmn1', 'rmn1', 'rum', 'rum', 'rum', 'rum', 'rum', 'rum', 'rum', 'rum', 'rum', 'rum', 'lat', 'lat', 'lat', 'lat', 'lat', 'lat', 'lat', 'lat', 'lat', 'lat', 'spn', 'spn', 'spn', 'spn', 'spn', 'spn', 'spn', 'spn', 'spn', 'spn', 'lat', 'lat', 'lat', 'lat', 'lat', 'lat', 'lat', 'lat', 'lat', 'lat', 'yps', 'yps', 'yps', 'yps', 'yps', 'yps', 'yps', 'yps', 'yps', 'yps']\n",
      "[[10  0  0  0  0  0  0  0  0  0  0  0  0  0  0  0  0  0  0  0  0  0  0]\n",
      " [ 0 10  0  0  0  0  0  0  0  0  0  0  0  0  0  0  0  0  0  0  0  0  0]\n",
      " [ 0  0 10  0  0  0  0  0  0  0  0  0  0  0  0  0  0  0  0  0  0  0  0]\n",
      " [ 0  0  0 10  0  0  0  0  0  0  0  0  0  0  0  0  0  0  0  0  0  0  0]\n",
      " [ 0  0  0  0 10  0  0  0  0  0  0  0  0  0  0  0  0  0  0  0  0  0  0]\n",
      " [ 0  0  0  0  0 10  0  0  0  0  0  0  0  0  0  0  0  0  0  0  0  0  0]\n",
      " [ 0  0  0  0  0  0  0  0  0  0  0 10  0  0  0  0  0  0  0  0  0  0  0]\n",
      " [ 0  0  0  0  0  0  0 10  0  0  0  0  0  0  0  0  0  0  0  0  0  0  0]\n",
      " [ 0  0  0  0  0  0  0  0  9  0  0  0  0  1  0  0  0  0  0  0  0  0  0]\n",
      " [ 0  0  0  0  0  0  0  0  0  0  4  6  0  0  0  0  0  0  0  0  0  0  0]\n",
      " [ 0  0  0  0  0  0  0  0  1  0  8  0  0  0  0  0  0  1  0  0  0  0  0]\n",
      " [ 0  0  0  0  0  0  0  0  0  0  0 10  0  0  0  0  0  0  0  0  0  0  0]\n",
      " [ 0  0  0  0  0  0  0  0  0  0  0  0  8  2  0  0  0  0  0  0  0  0  0]\n",
      " [ 0  0  0  0  0  0  0  0  0  0  0  0  0 10  0  0  0  0  0  0  0  0  0]\n",
      " [ 0  0  0  0  0  0  0  0  0  0  0  0  0  0 10  0  0  0  0  0  0  0  0]\n",
      " [ 0  0  0  0  0  0  0  0  0  0  0  0  0  0  0 10  0  0  0  0  0  0  0]\n",
      " [ 0  0  0  0  0  0  0  0  0  0  0  1  0  0  0  0  8  0  0  0  1  0  0]\n",
      " [ 0  0  0  0  0  0  0  0  0  0  0  0  0  0  0  0  0 10  0  0  0  0  0]\n",
      " [ 0  0  0  0  0  0  0  0  0  0  0  0  0  0  0  0  0  0 10  0  0  0  0]\n",
      " [ 0  0  0  0  0  0  0  0  0  0 10  0  0  0  0  0  0  0  0  0  0  0  0]\n",
      " [ 0  0  0  0  0  0  0  0  0  0  0  0  0  0  0  0  0  0  0  0 10  0  0]\n",
      " [ 0  0  0  0  0  0  0  0  0  0 10  0  0  0  0  0  0  0  0  0  0  0  0]\n",
      " [ 0  0  0  0  0  0  0  0  0  0  0  0  0  0  0  0  0  0  0  0  0  0 10]]\n",
      "0.795652173913\n"
     ]
    }
   ],
   "source": [
    "#print(len(result))\n",
    "from sklearn.metrics import roc_auc_score, confusion_matrix, accuracy_score, auc, roc_curve\n",
    "#dct={'frn':1,'eng':0}\n",
    "dct = {'eng':1, 'frn':0, 'ger':2, 'czc':3,'dns':4,'dut':5,'grk':6,'hng':7,'itn':8,'jpn':9,'lat':10,'lit':11,\n",
    "       'ltn':12,'ltn1':13,'lux':14,'mls':15,'por':16,'rmn1':17,'rum':18,'rus':19,'spn':20,'ukr':21,'yps':22}\n",
    "pred_y = [dct[x] for x in result ]\n",
    "print(result)\n",
    "print (confusion_matrix(true_labels, pred_y))\n",
    "print (accuracy_score(true_labels, pred_y))"
   ]
  },
  {
   "cell_type": "code",
   "execution_count": null,
   "metadata": {
    "collapsed": true
   },
   "outputs": [],
   "source": []
  }
 ],
 "metadata": {
  "kernelspec": {
   "display_name": "Python 2",
   "language": "python",
   "name": "python2"
  },
  "language_info": {
   "codemirror_mode": {
    "name": "ipython",
    "version": 2
   },
   "file_extension": ".py",
   "mimetype": "text/x-python",
   "name": "python",
   "nbconvert_exporter": "python",
   "pygments_lexer": "ipython2",
   "version": "2.7.13"
  }
 },
 "nbformat": 4,
 "nbformat_minor": 2
}
